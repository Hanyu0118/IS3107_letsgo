{
 "cells": [
  {
   "cell_type": "code",
   "execution_count": null,
   "id": "226835da",
   "metadata": {},
   "outputs": [],
   "source": [
    "years = [2017, 2018, 2019, 2020, 2021]\n",
    "# album: [id, name, total_available_markets, total_tracks, genres, popularity]\n",
    "# artist: [id, name, number of total followers, genres, popularity]\n",
    "\n",
    "for year in years:\n",
    "    url = url_years[year]\n",
    "    print(len(url))\n",
    "    tid = []\n",
    "    albums = []\n",
    "    artists = []\n",
    "    for i in range(0, len(url), 50):\n",
    "        try:\n",
    "            if (i+50) < len(url): \n",
    "                info = sp.tracks(list(url.iloc[i:(i+50)]['id']))['tracks']\n",
    "            else:\n",
    "                info = sp.tracks(list(url.iloc[i:]['id']))['tracks']\n",
    "        except:\n",
    "                client_credentials_manager = SpotifyClientCredentials(client_id=client_id,client_secret=client_secret)\n",
    "                sp = spotipy.Spotify(client_credentials_manager=client_credentials_manager, requests_timeout=5, retries=5)\n",
    "        finally:\n",
    "            if (i+50) < len(url): \n",
    "                info = sp.tracks(list(url.iloc[i:(i+50)]['id']))['tracks']\n",
    "            else:\n",
    "                info = sp.tracks(list(url.iloc[i:]['id']))['tracks']\n",
    "            for t in info:\n",
    "                tid.append(t['id'])\n",
    "                albums.append(t['album']['id'])\n",
    "                artists.append([x['id'] for x in t['artists']])\n",
    "    pd.DataFrame({'track_id':tid, 'album_id': albums, 'artists_id': artists}).to_csv(f'Data/ids {year}.csv')\n",
    "    print(f\"{year} done\")  "
   ]
  }
 ],
 "metadata": {
  "kernelspec": {
   "display_name": "Python 3 (ipykernel)",
   "language": "python",
   "name": "python3"
  },
  "language_info": {
   "codemirror_mode": {
    "name": "ipython",
    "version": 3
   },
   "file_extension": ".py",
   "mimetype": "text/x-python",
   "name": "python",
   "nbconvert_exporter": "python",
   "pygments_lexer": "ipython3",
   "version": "3.9.16"
  }
 },
 "nbformat": 4,
 "nbformat_minor": 5
}
