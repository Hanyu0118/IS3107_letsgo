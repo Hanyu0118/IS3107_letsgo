{
 "cells": [
  {
   "cell_type": "code",
   "execution_count": 15,
   "id": "9fdfdd6e",
   "metadata": {},
   "outputs": [
    {
     "name": "stdout",
     "output_type": "stream",
     "text": [
      "The google.cloud.bigquery extension is already loaded. To reload it, use:\n",
      "  %reload_ext google.cloud.bigquery\n"
     ]
    }
   ],
   "source": [
    "from google.cloud import bigquery\n",
    "import pandas_gbq\n",
    "%load_ext google.cloud.bigquery\n",
    "\n",
    "# Set your default project here\n",
    "pandas_gbq.context.project = 'snappy-boulder-378707'\n",
    "pandas_gbq.context.dialect = 'standard'\n",
    "\n",
    "import sys\n",
    "import warnings\n",
    "if not sys.warnoptions:\n",
    "    warnings.simplefilter(\"ignore\")\n",
    "\n",
    "import pandas as pd\n",
    "import numpy as np\n",
    "import os\n",
    "import glob\n",
    "import matplotlib.pyplot as plt\n",
    "import seaborn as sns\n",
    "from sklearn.impute import SimpleImputer\n",
    "\n",
    "os.environ[\"GOOGLE_APPLICATION_CREDENTIALS\"] = \"../BigQuery/letsgo-snappy-boulder-378707-4b7d46801fd1.json\"\n",
    "\n",
    "# Construct a BigQuery client object.\n",
    "client = bigquery.Client()\n",
    "\n",
    "from statsmodels.formula.api import ols"
   ]
  },
  {
   "cell_type": "code",
   "execution_count": 18,
   "id": "cc23c92c",
   "metadata": {},
   "outputs": [
    {
     "data": {
      "application/vnd.jupyter.widget-view+json": {
       "model_id": "7c7b247d82384a0d9aa895fa0abc35e2",
       "version_major": 2,
       "version_minor": 0
      },
      "text/plain": [
       "Query is running:   0%|          |"
      ]
     },
     "metadata": {},
     "output_type": "display_data"
    },
    {
     "data": {
      "application/vnd.jupyter.widget-view+json": {
       "model_id": "18a7fb46477e40d9b3c57722d5d61f61",
       "version_major": 2,
       "version_minor": 0
      },
      "text/plain": [
       "Downloading:   0%|          |"
      ]
     },
     "metadata": {},
     "output_type": "display_data"
    }
   ],
   "source": [
    "%%bigquery audio_feature\n",
    "SELECT * FROM snappy-boulder-378707.track.track_features"
   ]
  },
  {
   "cell_type": "code",
   "execution_count": 19,
   "id": "79ea0d91",
   "metadata": {},
   "outputs": [
    {
     "data": {
      "text/html": [
       "<div>\n",
       "<style scoped>\n",
       "    .dataframe tbody tr th:only-of-type {\n",
       "        vertical-align: middle;\n",
       "    }\n",
       "\n",
       "    .dataframe tbody tr th {\n",
       "        vertical-align: top;\n",
       "    }\n",
       "\n",
       "    .dataframe thead th {\n",
       "        text-align: right;\n",
       "    }\n",
       "</style>\n",
       "<table border=\"1\" class=\"dataframe\">\n",
       "  <thead>\n",
       "    <tr style=\"text-align: right;\">\n",
       "      <th></th>\n",
       "      <th>int64_field_0</th>\n",
       "      <th>danceability</th>\n",
       "      <th>energy</th>\n",
       "      <th>key</th>\n",
       "      <th>loudness</th>\n",
       "      <th>mode</th>\n",
       "      <th>speechiness</th>\n",
       "      <th>acousticness</th>\n",
       "      <th>instrumentalness</th>\n",
       "      <th>liveness</th>\n",
       "      <th>valence</th>\n",
       "      <th>tempo</th>\n",
       "      <th>type</th>\n",
       "      <th>id</th>\n",
       "      <th>uri</th>\n",
       "      <th>track_href</th>\n",
       "      <th>analysis_url</th>\n",
       "      <th>duration_ms</th>\n",
       "      <th>time_signature</th>\n",
       "    </tr>\n",
       "  </thead>\n",
       "  <tbody>\n",
       "    <tr>\n",
       "      <th>0</th>\n",
       "      <td>22</td>\n",
       "      <td>0.761</td>\n",
       "      <td>0.829</td>\n",
       "      <td>0</td>\n",
       "      <td>-3.203</td>\n",
       "      <td>0</td>\n",
       "      <td>0.0681</td>\n",
       "      <td>0.1670</td>\n",
       "      <td>0.000000</td>\n",
       "      <td>0.1890</td>\n",
       "      <td>0.813</td>\n",
       "      <td>92.033</td>\n",
       "      <td>audio_features</td>\n",
       "      <td>6stYbAJgTszHAHZMPxWWCY</td>\n",
       "      <td>spotify:track:6stYbAJgTszHAHZMPxWWCY</td>\n",
       "      <td>https://api.spotify.com/v1/tracks/6stYbAJgTszH...</td>\n",
       "      <td>https://api.spotify.com/v1/audio-analysis/6stY...</td>\n",
       "      <td>252003</td>\n",
       "      <td>4</td>\n",
       "    </tr>\n",
       "    <tr>\n",
       "      <th>1</th>\n",
       "      <td>61</td>\n",
       "      <td>0.702</td>\n",
       "      <td>0.730</td>\n",
       "      <td>0</td>\n",
       "      <td>-5.173</td>\n",
       "      <td>0</td>\n",
       "      <td>0.0990</td>\n",
       "      <td>0.4250</td>\n",
       "      <td>0.000001</td>\n",
       "      <td>0.1480</td>\n",
       "      <td>0.879</td>\n",
       "      <td>173.967</td>\n",
       "      <td>audio_features</td>\n",
       "      <td>1iEwyiSLAunPR6uouANE0O</td>\n",
       "      <td>spotify:track:1iEwyiSLAunPR6uouANE0O</td>\n",
       "      <td>https://api.spotify.com/v1/tracks/1iEwyiSLAunP...</td>\n",
       "      <td>https://api.spotify.com/v1/audio-analysis/1iEw...</td>\n",
       "      <td>206693</td>\n",
       "      <td>4</td>\n",
       "    </tr>\n",
       "    <tr>\n",
       "      <th>2</th>\n",
       "      <td>64</td>\n",
       "      <td>0.751</td>\n",
       "      <td>0.742</td>\n",
       "      <td>0</td>\n",
       "      <td>-4.393</td>\n",
       "      <td>0</td>\n",
       "      <td>0.1200</td>\n",
       "      <td>0.3670</td>\n",
       "      <td>0.000000</td>\n",
       "      <td>0.0946</td>\n",
       "      <td>0.850</td>\n",
       "      <td>173.941</td>\n",
       "      <td>audio_features</td>\n",
       "      <td>4QsPTKvdpgkA7mBAvclZTa</td>\n",
       "      <td>spotify:track:4QsPTKvdpgkA7mBAvclZTa</td>\n",
       "      <td>https://api.spotify.com/v1/tracks/4QsPTKvdpgkA...</td>\n",
       "      <td>https://api.spotify.com/v1/audio-analysis/4QsP...</td>\n",
       "      <td>218640</td>\n",
       "      <td>4</td>\n",
       "    </tr>\n",
       "    <tr>\n",
       "      <th>3</th>\n",
       "      <td>66</td>\n",
       "      <td>0.837</td>\n",
       "      <td>0.605</td>\n",
       "      <td>0</td>\n",
       "      <td>-6.122</td>\n",
       "      <td>0</td>\n",
       "      <td>0.0798</td>\n",
       "      <td>0.0124</td>\n",
       "      <td>0.000000</td>\n",
       "      <td>0.0715</td>\n",
       "      <td>0.723</td>\n",
       "      <td>107.998</td>\n",
       "      <td>audio_features</td>\n",
       "      <td>1A3yLIqelu1D7MCtw06Cu7</td>\n",
       "      <td>spotify:track:1A3yLIqelu1D7MCtw06Cu7</td>\n",
       "      <td>https://api.spotify.com/v1/tracks/1A3yLIqelu1D...</td>\n",
       "      <td>https://api.spotify.com/v1/audio-analysis/1A3y...</td>\n",
       "      <td>149160</td>\n",
       "      <td>4</td>\n",
       "    </tr>\n",
       "    <tr>\n",
       "      <th>4</th>\n",
       "      <td>67</td>\n",
       "      <td>0.808</td>\n",
       "      <td>0.590</td>\n",
       "      <td>0</td>\n",
       "      <td>-5.699</td>\n",
       "      <td>0</td>\n",
       "      <td>0.0455</td>\n",
       "      <td>0.0319</td>\n",
       "      <td>0.000000</td>\n",
       "      <td>0.1690</td>\n",
       "      <td>0.745</td>\n",
       "      <td>110.029</td>\n",
       "      <td>audio_features</td>\n",
       "      <td>4UHZMWgKDjJ1zS0t6f6qPv</td>\n",
       "      <td>spotify:track:4UHZMWgKDjJ1zS0t6f6qPv</td>\n",
       "      <td>https://api.spotify.com/v1/tracks/4UHZMWgKDjJ1...</td>\n",
       "      <td>https://api.spotify.com/v1/audio-analysis/4UHZ...</td>\n",
       "      <td>170347</td>\n",
       "      <td>4</td>\n",
       "    </tr>\n",
       "  </tbody>\n",
       "</table>\n",
       "</div>"
      ],
      "text/plain": [
       "   int64_field_0  danceability  energy  key  loudness  mode  speechiness  \\\n",
       "0             22         0.761   0.829    0    -3.203     0       0.0681   \n",
       "1             61         0.702   0.730    0    -5.173     0       0.0990   \n",
       "2             64         0.751   0.742    0    -4.393     0       0.1200   \n",
       "3             66         0.837   0.605    0    -6.122     0       0.0798   \n",
       "4             67         0.808   0.590    0    -5.699     0       0.0455   \n",
       "\n",
       "   acousticness  instrumentalness  liveness  valence    tempo            type  \\\n",
       "0        0.1670          0.000000    0.1890    0.813   92.033  audio_features   \n",
       "1        0.4250          0.000001    0.1480    0.879  173.967  audio_features   \n",
       "2        0.3670          0.000000    0.0946    0.850  173.941  audio_features   \n",
       "3        0.0124          0.000000    0.0715    0.723  107.998  audio_features   \n",
       "4        0.0319          0.000000    0.1690    0.745  110.029  audio_features   \n",
       "\n",
       "                       id                                   uri  \\\n",
       "0  6stYbAJgTszHAHZMPxWWCY  spotify:track:6stYbAJgTszHAHZMPxWWCY   \n",
       "1  1iEwyiSLAunPR6uouANE0O  spotify:track:1iEwyiSLAunPR6uouANE0O   \n",
       "2  4QsPTKvdpgkA7mBAvclZTa  spotify:track:4QsPTKvdpgkA7mBAvclZTa   \n",
       "3  1A3yLIqelu1D7MCtw06Cu7  spotify:track:1A3yLIqelu1D7MCtw06Cu7   \n",
       "4  4UHZMWgKDjJ1zS0t6f6qPv  spotify:track:4UHZMWgKDjJ1zS0t6f6qPv   \n",
       "\n",
       "                                          track_href  \\\n",
       "0  https://api.spotify.com/v1/tracks/6stYbAJgTszH...   \n",
       "1  https://api.spotify.com/v1/tracks/1iEwyiSLAunP...   \n",
       "2  https://api.spotify.com/v1/tracks/4QsPTKvdpgkA...   \n",
       "3  https://api.spotify.com/v1/tracks/1A3yLIqelu1D...   \n",
       "4  https://api.spotify.com/v1/tracks/4UHZMWgKDjJ1...   \n",
       "\n",
       "                                        analysis_url  duration_ms  \\\n",
       "0  https://api.spotify.com/v1/audio-analysis/6stY...       252003   \n",
       "1  https://api.spotify.com/v1/audio-analysis/1iEw...       206693   \n",
       "2  https://api.spotify.com/v1/audio-analysis/4QsP...       218640   \n",
       "3  https://api.spotify.com/v1/audio-analysis/1A3y...       149160   \n",
       "4  https://api.spotify.com/v1/audio-analysis/4UHZ...       170347   \n",
       "\n",
       "   time_signature  \n",
       "0               4  \n",
       "1               4  \n",
       "2               4  \n",
       "3               4  \n",
       "4               4  "
      ]
     },
     "execution_count": 19,
     "metadata": {},
     "output_type": "execute_result"
    }
   ],
   "source": [
    "audio_feature.head()"
   ]
  },
  {
   "cell_type": "code",
   "execution_count": 20,
   "id": "32da4499",
   "metadata": {},
   "outputs": [
    {
     "data": {
      "text/html": [
       "<div>\n",
       "<style scoped>\n",
       "    .dataframe tbody tr th:only-of-type {\n",
       "        vertical-align: middle;\n",
       "    }\n",
       "\n",
       "    .dataframe tbody tr th {\n",
       "        vertical-align: top;\n",
       "    }\n",
       "\n",
       "    .dataframe thead th {\n",
       "        text-align: right;\n",
       "    }\n",
       "</style>\n",
       "<table border=\"1\" class=\"dataframe\">\n",
       "  <thead>\n",
       "    <tr style=\"text-align: right;\">\n",
       "      <th></th>\n",
       "      <th>Unnamed: 0</th>\n",
       "      <th>track_id</th>\n",
       "      <th>id</th>\n",
       "      <th>name</th>\n",
       "      <th>followers</th>\n",
       "      <th>genres</th>\n",
       "      <th>popularity</th>\n",
       "    </tr>\n",
       "  </thead>\n",
       "  <tbody>\n",
       "    <tr>\n",
       "      <th>0</th>\n",
       "      <td>0</td>\n",
       "      <td>6EOKwHETwSkZ9gW2b6ASE0</td>\n",
       "      <td>4Ga1P7PMIsmqEZqhYZQgDo</td>\n",
       "      <td>Lil Tecca</td>\n",
       "      <td>5814168</td>\n",
       "      <td>['melodic rap', 'pluggnb', 'rap', 'trap', 'vir...</td>\n",
       "      <td>79</td>\n",
       "    </tr>\n",
       "    <tr>\n",
       "      <th>1</th>\n",
       "      <td>1</td>\n",
       "      <td>0a1LpYLrp1VNwEekoqFJx5</td>\n",
       "      <td>0kSazizYsGZQYKRfROiVb8</td>\n",
       "      <td>Coma</td>\n",
       "      <td>79</td>\n",
       "      <td>[]</td>\n",
       "      <td>5</td>\n",
       "    </tr>\n",
       "    <tr>\n",
       "      <th>2</th>\n",
       "      <td>2</td>\n",
       "      <td>1esVK0wgkpFJ31eHvHZ7M9</td>\n",
       "      <td>3qNVuliS40BLgXGxhdBdqu</td>\n",
       "      <td>TAEYEON</td>\n",
       "      <td>2703917</td>\n",
       "      <td>['k-pop', 'pop']</td>\n",
       "      <td>70</td>\n",
       "    </tr>\n",
       "    <tr>\n",
       "      <th>3</th>\n",
       "      <td>3</td>\n",
       "      <td>1RgSs1Jy3QHiacsnMxAAL2</td>\n",
       "      <td>44T03OWDUjwDgg4IYgFCWi</td>\n",
       "      <td>MARUV</td>\n",
       "      <td>287582</td>\n",
       "      <td>['russian pop', 'ukrainian pop']</td>\n",
       "      <td>46</td>\n",
       "    </tr>\n",
       "    <tr>\n",
       "      <th>4</th>\n",
       "      <td>4</td>\n",
       "      <td>7zFBtYAVURF3bUVqEQ6UUu</td>\n",
       "      <td>2KC9Qb60EaY0kW4eH68vr3</td>\n",
       "      <td>ITZY</td>\n",
       "      <td>5263838</td>\n",
       "      <td>['k-pop girl group']</td>\n",
       "      <td>76</td>\n",
       "    </tr>\n",
       "  </tbody>\n",
       "</table>\n",
       "</div>"
      ],
      "text/plain": [
       "   Unnamed: 0                track_id                      id       name  \\\n",
       "0           0  6EOKwHETwSkZ9gW2b6ASE0  4Ga1P7PMIsmqEZqhYZQgDo  Lil Tecca   \n",
       "1           1  0a1LpYLrp1VNwEekoqFJx5  0kSazizYsGZQYKRfROiVb8       Coma   \n",
       "2           2  1esVK0wgkpFJ31eHvHZ7M9  3qNVuliS40BLgXGxhdBdqu    TAEYEON   \n",
       "3           3  1RgSs1Jy3QHiacsnMxAAL2  44T03OWDUjwDgg4IYgFCWi      MARUV   \n",
       "4           4  7zFBtYAVURF3bUVqEQ6UUu  2KC9Qb60EaY0kW4eH68vr3       ITZY   \n",
       "\n",
       "   followers                                             genres  popularity  \n",
       "0    5814168  ['melodic rap', 'pluggnb', 'rap', 'trap', 'vir...          79  \n",
       "1         79                                                 []           5  \n",
       "2    2703917                                   ['k-pop', 'pop']          70  \n",
       "3     287582                   ['russian pop', 'ukrainian pop']          46  \n",
       "4    5263838                               ['k-pop girl group']          76  "
      ]
     },
     "execution_count": 20,
     "metadata": {},
     "output_type": "execute_result"
    }
   ],
   "source": [
    "tracks = pd.read_csv(\"artist2019.csv\")\n",
    "tracks.head()"
   ]
  },
  {
   "cell_type": "code",
   "execution_count": 21,
   "id": "597a5a39",
   "metadata": {},
   "outputs": [
    {
     "data": {
      "text/plain": [
       "(9538, 7)"
      ]
     },
     "execution_count": 21,
     "metadata": {},
     "output_type": "execute_result"
    }
   ],
   "source": [
    "tracks.shape"
   ]
  },
  {
   "cell_type": "code",
   "execution_count": 22,
   "id": "bab6cada",
   "metadata": {},
   "outputs": [
    {
     "data": {
      "text/plain": [
       "(10000, 19)"
      ]
     },
     "execution_count": 22,
     "metadata": {},
     "output_type": "execute_result"
    }
   ],
   "source": [
    "audio_feature.shape"
   ]
  },
  {
   "cell_type": "code",
   "execution_count": 24,
   "id": "da421d24",
   "metadata": {},
   "outputs": [
    {
     "data": {
      "text/plain": [
       "(0, 25)"
      ]
     },
     "execution_count": 24,
     "metadata": {},
     "output_type": "execute_result"
    }
   ],
   "source": [
    "df = pd.merge(tracks, audio_feature, on=\"id\", how=\"inner\")\n",
    "df.shape"
   ]
  },
  {
   "cell_type": "code",
   "execution_count": null,
   "id": "f3f3c3fc",
   "metadata": {},
   "outputs": [],
   "source": []
  }
 ],
 "metadata": {
  "kernelspec": {
   "display_name": "Python 3 (ipykernel)",
   "language": "python",
   "name": "python3"
  },
  "language_info": {
   "codemirror_mode": {
    "name": "ipython",
    "version": 3
   },
   "file_extension": ".py",
   "mimetype": "text/x-python",
   "name": "python",
   "nbconvert_exporter": "python",
   "pygments_lexer": "ipython3",
   "version": "3.9.7"
  }
 },
 "nbformat": 4,
 "nbformat_minor": 5
}
