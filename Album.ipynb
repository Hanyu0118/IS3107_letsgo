{
 "cells": [
  {
   "cell_type": "code",
   "execution_count": 1,
   "id": "24368249",
   "metadata": {},
   "outputs": [],
   "source": [
    "import numpy as np\n",
    "import pandas as pd\n",
    "import matplotlib.pyplot as plt\n",
    "import seaborn as sns\n",
    "import json\n",
    "import spotipy\n",
    "from spotipy.oauth2 import SpotifyClientCredentials\n",
    "import requests\n",
    "from spotipy.oauth2 import SpotifyOAuth"
   ]
  },
  {
   "cell_type": "code",
   "execution_count": 2,
   "id": "cd436e40",
   "metadata": {},
   "outputs": [
    {
     "data": {
      "text/plain": [
       "<spotipy.client.Spotify at 0x1b5bae35760>"
      ]
     },
     "execution_count": 2,
     "metadata": {},
     "output_type": "execute_result"
    }
   ],
   "source": [
    "CLIENT_ID = \"1df428c209e1446393cb65f76ad8b561\"\n",
    "CLIENT_SECRET = \"9aa98cbea9044e5da7773b54d15c8a45\"\n",
    "client_credentials_manager = SpotifyClientCredentials(client_id=CLIENT_ID, client_secret=CLIENT_SECRET)\n",
    "sp = spotipy.Spotify(client_credentials_manager=client_credentials_manager,  requests_timeout=5, retries=5)\n",
    "sp"
   ]
  },
  {
   "cell_type": "markdown",
   "id": "6eef577a",
   "metadata": {},
   "source": [
    "### Read IDs"
   ]
  },
  {
   "cell_type": "code",
   "execution_count": 3,
   "id": "c54a92c4",
   "metadata": {},
   "outputs": [],
   "source": [
    "years = [2017, 2018, 2019, 2020, 2021]\n",
    "ids_years = {}\n",
    "for year in years:\n",
    "    ids_years[year] = pd.read_csv(f\"data/ids {year}.csv\")"
   ]
  },
  {
   "cell_type": "code",
   "execution_count": 4,
   "id": "cf38c1f7",
   "metadata": {},
   "outputs": [
    {
     "data": {
      "text/html": [
       "<div>\n",
       "<style scoped>\n",
       "    .dataframe tbody tr th:only-of-type {\n",
       "        vertical-align: middle;\n",
       "    }\n",
       "\n",
       "    .dataframe tbody tr th {\n",
       "        vertical-align: top;\n",
       "    }\n",
       "\n",
       "    .dataframe thead th {\n",
       "        text-align: right;\n",
       "    }\n",
       "</style>\n",
       "<table border=\"1\" class=\"dataframe\">\n",
       "  <thead>\n",
       "    <tr style=\"text-align: right;\">\n",
       "      <th></th>\n",
       "      <th>Unnamed: 0</th>\n",
       "      <th>track_id</th>\n",
       "      <th>album_id</th>\n",
       "      <th>artists_id</th>\n",
       "    </tr>\n",
       "  </thead>\n",
       "  <tbody>\n",
       "    <tr>\n",
       "      <th>0</th>\n",
       "      <td>0</td>\n",
       "      <td>6mICuAdrwEjh6Y6lroV2Kg</td>\n",
       "      <td>6bUxh58rYTL67FS8dyTKMN</td>\n",
       "      <td>['0EmeFodog0BfCgMzAIvKQp', '1r4hJ1h58CWwUQe3Mx...</td>\n",
       "    </tr>\n",
       "    <tr>\n",
       "      <th>1</th>\n",
       "      <td>1</td>\n",
       "      <td>7DM4BPaS7uofFul3ywMe46</td>\n",
       "      <td>1FkaJUwfqLdQdSmRPBlw6l</td>\n",
       "      <td>['7slfeZO9LsJbWgpkIoXBUJ', '1r4hJ1h58CWwUQe3Mx...</td>\n",
       "    </tr>\n",
       "    <tr>\n",
       "      <th>2</th>\n",
       "      <td>2</td>\n",
       "      <td>3AEZUABDXNtecAOSC1qTfo</td>\n",
       "      <td>0YLrAWUbY0nyM7PFtqnYld</td>\n",
       "      <td>['0eecdvMrqBftK0M1VKhaF4']</td>\n",
       "    </tr>\n",
       "    <tr>\n",
       "      <th>3</th>\n",
       "      <td>3</td>\n",
       "      <td>6rQSrBHf7HlZjtcMZ4S4bO</td>\n",
       "      <td>2LYwooMTH1iJeBvWyXXWUf</td>\n",
       "      <td>['1vyhD5VmyZ7KMfW5gqLgo5', '2RdwBSPQiwcmiDo9ki...</td>\n",
       "    </tr>\n",
       "    <tr>\n",
       "      <th>4</th>\n",
       "      <td>4</td>\n",
       "      <td>58IL315gMSTD37DOZPJ2hf</td>\n",
       "      <td>2zrLk90b4qjmrxRZKyIY7X</td>\n",
       "      <td>['4VMYDCV2IEDYJArk749S6m']</td>\n",
       "    </tr>\n",
       "  </tbody>\n",
       "</table>\n",
       "</div>"
      ],
      "text/plain": [
       "   Unnamed: 0                track_id                album_id  \\\n",
       "0           0  6mICuAdrwEjh6Y6lroV2Kg  6bUxh58rYTL67FS8dyTKMN   \n",
       "1           1  7DM4BPaS7uofFul3ywMe46  1FkaJUwfqLdQdSmRPBlw6l   \n",
       "2           2  3AEZUABDXNtecAOSC1qTfo  0YLrAWUbY0nyM7PFtqnYld   \n",
       "3           3  6rQSrBHf7HlZjtcMZ4S4bO  2LYwooMTH1iJeBvWyXXWUf   \n",
       "4           4  58IL315gMSTD37DOZPJ2hf  2zrLk90b4qjmrxRZKyIY7X   \n",
       "\n",
       "                                          artists_id  \n",
       "0  ['0EmeFodog0BfCgMzAIvKQp', '1r4hJ1h58CWwUQe3Mx...  \n",
       "1  ['7slfeZO9LsJbWgpkIoXBUJ', '1r4hJ1h58CWwUQe3Mx...  \n",
       "2                         ['0eecdvMrqBftK0M1VKhaF4']  \n",
       "3  ['1vyhD5VmyZ7KMfW5gqLgo5', '2RdwBSPQiwcmiDo9ki...  \n",
       "4                         ['4VMYDCV2IEDYJArk749S6m']  "
      ]
     },
     "execution_count": 4,
     "metadata": {},
     "output_type": "execute_result"
    }
   ],
   "source": [
    "year = 2017\n",
    "ids = ids_years[year]\n",
    "ids.head()"
   ]
  },
  {
   "cell_type": "markdown",
   "id": "5d002dba",
   "metadata": {},
   "source": [
    "### Get Albums"
   ]
  },
  {
   "cell_type": "code",
   "execution_count": 5,
   "id": "6f02ee7e",
   "metadata": {},
   "outputs": [],
   "source": [
    "from tqdm import tqdm"
   ]
  },
  {
   "cell_type": "code",
   "execution_count": 6,
   "id": "a110dfad",
   "metadata": {},
   "outputs": [],
   "source": [
    "album_id = ids.loc[0, 'album_id']"
   ]
  },
  {
   "cell_type": "code",
   "execution_count": null,
   "id": "057cf4e9",
   "metadata": {},
   "outputs": [],
   "source": [
    "sp.album(album_id)"
   ]
  },
  {
   "cell_type": "code",
   "execution_count": null,
   "id": "f872b369",
   "metadata": {},
   "outputs": [],
   "source": [
    "# id, name, total_available_markets, total_tracks, genres, popularity\n",
    "# name = []\n",
    "# num_mar = []\n",
    "# num_tracks = []\n",
    "# genres = []\n",
    "# popularity = []\n",
    "\n",
    "# print(len(ids['album_id']))\n",
    "# for i in tqdm(range(len(ids['album_id']))):\n",
    "#     al = sp.album(ids.loc[i, 'album_id'])\n",
    "#     name.append(al['name'])\n",
    "#     num_mar.append(len(al['available_markets']))\n",
    "#     num_tracks.append(al['total_tracks'])\n",
    "# print(f\"{year} done\")"
   ]
  },
  {
   "cell_type": "code",
   "execution_count": null,
   "id": "07e4de9d",
   "metadata": {},
   "outputs": [
    {
     "name": "stdout",
     "output_type": "stream",
     "text": [
      "40111\n"
     ]
    },
    {
     "name": "stderr",
     "output_type": "stream",
     "text": [
      "\r",
      "  0%|          | 0/40111 [00:00<?, ?it/s]"
     ]
    }
   ],
   "source": [
    "for year in years:\n",
    "    albums = pd.DataFrame(columns=[\n",
    "        'id','name','available_markets','total_tracks','genres','popularity'\n",
    "    ])\n",
    "\n",
    "    print(len(ids['album_id']))\n",
    "    for i in tqdm(range(len(ids['album_id']))):\n",
    "        try:\n",
    "            album_id = ids.loc[i, 'album_id']\n",
    "            al = sp.album(album_id)\n",
    "            albums.loc[i,'id'] = album_id\n",
    "            albums.loc[i,'name'] = al['name']\n",
    "            albums.loc[i,'available_markets'] = len(al['available_markets'])\n",
    "            albums.loc[i,'total_tracks'] = al['total_tracks']\n",
    "            albums.loc[i,'genres'] = al['genres']\n",
    "            albums.loc[i,'popularity'] = al['popularity']\n",
    "        except:\n",
    "            print(ids.loc[i, 'album_id'])\n",
    "            continue\n",
    "    albums.to_csv(f\"albums {year}.csv\")\n",
    "    print(f\"{year} done\")"
   ]
  },
  {
   "cell_type": "code",
   "execution_count": null,
   "id": "e3f60b7e",
   "metadata": {},
   "outputs": [],
   "source": [
    "albums"
   ]
  },
  {
   "cell_type": "code",
   "execution_count": null,
   "id": "f4a019e5",
   "metadata": {},
   "outputs": [],
   "source": [
    "sp.album(ids.loc[0, 'album_id'])['genres']"
   ]
  },
  {
   "cell_type": "code",
   "execution_count": null,
   "id": "fb1635d8",
   "metadata": {},
   "outputs": [],
   "source": [
    "df = pd.DataFrame({\n",
    "    'name': name,\n",
    "    'available_markets': num_mar,\n",
    "    'genres': genres,\n",
    "    'popularity': popularity\n",
    "})\n",
    "\n",
    "df['id'] = ids['album_id']"
   ]
  }
 ],
 "metadata": {
  "kernelspec": {
   "display_name": "Python 3 (ipykernel)",
   "language": "python",
   "name": "python3"
  },
  "language_info": {
   "codemirror_mode": {
    "name": "ipython",
    "version": 3
   },
   "file_extension": ".py",
   "mimetype": "text/x-python",
   "name": "python",
   "nbconvert_exporter": "python",
   "pygments_lexer": "ipython3",
   "version": "3.9.16"
  }
 },
 "nbformat": 4,
 "nbformat_minor": 5
}
