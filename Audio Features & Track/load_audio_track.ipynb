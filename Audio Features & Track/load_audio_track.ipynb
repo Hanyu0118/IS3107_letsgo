{
 "cells": [
  {
   "cell_type": "code",
   "execution_count": 13,
   "metadata": {},
   "outputs": [
    {
     "name": "stdout",
     "output_type": "stream",
     "text": [
      "The google.cloud.bigquery extension is already loaded. To reload it, use:\n",
      "  %reload_ext google.cloud.bigquery\n"
     ]
    }
   ],
   "source": [
    "import numpy as np\n",
    "import pandas as pd\n",
    "import matplotlib.pyplot as plt\n",
    "import seaborn as sns\n",
    "import json\n",
    "import spotipy\n",
    "from spotipy.oauth2 import SpotifyClientCredentials\n",
    "import requests\n",
    "from spotipy.oauth2 import SpotifyOAuth\n",
    "from tqdm import tqdm\n",
    "import sys\n",
    "import warnings\n",
    "if not sys.warnoptions:\n",
    "    warnings.simplefilter(\"ignore\")\n",
    "import time\n",
    "from google.cloud import bigquery\n",
    "import os\n",
    "\n",
    "import pandas_gbq\n",
    "%load_ext google.cloud.bigquery\n",
    "\n",
    "# Set your default project here\n",
    "pandas_gbq.context.project = 'snappy-boulder-378707'\n",
    "pandas_gbq.context.dialect = 'standard'\n",
    "os.environ[\"GOOGLE_APPLICATION_CREDENTIALS\"] = \"../BigQuery/letsgo-snappy-boulder-378707-4b7d46801fd1.json\"\n",
    "\n",
    "# Construct a BigQuery client object.\n",
    "client = bigquery.Client()"
   ]
  },
  {
   "attachments": {},
   "cell_type": "markdown",
   "metadata": {},
   "source": [
    "# Clean track info\n",
    "Only Retain the information we need.\n",
    "- id\n",
    "- name\n",
    "- explicit : 1 for explicit lyrics and 0 for not\n",
    "- available_markets : number of available markets\n",
    "- popularity"
   ]
  },
  {
   "cell_type": "code",
   "execution_count": 2,
   "metadata": {},
   "outputs": [],
   "source": [
    "track_info = pd.read_csv(\"track_info info.csv\")"
   ]
  },
  {
   "cell_type": "code",
   "execution_count": 3,
   "metadata": {},
   "outputs": [
    {
     "data": {
      "text/plain": [
       "['AR',\n",
       " 'AU',\n",
       " 'AT',\n",
       " 'BE',\n",
       " 'BO',\n",
       " 'BR',\n",
       " 'BG',\n",
       " 'CA',\n",
       " 'CL',\n",
       " 'CO',\n",
       " 'CR',\n",
       " 'CY',\n",
       " 'CZ',\n",
       " 'DK',\n",
       " 'DO',\n",
       " 'DE',\n",
       " 'EC',\n",
       " 'EE',\n",
       " 'SV',\n",
       " 'FI',\n",
       " 'FR',\n",
       " 'GR',\n",
       " 'GT',\n",
       " 'HN',\n",
       " 'HK',\n",
       " 'HU',\n",
       " 'IS',\n",
       " 'IE',\n",
       " 'IT',\n",
       " 'LV',\n",
       " 'LT',\n",
       " 'LU',\n",
       " 'MY',\n",
       " 'MT',\n",
       " 'MX',\n",
       " 'NL',\n",
       " 'NZ',\n",
       " 'NI',\n",
       " 'NO',\n",
       " 'PA',\n",
       " 'PY',\n",
       " 'PE',\n",
       " 'PH',\n",
       " 'PL',\n",
       " 'PT',\n",
       " 'SG',\n",
       " 'SK',\n",
       " 'ES',\n",
       " 'SE',\n",
       " 'CH',\n",
       " 'TW',\n",
       " 'TR',\n",
       " 'UY',\n",
       " 'US',\n",
       " 'GB',\n",
       " 'AD',\n",
       " 'LI',\n",
       " 'MC',\n",
       " 'ID',\n",
       " 'JP',\n",
       " 'TH',\n",
       " 'VN',\n",
       " 'RO',\n",
       " 'IL',\n",
       " 'ZA',\n",
       " 'SA',\n",
       " 'AE',\n",
       " 'BH',\n",
       " 'QA',\n",
       " 'OM',\n",
       " 'KW',\n",
       " 'EG',\n",
       " 'MA',\n",
       " 'DZ',\n",
       " 'TN',\n",
       " 'LB',\n",
       " 'JO',\n",
       " 'PS',\n",
       " 'IN',\n",
       " 'BY',\n",
       " 'KZ',\n",
       " 'MD',\n",
       " 'UA',\n",
       " 'AL',\n",
       " 'BA',\n",
       " 'HR',\n",
       " 'ME',\n",
       " 'MK',\n",
       " 'RS',\n",
       " 'SI',\n",
       " 'KR',\n",
       " 'BD',\n",
       " 'PK',\n",
       " 'LK',\n",
       " 'GH',\n",
       " 'KE',\n",
       " 'NG',\n",
       " 'TZ',\n",
       " 'UG',\n",
       " 'AG',\n",
       " 'AM',\n",
       " 'BS',\n",
       " 'BB',\n",
       " 'BZ',\n",
       " 'BT',\n",
       " 'BW',\n",
       " 'BF',\n",
       " 'CV',\n",
       " 'CW',\n",
       " 'DM',\n",
       " 'FJ',\n",
       " 'GM',\n",
       " 'GE',\n",
       " 'GD',\n",
       " 'GW',\n",
       " 'GY',\n",
       " 'HT',\n",
       " 'JM',\n",
       " 'KI',\n",
       " 'LS',\n",
       " 'LR',\n",
       " 'MW',\n",
       " 'MV',\n",
       " 'ML',\n",
       " 'MH',\n",
       " 'FM',\n",
       " 'NA',\n",
       " 'NR',\n",
       " 'NE',\n",
       " 'PW',\n",
       " 'PG',\n",
       " 'WS',\n",
       " 'SM',\n",
       " 'ST',\n",
       " 'SN',\n",
       " 'SC',\n",
       " 'SL',\n",
       " 'SB',\n",
       " 'KN',\n",
       " 'LC',\n",
       " 'VC',\n",
       " 'SR',\n",
       " 'TL',\n",
       " 'TO',\n",
       " 'TT',\n",
       " 'TV',\n",
       " 'VU',\n",
       " 'AZ',\n",
       " 'BN',\n",
       " 'BI',\n",
       " 'KH',\n",
       " 'CM',\n",
       " 'TD',\n",
       " 'KM',\n",
       " 'GQ',\n",
       " 'SZ',\n",
       " 'GA',\n",
       " 'GN',\n",
       " 'KG',\n",
       " 'LA',\n",
       " 'MO',\n",
       " 'MR',\n",
       " 'MN',\n",
       " 'NP',\n",
       " 'RW',\n",
       " 'TG',\n",
       " 'UZ',\n",
       " 'ZW',\n",
       " 'BJ',\n",
       " 'MG',\n",
       " 'MU',\n",
       " 'MZ',\n",
       " 'AO',\n",
       " 'CI',\n",
       " 'DJ',\n",
       " 'ZM',\n",
       " 'CD',\n",
       " 'CG',\n",
       " 'IQ',\n",
       " 'LY',\n",
       " 'TJ',\n",
       " 'VE',\n",
       " 'ET',\n",
       " 'XK']"
      ]
     },
     "execution_count": 3,
     "metadata": {},
     "output_type": "execute_result"
    }
   ],
   "source": [
    "track_info.loc[0,'available_markets'].replace('[','').replace(']','').replace(\"'\",'').replace(' ', '').split(',')\n",
    "# track_info = tracks[['id', 'name', 'popularity', '']]"
   ]
  },
  {
   "cell_type": "code",
   "execution_count": 5,
   "metadata": {},
   "outputs": [],
   "source": [
    "def compute_markets(s):\n",
    "    markets = s.replace('[','').replace(']','').replace(\"'\",'').replace(' ', '').split(',')\n",
    "    if markets[0] == '':\n",
    "        return 0\n",
    "    else:\n",
    "        return len(markets)"
   ]
  },
  {
   "cell_type": "code",
   "execution_count": 6,
   "metadata": {},
   "outputs": [],
   "source": [
    "cat = pd.unique(track_info['explicit'])\n",
    "track_info['num_markets'] = track_info['available_markets'].apply(compute_markets)\n",
    "track_info['explicit_trans'] = None \n",
    "track_info['explicit_trans'][track_info['explicit'] == cat[0]] = 0\n",
    "track_info['explicit_trans'][track_info['explicit'] == cat[1]] = 1\n",
    "track_info = track_info[['id','name','popularity','explicit_trans','num_markets']]\n",
    "track_info.rename(columns={'num_markets':'available_markets', 'explicit_trans':'explicit'}, inplace=True)"
   ]
  },
  {
   "cell_type": "code",
   "execution_count": 9,
   "metadata": {},
   "outputs": [],
   "source": [
    "track_info[[\"id\", \"name\", \"popularity\", \"explicit\", \"available_markets\"]].to_csv(\"track clear info.csv\")"
   ]
  },
  {
   "attachments": {},
   "cell_type": "markdown",
   "metadata": {},
   "source": [
    "# Load track clear info to big query"
   ]
  },
  {
   "cell_type": "code",
   "execution_count": 15,
   "metadata": {},
   "outputs": [
    {
     "name": "stdout",
     "output_type": "stream",
     "text": [
      "Created dataset snappy-boulder-378707.TrackClearInfo\n"
     ]
    }
   ],
   "source": [
    "dataset_id = \"snappy-boulder-378707.TrackClearInfo\"\n",
    "dataset = bigquery.Dataset(dataset_id)\n",
    "dataset.location = \"US\"\n",
    "dataset = client.create_dataset(dataset, timeout=30)\n",
    "print(\"Created dataset {}.{}\".format(client.project, dataset.dataset_id))"
   ]
  },
  {
   "cell_type": "code",
   "execution_count": 16,
   "metadata": {},
   "outputs": [],
   "source": [
    "schema = [\n",
    "    bigquery.SchemaField(\"unnamed\",\"INTEGER\"),\n",
    "    bigquery.SchemaField(\"id\",\"STRING\"),\n",
    "    bigquery.SchemaField(\"name\",\"STRING\"),\n",
    "    bigquery.SchemaField(\"popularity\",\"INTEGER\"),\n",
    "    bigquery.SchemaField(\"explicit\",\"INTEGER\"),\n",
    "    bigquery.SchemaField(\"available_markets\",\"INTEGER\"),\n",
    "]\n",
    "\n",
    "\n",
    "# TODO(developer): Set table_id to the ID of the table to create.\n",
    "table_id = \"snappy-boulder-378707.TrackClearInfo.TrackClearInfo\"\n",
    "table = bigquery.Table(table_id, schema=schema)\n",
    "table = client.create_table(table, timeout=30)  # Make an API request."
   ]
  },
  {
   "cell_type": "code",
   "execution_count": 17,
   "metadata": {},
   "outputs": [
    {
     "name": "stdout",
     "output_type": "stream",
     "text": [
      "Loaded 74925 rows and 6 columns to snappy-boulder-378707.TrackClearInfo.TrackClearInfo\n"
     ]
    }
   ],
   "source": [
    "job_config = bigquery.LoadJobConfig(\n",
    "    schema = schema,\n",
    "    source_format=bigquery.SourceFormat.CSV,\n",
    "    skip_leading_rows=1,\n",
    "    autodetect=True,\n",
    ")\n",
    "\n",
    "file_path = './track clear info.csv'\n",
    "table_id = \"snappy-boulder-378707.TrackClearInfo.TrackClearInfo\"\n",
    "\n",
    "with open(file_path, \"rb\") as source_file:\n",
    "    job = client.load_table_from_file(source_file, table_id, job_config=job_config)\n",
    "\n",
    "job.result()  # Waits for the job to complete.\n",
    "\n",
    "table = client.get_table(table_id)  # Make an API request.\n",
    "print(\n",
    "    \"Loaded {} rows and {} columns to {}\".format(\n",
    "        table.num_rows, len(table.schema), table_id\n",
    "    )\n",
    ")"
   ]
  },
  {
   "cell_type": "code",
   "execution_count": 20,
   "metadata": {},
   "outputs": [
    {
     "data": {
      "application/vnd.jupyter.widget-view+json": {
       "model_id": "e57c0715f9da44fd9959c10aeb461db7",
       "version_major": 2,
       "version_minor": 0
      },
      "text/plain": [
       "Query is running:   0%|          |"
      ]
     },
     "metadata": {},
     "output_type": "display_data"
    },
    {
     "data": {
      "text/html": [
       "<div>\n",
       "<style scoped>\n",
       "    .dataframe tbody tr th:only-of-type {\n",
       "        vertical-align: middle;\n",
       "    }\n",
       "\n",
       "    .dataframe tbody tr th {\n",
       "        vertical-align: top;\n",
       "    }\n",
       "\n",
       "    .dataframe thead th {\n",
       "        text-align: right;\n",
       "    }\n",
       "</style>\n",
       "<table border=\"1\" class=\"dataframe\">\n",
       "  <thead>\n",
       "    <tr style=\"text-align: right;\">\n",
       "      <th></th>\n",
       "    </tr>\n",
       "  </thead>\n",
       "  <tbody>\n",
       "  </tbody>\n",
       "</table>\n",
       "</div>"
      ],
      "text/plain": [
       "Empty DataFrame\n",
       "Columns: []\n",
       "Index: []"
      ]
     },
     "execution_count": 20,
     "metadata": {},
     "output_type": "execute_result"
    }
   ],
   "source": [
    "%%bigquery\n",
    "ALTER TABLE snappy-boulder-378707.TrackClearInfo.TrackClearInfo\n",
    "DROP COLUMN unnamed"
   ]
  },
  {
   "cell_type": "code",
   "execution_count": 21,
   "metadata": {},
   "outputs": [
    {
     "data": {
      "application/vnd.jupyter.widget-view+json": {
       "model_id": "fae7a6431183403fbe497244071058b7",
       "version_major": 2,
       "version_minor": 0
      },
      "text/plain": [
       "Query is running:   0%|          |"
      ]
     },
     "metadata": {},
     "output_type": "display_data"
    },
    {
     "data": {
      "text/html": [
       "<div>\n",
       "<style scoped>\n",
       "    .dataframe tbody tr th:only-of-type {\n",
       "        vertical-align: middle;\n",
       "    }\n",
       "\n",
       "    .dataframe tbody tr th {\n",
       "        vertical-align: top;\n",
       "    }\n",
       "\n",
       "    .dataframe thead th {\n",
       "        text-align: right;\n",
       "    }\n",
       "</style>\n",
       "<table border=\"1\" class=\"dataframe\">\n",
       "  <thead>\n",
       "    <tr style=\"text-align: right;\">\n",
       "      <th></th>\n",
       "    </tr>\n",
       "  </thead>\n",
       "  <tbody>\n",
       "  </tbody>\n",
       "</table>\n",
       "</div>"
      ],
      "text/plain": [
       "Empty DataFrame\n",
       "Columns: []\n",
       "Index: []"
      ]
     },
     "execution_count": 21,
     "metadata": {},
     "output_type": "execute_result"
    }
   ],
   "source": [
    "%%bigquery\n",
    "ALTER TABLE snappy-boulder-378707.TrackClearInfo.TrackClearInfo\n",
    "ADD PRIMARY KEY (id) NOT ENFORCED"
   ]
  },
  {
   "attachments": {},
   "cell_type": "markdown",
   "metadata": {},
   "source": [
    "# Clear Audio features"
   ]
  },
  {
   "cell_type": "code",
   "execution_count": 25,
   "metadata": {},
   "outputs": [
    {
     "name": "stdout",
     "output_type": "stream",
     "text": [
      "Created table snappy-boulder-378707.AudioFeatures.AudioFeatures\n"
     ]
    }
   ],
   "source": [
    "\n",
    "schema = [\n",
    "    bigquery.SchemaField(\"unnamed\",\"INTEGER\"),\n",
    "    bigquery.SchemaField(\"danceability\",\"FLOAT\"),\n",
    "    bigquery.SchemaField(\"energy\",\"FLOAT\"),\n",
    "    bigquery.SchemaField(\"key\",\"INTEGER\"),\n",
    "    bigquery.SchemaField(\"loudness\",\"FLOAT\"),\n",
    "    bigquery.SchemaField(\"mode\",\"INTEGER\"),\n",
    "    bigquery.SchemaField(\"speechiness\",\"FLOAT\"),\n",
    "    bigquery.SchemaField(\"acousticness\",\"FLOAT\"),\n",
    "    bigquery.SchemaField(\"instrumentalness\",\"FLOAT\"),\n",
    "    bigquery.SchemaField(\"liveness\",\"FLOAT\"),\n",
    "    bigquery.SchemaField(\"valence\",\"FLOAT\"),\n",
    "    bigquery.SchemaField(\"tempo\",\"FLOAT\"),\n",
    "    bigquery.SchemaField(\"type\",\"STRING\"),\n",
    "    bigquery.SchemaField(\"id\",\"STRING\"),\n",
    "    bigquery.SchemaField(\"uri\",\"STRING\"),\n",
    "    bigquery.SchemaField(\"track_href\",\"STRING\"),\n",
    "    bigquery.SchemaField(\"analysis_url\",\"STRING\"),\n",
    "    bigquery.SchemaField(\"duration_ms\",\"INTEGER\"),\n",
    "    bigquery.SchemaField(\"time_signature\",\"INTEGER\"),\n",
    "]\n",
    "\n",
    "# TODO(developer): Set table_id to the ID of the table to create.\n",
    "table_id = \"snappy-boulder-378707.AudioFeatures.AudioFeatures\"\n",
    "table = bigquery.Table(table_id, schema=schema)\n",
    "table = client.create_table(table, timeout=30)  # Make an API request.\n",
    "print(\"Created table {}.{}.{}\".format(table.project, table.dataset_id, table.table_id))"
   ]
  },
  {
   "cell_type": "code",
   "execution_count": 26,
   "metadata": {},
   "outputs": [
    {
     "name": "stdout",
     "output_type": "stream",
     "text": [
      "Loaded 74856 rows and 19 columns to snappy-boulder-378707.AudioFeatures.AudioFeatures\n"
     ]
    }
   ],
   "source": [
    "job_config = bigquery.LoadJobConfig(\n",
    "    schema = schema,\n",
    "    source_format=bigquery.SourceFormat.CSV,\n",
    "    skip_leading_rows=1,\n",
    "    autodetect=True,\n",
    ")\n",
    "\n",
    "\n",
    "file_path = './audio features.csv'\n",
    "table_id = \"snappy-boulder-378707.AudioFeatures.AudioFeatures\"\n",
    "\n",
    "with open(file_path, \"rb\") as source_file:\n",
    "    job = client.load_table_from_file(source_file, table_id, job_config=job_config)\n",
    "\n",
    "job.result()  # Waits for the job to complete.\n",
    "\n",
    "table = client.get_table(table_id)  # Make an API request.\n",
    "print(\n",
    "    \"Loaded {} rows and {} columns to {}\".format(\n",
    "        table.num_rows, len(table.schema), table_id\n",
    "    )\n",
    ")"
   ]
  },
  {
   "cell_type": "code",
   "execution_count": 34,
   "metadata": {},
   "outputs": [
    {
     "data": {
      "application/vnd.jupyter.widget-view+json": {
       "model_id": "99b3e97cc8f24d92bb9d6e5117385402",
       "version_major": 2,
       "version_minor": 0
      },
      "text/plain": [
       "Query is running:   0%|          |"
      ]
     },
     "metadata": {},
     "output_type": "display_data"
    },
    {
     "data": {
      "text/html": [
       "<div>\n",
       "<style scoped>\n",
       "    .dataframe tbody tr th:only-of-type {\n",
       "        vertical-align: middle;\n",
       "    }\n",
       "\n",
       "    .dataframe tbody tr th {\n",
       "        vertical-align: top;\n",
       "    }\n",
       "\n",
       "    .dataframe thead th {\n",
       "        text-align: right;\n",
       "    }\n",
       "</style>\n",
       "<table border=\"1\" class=\"dataframe\">\n",
       "  <thead>\n",
       "    <tr style=\"text-align: right;\">\n",
       "      <th></th>\n",
       "    </tr>\n",
       "  </thead>\n",
       "  <tbody>\n",
       "  </tbody>\n",
       "</table>\n",
       "</div>"
      ],
      "text/plain": [
       "Empty DataFrame\n",
       "Columns: []\n",
       "Index: []"
      ]
     },
     "execution_count": 34,
     "metadata": {},
     "output_type": "execute_result"
    }
   ],
   "source": [
    "%%bigquery\n",
    "ALTER TABLE snappy-boulder-378707.AudioFeatures.AudioFeatures\n",
    "DROP COLUMN unnamed, drop column type, drop column uri,drop column track_href,drop column analysis_url;"
   ]
  },
  {
   "cell_type": "code",
   "execution_count": 35,
   "metadata": {},
   "outputs": [
    {
     "data": {
      "application/vnd.jupyter.widget-view+json": {
       "model_id": "03755ac633b9400a89d62c2bd0aef57b",
       "version_major": 2,
       "version_minor": 0
      },
      "text/plain": [
       "Query is running:   0%|          |"
      ]
     },
     "metadata": {},
     "output_type": "display_data"
    },
    {
     "data": {
      "text/html": [
       "<div>\n",
       "<style scoped>\n",
       "    .dataframe tbody tr th:only-of-type {\n",
       "        vertical-align: middle;\n",
       "    }\n",
       "\n",
       "    .dataframe tbody tr th {\n",
       "        vertical-align: top;\n",
       "    }\n",
       "\n",
       "    .dataframe thead th {\n",
       "        text-align: right;\n",
       "    }\n",
       "</style>\n",
       "<table border=\"1\" class=\"dataframe\">\n",
       "  <thead>\n",
       "    <tr style=\"text-align: right;\">\n",
       "      <th></th>\n",
       "    </tr>\n",
       "  </thead>\n",
       "  <tbody>\n",
       "  </tbody>\n",
       "</table>\n",
       "</div>"
      ],
      "text/plain": [
       "Empty DataFrame\n",
       "Columns: []\n",
       "Index: []"
      ]
     },
     "execution_count": 35,
     "metadata": {},
     "output_type": "execute_result"
    }
   ],
   "source": [
    "%%bigquery\n",
    "ALTER TABLE snappy-boulder-378707.AudioFeatures.AudioFeatures\n",
    "ADD PRIMARY KEY (id) NOT ENFORCED"
   ]
  }
 ],
 "metadata": {
  "kernelspec": {
   "display_name": "IS3107",
   "language": "python",
   "name": "python3"
  },
  "language_info": {
   "codemirror_mode": {
    "name": "ipython",
    "version": 3
   },
   "file_extension": ".py",
   "mimetype": "text/x-python",
   "name": "python",
   "nbconvert_exporter": "python",
   "pygments_lexer": "ipython3",
   "version": "3.9.16"
  },
  "orig_nbformat": 4
 },
 "nbformat": 4,
 "nbformat_minor": 2
}
