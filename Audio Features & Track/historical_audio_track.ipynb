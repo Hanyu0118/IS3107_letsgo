{
 "cells": [
  {
   "cell_type": "code",
   "execution_count": 12,
   "metadata": {},
   "outputs": [],
   "source": [
    "import numpy as np\n",
    "import pandas as pd\n",
    "import matplotlib.pyplot as plt\n",
    "import seaborn as sns\n",
    "import json\n",
    "import spotipy\n",
    "from spotipy.oauth2 import SpotifyClientCredentials\n",
    "import requests\n",
    "from spotipy.oauth2 import SpotifyOAuth\n",
    "from tqdm import tqdm\n",
    "import sys\n",
    "import warnings\n",
    "if not sys.warnoptions:\n",
    "    warnings.simplefilter(\"ignore\")\n",
    "import time\n",
    "from google.cloud import bigquery\n",
    "import os\n",
    "\n",
    "import pandas_gbq\n",
    "%load_ext google.cloud.bigquery\n",
    "\n",
    "# Set your default project here\n",
    "pandas_gbq.context.project = 'snappy-boulder-378707'\n",
    "pandas_gbq.context.dialect = 'standard'"
   ]
  },
  {
   "cell_type": "code",
   "execution_count": 13,
   "metadata": {},
   "outputs": [],
   "source": [
    "credentials = json.load(open('../authorization.json'))\n",
    "client_track_id = credentials['client_track_id']\n",
    "client_secret = credentials['client_secret']\n",
    "client_credentials_manager = SpotifyClientCredentials(client_track_id=client_track_id,client_secret=client_secret)\n",
    "sp = spotipy.Spotify(client_credentials_manager=client_credentials_manager)\n",
    "sp\n",
    "os.environ[\"GOOGLE_APPLICATION_CREDENTIALS\"] = \"../BigQuery/letsgo-snappy-boulder-378707-4b7d46801fd1.json\"\n",
    "\n",
    "# Construct a BigQuery client object.\n",
    "client = bigquery.Client()"
   ]
  },
  {
   "attachments": {},
   "cell_type": "markdown",
   "metadata": {},
   "source": [
    "# Extract track track_id"
   ]
  },
  {
   "cell_type": "code",
   "execution_count": 14,
   "metadata": {},
   "outputs": [
    {
     "data": {
      "application/vnd.jupyter.widget-view+json": {
       "model_id": "527ba21814f244739bc7254ba42de630",
       "version_major": 2,
       "version_minor": 0
      },
      "text/plain": [
       "Query is running:   0%|          |"
      ]
     },
     "metadata": {},
     "output_type": "display_data"
    },
    {
     "data": {
      "application/vnd.jupyter.widget-view+json": {
       "model_id": "c59960d11d9a454b8c8c7872922a8aaa",
       "version_major": 2,
       "version_minor": 0
      },
      "text/plain": [
       "Downloading:   0%|          |"
      ]
     },
     "metadata": {},
     "output_type": "display_data"
    }
   ],
   "source": [
    "%%bigquery track_track_ids\n",
    "SELECT DISTINCT track_track_id FROM `snappy-boulder-378707.TrackGenre.Trackgenre`"
   ]
  },
  {
   "cell_type": "code",
   "execution_count": 15,
   "metadata": {},
   "outputs": [
    {
     "data": {
      "text/html": [
       "<div>\n",
       "<style scoped>\n",
       "    .dataframe tbody tr th:only-of-type {\n",
       "        vertical-align: middle;\n",
       "    }\n",
       "\n",
       "    .dataframe tbody tr th {\n",
       "        vertical-align: top;\n",
       "    }\n",
       "\n",
       "    .dataframe thead th {\n",
       "        text-align: right;\n",
       "    }\n",
       "</style>\n",
       "<table border=\"1\" class=\"dataframe\">\n",
       "  <thead>\n",
       "    <tr style=\"text-align: right;\">\n",
       "      <th></th>\n",
       "      <th>track_id</th>\n",
       "    </tr>\n",
       "  </thead>\n",
       "  <tbody>\n",
       "    <tr>\n",
       "      <th>0</th>\n",
       "      <td>001CyR8xqmmpVZFiTZJ5BC</td>\n",
       "    </tr>\n",
       "    <tr>\n",
       "      <th>1</th>\n",
       "      <td>001eyxfoYptAWzvF4ewLrR</td>\n",
       "    </tr>\n",
       "    <tr>\n",
       "      <th>2</th>\n",
       "      <td>002LxxV7VTy5JkvkmmGanl</td>\n",
       "    </tr>\n",
       "    <tr>\n",
       "      <th>3</th>\n",
       "      <td>002YdWxaenIUL4PHiv5EB5</td>\n",
       "    </tr>\n",
       "    <tr>\n",
       "      <th>4</th>\n",
       "      <td>002nFT2kRsfvS0d17AwWsB</td>\n",
       "    </tr>\n",
       "  </tbody>\n",
       "</table>\n",
       "</div>"
      ],
      "text/plain": [
       "                 track_id\n",
       "0  001CyR8xqmmpVZFiTZJ5BC\n",
       "1  001eyxfoYptAWzvF4ewLrR\n",
       "2  002LxxV7VTy5JkvkmmGanl\n",
       "3  002YdWxaenIUL4PHiv5EB5\n",
       "4  002nFT2kRsfvS0d17AwWsB"
      ]
     },
     "execution_count": 15,
     "metadata": {},
     "output_type": "execute_result"
    }
   ],
   "source": [
    "track_track_ids.head()"
   ]
  },
  {
   "attachments": {},
   "cell_type": "markdown",
   "metadata": {},
   "source": [
    "# Audio Features"
   ]
  },
  {
   "cell_type": "code",
   "execution_count": 35,
   "metadata": {},
   "outputs": [
    {
     "name": "stderr",
     "output_type": "stream",
     "text": [
      "100%|██████████| 750/750 [01:36<00:00,  7.75it/s]\n"
     ]
    }
   ],
   "source": [
    "\n",
    "audio_feat=[]\n",
    "#len(track_track_ids)\n",
    "for i in tqdm(range(0,len(track_track_ids),100)):\n",
    "    if (i+100) < len(track_track_ids): \n",
    "        features = sp.audio_features(list(track_track_ids.iloc[i:(i+100)]['track_track_id']))\n",
    "        #print(f\"len each feat: {len(features)}\")\n",
    "        audio_feat += list(features)\n",
    "    else:\n",
    "        audio_feat += list(sp.audio_features(list(track_track_ids.iloc[i:]['track_track_id'])))\n",
    "    #print(f\"len each audio feat: {len(audio_feat)}\")\n",
    "\n",
    "#print(len(audio_feat))\n",
    "audio_feat = list(filter(lambda x: x is not None, audio_feat))\n",
    "#print(len(audio_feat))\n",
    "audio_feat_df = pd.DataFrame(audio_feat)\n",
    "audio_feat_df.to_csv('audio features.csv')\n"
   ]
  },
  {
   "attachments": {},
   "cell_type": "markdown",
   "metadata": {},
   "source": [
    "# Track info"
   ]
  },
  {
   "cell_type": "code",
   "execution_count": 40,
   "metadata": {},
   "outputs": [
    {
     "name": "stderr",
     "output_type": "stream",
     "text": [
      "100%|██████████| 1499/1499 [12:42<00:00,  1.96it/s]\n"
     ]
    }
   ],
   "source": [
    "tracks = []\n",
    "for i in tqdm(range(0, len(track_ids), 50)):\n",
    "    try:\n",
    "        if (i+50) < len(track_ids): \n",
    "            info = sp.tracks(list(track_ids.iloc[i:(i+50)]['track_id']))['tracks']\n",
    "        else:\n",
    "            info = sp.tracks(list(track_ids.iloc[i:]['track_id']))['tracks']\n",
    "    except:\n",
    "            client_credentials_manager = SpotifyClientCredentials(client_id=client_id,client_secret=client_secret)\n",
    "            sp = spotipy.Spotify(client_credentials_manager=client_credentials_manager, requests_timeout=5, retries=5)\n",
    "    finally:\n",
    "        if (i+50) < len(track_ids): \n",
    "            info = sp.tracks(list(track_ids.iloc[i:(i+50)]['track_id']))['tracks']\n",
    "        else:\n",
    "            info = sp.tracks(list(track_ids.iloc[i:]['track_id']))['tracks']\n",
    "        tracks += info\n",
    "tracks_df = pd.DataFrame(tracks)\n",
    "tracks_df.to_csv('tracks info.csv')"
   ]
  }
 ],
 "metadata": {
  "kernelspec": {
   "display_name": "IS3107",
   "language": "python",
   "name": "python3"
  },
  "language_info": {
   "codemirror_mode": {
    "name": "ipython",
    "version": 3
   },
   "file_extension": ".py",
   "mimetype": "text/x-python",
   "name": "python",
   "nbconvert_exporter": "python",
   "pygments_lexer": "ipython3",
   "version": "3.9.16"
  },
  "orig_nbformat": 4
 },
 "nbformat": 4,
 "nbformat_minor": 2
}
