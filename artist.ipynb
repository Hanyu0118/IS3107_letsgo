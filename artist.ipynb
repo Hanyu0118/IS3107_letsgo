{
 "cells": [
  {
   "cell_type": "code",
   "execution_count": 1,
   "id": "82e3652f",
   "metadata": {},
   "outputs": [],
   "source": [
    "import spotipy\n",
    "from spotipy.oauth2 import SpotifyClientCredentials\n",
    "import json\n",
    "import pandas as pd\n",
    "from spotipy.oauth2 import SpotifyClientCredentials"
   ]
  },
  {
   "cell_type": "code",
   "execution_count": 2,
   "id": "4191b258",
   "metadata": {},
   "outputs": [],
   "source": [
    "credentials = json.load(open('authorization.json'))\n",
    "client_id = credentials['client_id']\n",
    "client_secret = credentials['client_secret']\n",
    "client_credentials_manager = SpotifyClientCredentials(client_id=client_id,client_secret=client_secret)\n",
    "sp = spotipy.Spotify(client_credentials_manager=client_credentials_manager)"
   ]
  },
  {
   "cell_type": "code",
   "execution_count": 3,
   "id": "1e3b2222",
   "metadata": {},
   "outputs": [],
   "source": [
    "id_data = pd.read_csv(\"data/ids 2019.csv\")"
   ]
  },
  {
   "cell_type": "code",
   "execution_count": 4,
   "id": "e1f47700",
   "metadata": {},
   "outputs": [],
   "source": [
    "def clean_up_strings(s):\n",
    "    return s.replace(\"[\", \"\").replace(\"]\", \"\").replace(\"'\", \"\").replace(\" \",\"\").strip().split(',')"
   ]
  },
  {
   "cell_type": "code",
   "execution_count": 5,
   "id": "2dbd7321",
   "metadata": {},
   "outputs": [],
   "source": [
    "id_data['artists_id'] = id_data['artists_id'].apply(clean_up_strings)"
   ]
  },
  {
   "cell_type": "code",
   "execution_count": 6,
   "id": "469bc3e0",
   "metadata": {},
   "outputs": [],
   "source": [
    "id_data['artists_id'] = id_data['artists_id'].apply(lambda x: ['spotify:artist:' + id for id in x])"
   ]
  },
  {
   "cell_type": "code",
   "execution_count": 7,
   "id": "db620f57",
   "metadata": {},
   "outputs": [
    {
     "data": {
      "text/plain": [
       "0                  [spotify:artist:4Ga1P7PMIsmqEZqhYZQgDo]\n",
       "1                  [spotify:artist:0kSazizYsGZQYKRfROiVb8]\n",
       "2                  [spotify:artist:3qNVuliS40BLgXGxhdBdqu]\n",
       "3                  [spotify:artist:44T03OWDUjwDgg4IYgFCWi]\n",
       "4                  [spotify:artist:2KC9Qb60EaY0kW4eH68vr3]\n",
       "                               ...                        \n",
       "27653              [spotify:artist:18eJA6yngcgTKd80ogxfCs]\n",
       "27654              [spotify:artist:5FhnxR08tvAO0f4ixh3VFD]\n",
       "27655    [spotify:artist:35LFDqRu6EmXgUqEWeh2j6, spotif...\n",
       "27656              [spotify:artist:1bMzicd9EOrx6iGexZ0AbQ]\n",
       "27657              [spotify:artist:56VhOZOF6hwqrbNYwkmcsH]\n",
       "Name: artists_id, Length: 27658, dtype: object"
      ]
     },
     "execution_count": 7,
     "metadata": {},
     "output_type": "execute_result"
    }
   ],
   "source": [
    "id_data['artists_id']"
   ]
  },
  {
   "cell_type": "code",
   "execution_count": 12,
   "id": "a9bdab0e",
   "metadata": {},
   "outputs": [],
   "source": [
    "artist_info = sp.artists(id_data.loc[0, 'artists_id'])"
   ]
  },
  {
   "cell_type": "code",
   "execution_count": 13,
   "id": "4960dc7f",
   "metadata": {},
   "outputs": [
    {
     "data": {
      "text/plain": [
       "[{'external_urls': {'spotify': 'https://open.spotify.com/artist/4Ga1P7PMIsmqEZqhYZQgDo'},\n",
       "  'followers': {'href': None, 'total': 5814168},\n",
       "  'genres': ['melodic rap', 'pluggnb', 'rap', 'trap', 'viral rap'],\n",
       "  'href': 'https://api.spotify.com/v1/artists/4Ga1P7PMIsmqEZqhYZQgDo',\n",
       "  'id': '4Ga1P7PMIsmqEZqhYZQgDo',\n",
       "  'images': [{'height': 640,\n",
       "    'url': 'https://i.scdn.co/image/ab6761610000e5eb68a45dc540ffc5ef4f116a8e',\n",
       "    'width': 640},\n",
       "   {'height': 320,\n",
       "    'url': 'https://i.scdn.co/image/ab6761610000517468a45dc540ffc5ef4f116a8e',\n",
       "    'width': 320},\n",
       "   {'height': 160,\n",
       "    'url': 'https://i.scdn.co/image/ab6761610000f17868a45dc540ffc5ef4f116a8e',\n",
       "    'width': 160}],\n",
       "  'name': 'Lil Tecca',\n",
       "  'popularity': 79,\n",
       "  'type': 'artist',\n",
       "  'uri': 'spotify:artist:4Ga1P7PMIsmqEZqhYZQgDo'}]"
      ]
     },
     "execution_count": 13,
     "metadata": {},
     "output_type": "execute_result"
    }
   ],
   "source": [
    "artist_info['artists']"
   ]
  },
  {
   "cell_type": "code",
   "execution_count": null,
   "id": "691bc8fa",
   "metadata": {
    "scrolled": true
   },
   "outputs": [
    {
     "name": "stderr",
     "output_type": "stream",
     "text": [
      "  0%|                                                                                | 1/21358 [00:00<49:58,  7.12it/s]"
     ]
    },
    {
     "name": "stdout",
     "output_type": "stream",
     "text": [
      "6300\n",
      "6300\n"
     ]
    },
    {
     "name": "stderr",
     "output_type": "stream",
     "text": [
      "  0%|▎                                                                             | 101/21358 [00:17<55:10,  6.42it/s]"
     ]
    },
    {
     "name": "stdout",
     "output_type": "stream",
     "text": [
      "6400\n",
      "6400\n"
     ]
    },
    {
     "name": "stderr",
     "output_type": "stream",
     "text": [
      "  1%|▋                                                                             | 201/21358 [00:33<51:45,  6.81it/s]"
     ]
    },
    {
     "name": "stdout",
     "output_type": "stream",
     "text": [
      "6500\n",
      "6500\n"
     ]
    },
    {
     "name": "stderr",
     "output_type": "stream",
     "text": [
      "  1%|█                                                                             | 301/21358 [00:52<50:44,  6.92it/s]"
     ]
    },
    {
     "name": "stdout",
     "output_type": "stream",
     "text": [
      "6600\n",
      "6600\n"
     ]
    },
    {
     "name": "stderr",
     "output_type": "stream",
     "text": [
      "  2%|█▍                                                                            | 401/21358 [01:12<51:44,  6.75it/s]"
     ]
    },
    {
     "name": "stdout",
     "output_type": "stream",
     "text": [
      "6700\n",
      "6700\n"
     ]
    },
    {
     "name": "stderr",
     "output_type": "stream",
     "text": [
      "  2%|█▊                                                                            | 501/21358 [01:32<52:34,  6.61it/s]"
     ]
    },
    {
     "name": "stdout",
     "output_type": "stream",
     "text": [
      "6800\n",
      "6800\n"
     ]
    },
    {
     "name": "stderr",
     "output_type": "stream",
     "text": [
      "  3%|██▏                                                                           | 601/21358 [01:52<52:48,  6.55it/s]"
     ]
    },
    {
     "name": "stdout",
     "output_type": "stream",
     "text": [
      "6900\n",
      "6900\n"
     ]
    },
    {
     "name": "stderr",
     "output_type": "stream",
     "text": [
      "  3%|██▌                                                                           | 701/21358 [02:08<51:45,  6.65it/s]"
     ]
    },
    {
     "name": "stdout",
     "output_type": "stream",
     "text": [
      "7000\n",
      "7000\n"
     ]
    },
    {
     "name": "stderr",
     "output_type": "stream",
     "text": [
      "  4%|██▉                                                                           | 801/21358 [02:29<50:45,  6.75it/s]"
     ]
    },
    {
     "name": "stdout",
     "output_type": "stream",
     "text": [
      "7100\n",
      "7100\n"
     ]
    },
    {
     "name": "stderr",
     "output_type": "stream",
     "text": [
      "  4%|███▎                                                                          | 901/21358 [02:48<51:15,  6.65it/s]"
     ]
    },
    {
     "name": "stdout",
     "output_type": "stream",
     "text": [
      "7200\n",
      "7200\n"
     ]
    },
    {
     "name": "stderr",
     "output_type": "stream",
     "text": [
      "  5%|███▌                                                                         | 1001/21358 [03:07<50:06,  6.77it/s]"
     ]
    },
    {
     "name": "stdout",
     "output_type": "stream",
     "text": [
      "7300\n",
      "7300\n"
     ]
    },
    {
     "name": "stderr",
     "output_type": "stream",
     "text": [
      "  5%|███▊                                                                       | 1101/21358 [03:25<1:45:13,  3.21it/s]"
     ]
    },
    {
     "name": "stdout",
     "output_type": "stream",
     "text": [
      "7400\n",
      "7400\n"
     ]
    },
    {
     "name": "stderr",
     "output_type": "stream",
     "text": [
      "  6%|████▎                                                                        | 1200/21358 [03:43<52:37,  6.38it/s]"
     ]
    },
    {
     "name": "stdout",
     "output_type": "stream",
     "text": [
      "7500\n"
     ]
    },
    {
     "name": "stderr",
     "output_type": "stream",
     "text": [
      "  6%|████▏                                                                      | 1202/21358 [03:46<3:22:05,  1.66it/s]"
     ]
    },
    {
     "name": "stdout",
     "output_type": "stream",
     "text": [
      "7500\n"
     ]
    },
    {
     "name": "stderr",
     "output_type": "stream",
     "text": [
      "  6%|████▋                                                                        | 1301/21358 [04:03<50:24,  6.63it/s]"
     ]
    },
    {
     "name": "stdout",
     "output_type": "stream",
     "text": [
      "7600\n",
      "7600\n"
     ]
    },
    {
     "name": "stderr",
     "output_type": "stream",
     "text": [
      "  7%|█████                                                                        | 1401/21358 [04:21<51:50,  6.42it/s]"
     ]
    },
    {
     "name": "stdout",
     "output_type": "stream",
     "text": [
      "7700\n",
      "7700\n"
     ]
    },
    {
     "name": "stderr",
     "output_type": "stream",
     "text": [
      "  7%|█████▍                                                                       | 1501/21358 [04:40<49:21,  6.70it/s]"
     ]
    },
    {
     "name": "stdout",
     "output_type": "stream",
     "text": [
      "7800\n",
      "7800\n"
     ]
    },
    {
     "name": "stderr",
     "output_type": "stream",
     "text": [
      "  7%|█████▊                                                                       | 1601/21358 [04:58<50:44,  6.49it/s]"
     ]
    },
    {
     "name": "stdout",
     "output_type": "stream",
     "text": [
      "7900\n",
      "7900\n"
     ]
    },
    {
     "name": "stderr",
     "output_type": "stream",
     "text": [
      "  8%|██████▏                                                                      | 1701/21358 [05:18<48:07,  6.81it/s]"
     ]
    },
    {
     "name": "stdout",
     "output_type": "stream",
     "text": [
      "8000\n",
      "8000\n"
     ]
    },
    {
     "name": "stderr",
     "output_type": "stream",
     "text": [
      "  8%|██████▍                                                                      | 1801/21358 [05:37<56:17,  5.79it/s]"
     ]
    },
    {
     "name": "stdout",
     "output_type": "stream",
     "text": [
      "8100\n",
      "8100\n"
     ]
    },
    {
     "name": "stderr",
     "output_type": "stream",
     "text": [
      "  8%|██████▌                                                                      | 1806/21358 [05:38<49:52,  6.53it/s]"
     ]
    }
   ],
   "source": [
    "artist_id=[]\n",
    "artist_name=[]\n",
    "artist_numFollow=[]\n",
    "artist_genre=[]\n",
    "artist_pop=[]\n",
    "track_id=[]\n",
    "from tqdm import tqdm\n",
    "for i in tqdm(range(6300,len(id_data['artists_id']))):\n",
    "    try:\n",
    "        artist_info = sp.artists(id_data.loc[i, 'artists_id'])['artists']\n",
    "        for a in artist_info:\n",
    "            track_id.append(id_data.loc[i,'track_id'])\n",
    "            artist_id.append(a['id'])\n",
    "            artist_name.append(a['name'])\n",
    "            artist_numFollow.append(a['followers']['total'])\n",
    "            artist_genre.append(a['genres'])\n",
    "            artist_pop.append(a['popularity'])\n",
    "        if(i%100==0):\n",
    "            print(i)\n",
    "    except:\n",
    "        client_credentials_manager = SpotifyClientCredentials(client_id=client_id,client_secret=client_secret)\n",
    "        sp = spotipy.Spotify(client_credentials_manager=client_credentials_manager, requests_timeout=5, retries=5)\n",
    "    finally:\n",
    "        artist_info = sp.artists(id_data.loc[i, 'artists_id'])['artists']\n",
    "        for a in artist_info:\n",
    "            track_id.append(id_data.loc[i,'track_id'])\n",
    "            artist_id.append(a['id'])\n",
    "            artist_name.append(a['name'])\n",
    "            artist_numFollow.append(a['followers']['total'])\n",
    "            artist_genre.append(a['genres'])\n",
    "            artist_pop.append(a['popularity'])\n",
    "        if(i%100==0):\n",
    "            print(i)"
   ]
  },
  {
   "cell_type": "code",
   "execution_count": null,
   "id": "d09ffb88",
   "metadata": {},
   "outputs": [],
   "source": [
    "df = pd.DataFrame({'track_id':track_id,'id':artist_id, 'name': artist_name, 'followers': artist_numFollow,'genres':artist_genre,'popularity':artist_pop})\n",
    "df.to_csv(\"artist2019(2).csv\")"
   ]
  },
  {
   "cell_type": "code",
   "execution_count": null,
   "id": "eb6da162",
   "metadata": {},
   "outputs": [],
   "source": []
  }
 ],
 "metadata": {
  "kernelspec": {
   "display_name": "Python 3 (ipykernel)",
   "language": "python",
   "name": "python3"
  },
  "language_info": {
   "codemirror_mode": {
    "name": "ipython",
    "version": 3
   },
   "file_extension": ".py",
   "mimetype": "text/x-python",
   "name": "python",
   "nbconvert_exporter": "python",
   "pygments_lexer": "ipython3",
   "version": "3.9.13"
  },
  "toc": {
   "base_numbering": 1,
   "nav_menu": {},
   "number_sections": true,
   "sideBar": true,
   "skip_h1_title": false,
   "title_cell": "Table of Contents",
   "title_sidebar": "Contents",
   "toc_cell": false,
   "toc_position": {},
   "toc_section_display": true,
   "toc_window_display": false
  }
 },
 "nbformat": 4,
 "nbformat_minor": 5
}
