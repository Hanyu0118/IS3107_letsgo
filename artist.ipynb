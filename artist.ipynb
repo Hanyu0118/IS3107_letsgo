{
 "cells": [
  {
   "cell_type": "code",
   "execution_count": 1,
   "id": "82e3652f",
   "metadata": {},
   "outputs": [],
   "source": [
    "import spotipy\n",
    "from spotipy.oauth2 import SpotifyClientCredentials\n",
    "import json\n",
    "import pandas as pd\n",
    "CLIENT_ID = \"1df428c209e1446393cb65f76ad8b561\"\n",
    "CLIENT_SECRET = \"9aa98cbea9044e5da7773b54d15c8a45\"\n",
    "from spotipy.oauth2 import SpotifyClientCredentials\n",
    "client_credentials_manager = SpotifyClientCredentials(client_id=CLIENT_ID, client_secret=CLIENT_SECRET)\n",
    "sp = spotipy.Spotify(client_credentials_manager=client_credentials_manager)"
   ]
  },
  {
   "cell_type": "code",
   "execution_count": 2,
   "id": "1e3b2222",
   "metadata": {},
   "outputs": [],
   "source": [
    "id_data = pd.read_csv(\"ids 2019.csv\")"
   ]
  },
  {
   "cell_type": "code",
   "execution_count": 3,
   "id": "e1f47700",
   "metadata": {},
   "outputs": [],
   "source": [
    "def clean_up_strings(s):\n",
    "    return s.replace(\"[\", \"\").replace(\"]\", \"\").replace(\"'\", \"\").replace(\" \",\"\").strip().split(',')"
   ]
  },
  {
   "cell_type": "code",
   "execution_count": 4,
   "id": "2dbd7321",
   "metadata": {},
   "outputs": [],
   "source": [
    "id_data['artists_id'] = id_data['artists_id'].apply(clean_up_strings)"
   ]
  },
  {
   "cell_type": "code",
   "execution_count": 5,
   "id": "469bc3e0",
   "metadata": {},
   "outputs": [],
   "source": [
    "id_data['artists_id'] = id_data['artists_id'].apply(lambda x: ['spotify:artist:' + id for id in x])"
   ]
  },
  {
   "cell_type": "code",
   "execution_count": 6,
   "id": "db620f57",
   "metadata": {},
   "outputs": [
    {
     "data": {
      "text/plain": [
       "0                  [spotify:artist:4Ga1P7PMIsmqEZqhYZQgDo]\n",
       "1                  [spotify:artist:0kSazizYsGZQYKRfROiVb8]\n",
       "2                  [spotify:artist:3qNVuliS40BLgXGxhdBdqu]\n",
       "3                  [spotify:artist:44T03OWDUjwDgg4IYgFCWi]\n",
       "4                  [spotify:artist:2KC9Qb60EaY0kW4eH68vr3]\n",
       "                               ...                        \n",
       "27653              [spotify:artist:18eJA6yngcgTKd80ogxfCs]\n",
       "27654              [spotify:artist:5FhnxR08tvAO0f4ixh3VFD]\n",
       "27655    [spotify:artist:35LFDqRu6EmXgUqEWeh2j6, spotif...\n",
       "27656              [spotify:artist:1bMzicd9EOrx6iGexZ0AbQ]\n",
       "27657              [spotify:artist:56VhOZOF6hwqrbNYwkmcsH]\n",
       "Name: artists_id, Length: 27658, dtype: object"
      ]
     },
     "execution_count": 6,
     "metadata": {},
     "output_type": "execute_result"
    }
   ],
   "source": [
    "id_data['artists_id']"
   ]
  },
  {
   "cell_type": "code",
   "execution_count": null,
   "id": "a9bdab0e",
   "metadata": {},
   "outputs": [],
   "source": [
    "artist_info = sp.artists(id_data.loc[0, 'artists_id'])"
   ]
  },
  {
   "cell_type": "code",
   "execution_count": null,
   "id": "691bc8fa",
   "metadata": {},
   "outputs": [],
   "source": [
    "artist_id=[]\n",
    "artist_name=[]\n",
    "artist_numFollow=[]\n",
    "artist_genre=[]\n",
    "artist_pop=[]\n",
    "track_id=[]\n",
    "for i in range(len(id_data['artists_id'])):\n",
    "    artist_info = sp.artists(id_data.loc[i, 'artists_id'])['artists']\n",
    "    print(i)\n",
    "    for a in artist_info:\n",
    "        track_id.append(id_data.loc[i,'track_id'])\n",
    "        artist_id.append(a['id'])\n",
    "        artist_name.append(a['name'])\n",
    "        artist_numFollow.append(a['followers']['total'])\n",
    "        artist_genre.append(a['genres'])\n",
    "        artist_pop.append(a['popularity'])\n",
    "    if(i==100):\n",
    "        print(i)\n",
    "        break"
   ]
  },
  {
   "cell_type": "code",
   "execution_count": null,
   "id": "d09ffb88",
   "metadata": {},
   "outputs": [],
   "source": [
    "df = pd.DataFrame({'track_id':track_id,'id':artist_id, 'name': artist_name, 'followers': artist_numFollow,'genres':artist_genre,'popularity':artist_pop})\n",
    "df.to_csv(\"artist2019.csv\")"
   ]
  }
 ],
 "metadata": {
  "kernelspec": {
   "display_name": "Python 3 (ipykernel)",
   "language": "python",
   "name": "python3"
  },
  "language_info": {
   "codemirror_mode": {
    "name": "ipython",
    "version": 3
   },
   "file_extension": ".py",
   "mimetype": "text/x-python",
   "name": "python",
   "nbconvert_exporter": "python",
   "pygments_lexer": "ipython3",
   "version": "3.9.13"
  },
  "toc": {
   "base_numbering": 1,
   "nav_menu": {},
   "number_sections": true,
   "sideBar": true,
   "skip_h1_title": false,
   "title_cell": "Table of Contents",
   "title_sidebar": "Contents",
   "toc_cell": false,
   "toc_position": {},
   "toc_section_display": true,
   "toc_window_display": false
  }
 },
 "nbformat": 4,
 "nbformat_minor": 5
}
