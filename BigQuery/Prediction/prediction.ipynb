{
 "cells": [
  {
   "cell_type": "code",
   "execution_count": 1,
   "metadata": {},
   "outputs": [],
   "source": [
    "import numpy as np\n",
    "import pandas as pd\n",
    "import matplotlib.pyplot as plt\n",
    "import seaborn as sns\n",
    "import json\n",
    "import spotipy\n",
    "from spotipy.oauth2 import SpotifyClientCredentials\n",
    "import requests\n",
    "from spotipy.oauth2 import SpotifyOAuth\n",
    "from tqdm import tqdm\n",
    "import sys\n",
    "import warnings\n",
    "if not sys.warnoptions:\n",
    "    warnings.simplefilter(\"ignore\")\n",
    "import time\n",
    "from google.cloud import bigquery\n",
    "import os\n",
    "\n",
    "import pandas_gbq\n",
    "%load_ext google.cloud.bigquery\n",
    "\n",
    "# Set your default project here\n",
    "pandas_gbq.context.project = 'snappy-boulder-378707'\n",
    "pandas_gbq.context.dialect = 'standard'\n",
    "os.environ[\"GOOGLE_APPLICATION_CREDENTIALS\"] = \"../letsgo-snappy-boulder-378707-4b7d46801fd1.json\"\n",
    "\n",
    "# Construct a BigQuery client object.\n",
    "client = bigquery.Client()\n",
    "\n",
    "\n",
    "from sklearn.compose import ColumnTransformer\n",
    "from sklearn.preprocessing import MinMaxScaler, RobustScaler, OneHotEncoder"
   ]
  },
  {
   "attachments": {},
   "cell_type": "markdown",
   "metadata": {},
   "source": [
    "# Genre"
   ]
  },
  {
   "cell_type": "code",
   "execution_count": 2,
   "metadata": {},
   "outputs": [],
   "source": [
    "import joblib\n",
    "import pickle\n",
    "gb = pickle.load(open('../../Model/gb_0.4343.sav','rb'))\n",
    "#gb = joblib.load('../../Model/gb_0.4343.sav')"
   ]
  },
  {
   "cell_type": "code",
   "execution_count": 156,
   "metadata": {},
   "outputs": [
    {
     "data": {
      "application/vnd.jupyter.widget-view+json": {
       "model_id": "417a809e4d624b1bac1920cdf0c1b3ad",
       "version_major": 2,
       "version_minor": 0
      },
      "text/plain": [
       "Query is running:   0%|          |"
      ]
     },
     "metadata": {},
     "output_type": "display_data"
    },
    {
     "data": {
      "application/vnd.jupyter.widget-view+json": {
       "model_id": "e48e19d4301e4bce948336ddd6d305c8",
       "version_major": 2,
       "version_minor": 0
      },
      "text/plain": [
       "Downloading:   0%|          |"
      ]
     },
     "metadata": {},
     "output_type": "display_data"
    }
   ],
   "source": [
    "%%bigquery genre\n",
    "SELECT distinct * FROM snappy-boulder-378707.NewReleases.NewAudioFeatures"
   ]
  },
  {
   "cell_type": "code",
   "execution_count": 157,
   "metadata": {},
   "outputs": [],
   "source": [
    "dummy_cols = ['key','mode','time_signature']\n",
    "genre= pd.get_dummies(genre, columns=dummy_cols)\n",
    "genre.drop(['energy', 'loudness'],axis=1, inplace=True)"
   ]
  },
  {
   "cell_type": "code",
   "execution_count": 158,
   "metadata": {},
   "outputs": [],
   "source": [
    "features = pd.read_csv(\"../../Model/Genre_classification_features.csv\")"
   ]
  },
  {
   "cell_type": "code",
   "execution_count": 159,
   "metadata": {},
   "outputs": [],
   "source": [
    "for col in set(features.iloc[:,0].values) - set(genre.iloc[:,1:].columns):\n",
    "    genre[col] = 0\n",
    "sc = MinMaxScaler(feature_range = (0,100))\n",
    "genre_trans = sc.fit_transform(genre.iloc[:,1:])"
   ]
  },
  {
   "cell_type": "code",
   "execution_count": 160,
   "metadata": {},
   "outputs": [],
   "source": [
    "pred_genre = gb.predict(genre_trans)"
   ]
  },
  {
   "cell_type": "code",
   "execution_count": 162,
   "metadata": {},
   "outputs": [],
   "source": [
    "genre['Genre'] = pred_genre"
   ]
  },
  {
   "cell_type": "code",
   "execution_count": 164,
   "metadata": {},
   "outputs": [],
   "source": [
    "genre = genre[['id','Genre']]"
   ]
  },
  {
   "cell_type": "code",
   "execution_count": 165,
   "metadata": {},
   "outputs": [
    {
     "data": {
      "text/html": [
       "<div>\n",
       "<style scoped>\n",
       "    .dataframe tbody tr th:only-of-type {\n",
       "        vertical-align: middle;\n",
       "    }\n",
       "\n",
       "    .dataframe tbody tr th {\n",
       "        vertical-align: top;\n",
       "    }\n",
       "\n",
       "    .dataframe thead th {\n",
       "        text-align: right;\n",
       "    }\n",
       "</style>\n",
       "<table border=\"1\" class=\"dataframe\">\n",
       "  <thead>\n",
       "    <tr style=\"text-align: right;\">\n",
       "      <th></th>\n",
       "      <th>id</th>\n",
       "      <th>Genre</th>\n",
       "    </tr>\n",
       "  </thead>\n",
       "  <tbody>\n",
       "    <tr>\n",
       "      <th>0</th>\n",
       "      <td>7rXQXbK4pQo8DSKlZ9ZSjC</td>\n",
       "      <td>K-Pop</td>\n",
       "    </tr>\n",
       "    <tr>\n",
       "      <th>1</th>\n",
       "      <td>2LRqm962By8aNwJX0WxFNG</td>\n",
       "      <td>Folk &amp; Acoustic</td>\n",
       "    </tr>\n",
       "    <tr>\n",
       "      <th>2</th>\n",
       "      <td>0Oqxt6JixieLHbwMfnJGWO</td>\n",
       "      <td>Jazz</td>\n",
       "    </tr>\n",
       "    <tr>\n",
       "      <th>3</th>\n",
       "      <td>0tYtfBFJLVn2ITE66FbaLT</td>\n",
       "      <td>Indie</td>\n",
       "    </tr>\n",
       "    <tr>\n",
       "      <th>4</th>\n",
       "      <td>5ZSqX1dDJ823Dndw94nogY</td>\n",
       "      <td>Dance Electronic</td>\n",
       "    </tr>\n",
       "    <tr>\n",
       "      <th>...</th>\n",
       "      <td>...</td>\n",
       "      <td>...</td>\n",
       "    </tr>\n",
       "    <tr>\n",
       "      <th>179</th>\n",
       "      <td>1Oi8jp3BvmESVXIPtJ06a5</td>\n",
       "      <td>K-Pop</td>\n",
       "    </tr>\n",
       "    <tr>\n",
       "      <th>180</th>\n",
       "      <td>2lxwvwNTCT6T2k9agnujeO</td>\n",
       "      <td>Mandopop</td>\n",
       "    </tr>\n",
       "    <tr>\n",
       "      <th>181</th>\n",
       "      <td>6f6jhTzxwvAYhzZrABTO8T</td>\n",
       "      <td>Malay Pop</td>\n",
       "    </tr>\n",
       "    <tr>\n",
       "      <th>182</th>\n",
       "      <td>4Fx7GtXOK8k3rxVgKzi6ko</td>\n",
       "      <td>Mandopop</td>\n",
       "    </tr>\n",
       "    <tr>\n",
       "      <th>183</th>\n",
       "      <td>2YbBUSP4vir7GmiTBasAFk</td>\n",
       "      <td>Classical</td>\n",
       "    </tr>\n",
       "  </tbody>\n",
       "</table>\n",
       "<p>184 rows × 2 columns</p>\n",
       "</div>"
      ],
      "text/plain": [
       "                         id             Genre\n",
       "0    7rXQXbK4pQo8DSKlZ9ZSjC             K-Pop\n",
       "1    2LRqm962By8aNwJX0WxFNG   Folk & Acoustic\n",
       "2    0Oqxt6JixieLHbwMfnJGWO              Jazz\n",
       "3    0tYtfBFJLVn2ITE66FbaLT             Indie\n",
       "4    5ZSqX1dDJ823Dndw94nogY  Dance Electronic\n",
       "..                      ...               ...\n",
       "179  1Oi8jp3BvmESVXIPtJ06a5             K-Pop\n",
       "180  2lxwvwNTCT6T2k9agnujeO          Mandopop\n",
       "181  6f6jhTzxwvAYhzZrABTO8T         Malay Pop\n",
       "182  4Fx7GtXOK8k3rxVgKzi6ko          Mandopop\n",
       "183  2YbBUSP4vir7GmiTBasAFk         Classical\n",
       "\n",
       "[184 rows x 2 columns]"
      ]
     },
     "execution_count": 165,
     "metadata": {},
     "output_type": "execute_result"
    }
   ],
   "source": [
    "genre"
   ]
  },
  {
   "attachments": {},
   "cell_type": "markdown",
   "metadata": {},
   "source": [
    "# Popularity"
   ]
  },
  {
   "cell_type": "code",
   "execution_count": 88,
   "metadata": {},
   "outputs": [
    {
     "data": {
      "application/vnd.jupyter.widget-view+json": {
       "model_id": "fa1c2707247f4dd18eae2e2731c2431c",
       "version_major": 2,
       "version_minor": 0
      },
      "text/plain": [
       "Query is running:   0%|          |"
      ]
     },
     "metadata": {},
     "output_type": "display_data"
    },
    {
     "data": {
      "application/vnd.jupyter.widget-view+json": {
       "model_id": "c6c61cfcd920422e8a97f2a40af6722b",
       "version_major": 2,
       "version_minor": 0
      },
      "text/plain": [
       "Downloading:   0%|          |"
      ]
     },
     "metadata": {},
     "output_type": "display_data"
    }
   ],
   "source": [
    "%%bigquery popularity\n",
    "SELECT distinct s1.id,\n",
    "s1.explicit,\n",
    "s1.available_markets,\n",
    "artist_id,\n",
    "danceability,\n",
    "energy,\n",
    "key,\n",
    "loudness,\n",
    "mode,\n",
    "speechiness,\n",
    "acousticness,\n",
    "instrumentalness,\n",
    "liveness,\n",
    "valence,\n",
    "tempo,\n",
    "duration_ms,\n",
    "time_signature,\n",
    "release_date FROM `snappy-boulder-378707.NewReleases.NewTracks`  as s1\n",
    "inner join `snappy-boulder-378707.NewReleases.NewAudioFeatures`as s2\n",
    "on s1.id = s2.id\n",
    "inner join `snappy-boulder-378707.NewReleases.NewAlbums` as s3\n",
    "on s1.album_id = s3.id"
   ]
  },
  {
   "cell_type": "code",
   "execution_count": 89,
   "metadata": {},
   "outputs": [
    {
     "data": {
      "application/vnd.jupyter.widget-view+json": {
       "model_id": "b6180b5fc2e8449b9abb983a1f728962",
       "version_major": 2,
       "version_minor": 0
      },
      "text/plain": [
       "Query is running:   0%|          |"
      ]
     },
     "metadata": {},
     "output_type": "display_data"
    },
    {
     "data": {
      "application/vnd.jupyter.widget-view+json": {
       "model_id": "27555670d9524b8d93ea93f810076d31",
       "version_major": 2,
       "version_minor": 0
      },
      "text/plain": [
       "Downloading:   0%|          |"
      ]
     },
     "metadata": {},
     "output_type": "display_data"
    }
   ],
   "source": [
    "%%bigquery artist\n",
    "SELECT distinct id, followers, popularity FROM `snappy-boulder-378707.TrackClearInfo.ArtistInfo`"
   ]
  },
  {
   "cell_type": "code",
   "execution_count": 90,
   "metadata": {},
   "outputs": [],
   "source": [
    "popularity = popularity.assign(artist_id=popularity.artist_id.str.split(\";\")).explode('artist_id')"
   ]
  },
  {
   "cell_type": "code",
   "execution_count": 91,
   "metadata": {},
   "outputs": [],
   "source": [
    "popularity = pd.merge(popularity, artist, left_on=\"artist_id\",right_on=\"id\", how=\"left\")"
   ]
  },
  {
   "cell_type": "code",
   "execution_count": 92,
   "metadata": {},
   "outputs": [],
   "source": [
    "popularity.columns = ['id_track', 'explicit', 'available_markets', 'artist_id', 'danceability',\n",
    "       'energy', 'key', 'loudness', 'mode', 'speechiness', 'acousticness',\n",
    "       'instrumentalness', 'liveness', 'valence', 'tempo', 'duration_ms',\n",
    "       'time_signature', 'release_date', 'artist_id', 'followers', 'popularity_artist']\n",
    "popularity.drop_duplicates(inplace=True)"
   ]
  },
  {
   "cell_type": "code",
   "execution_count": 93,
   "metadata": {},
   "outputs": [],
   "source": [
    "popularity = popularity.groupby(['id_track', 'explicit', 'available_markets','danceability',\n",
    "       'energy', 'key', 'loudness', 'mode', 'speechiness', 'acousticness',\n",
    "       'instrumentalness', 'liveness', 'valence', 'tempo', 'duration_ms',\n",
    "       'time_signature', 'release_date'], as_index=False).aggregate({'followers':'mean','popularity_artist':'mean'})"
   ]
  },
  {
   "cell_type": "code",
   "execution_count": 94,
   "metadata": {},
   "outputs": [],
   "source": [
    "import datetime as dt\n",
    "popularity['release_date']=popularity['release_date'].map(dt.datetime.toordinal)\n",
    "prediction = popularity[['id_track']]\n",
    "popularity.drop(['id_track'],axis=1, inplace=True)"
   ]
  },
  {
   "cell_type": "code",
   "execution_count": 95,
   "metadata": {},
   "outputs": [],
   "source": [
    "popularity['instrumentalness'] = popularity['instrumentalness'].apply(lambda x: 1 if x < 0.1 else (3 if x > 0.4 else 2))\n",
    "popularity['speechiness'] = popularity['speechiness'].apply(lambda x: 1 if x < 0.1 else (3 if x > 0.95 else 2))"
   ]
  },
  {
   "cell_type": "code",
   "execution_count": 96,
   "metadata": {},
   "outputs": [],
   "source": [
    "ct = joblib.load('../../Model/column_transfomer.joblib')"
   ]
  },
  {
   "cell_type": "code",
   "execution_count": 97,
   "metadata": {},
   "outputs": [],
   "source": [
    "# ct = ColumnTransformer([('minmax', MinMaxScaler(), ['release_date','loudness', 'tempo', 'duration_ms','available_markets','followers','popularity_artist']),\n",
    "#                         ('categorical', OneHotEncoder(), ['key','mode','time_signature','explicit','instrumentalness','speechiness']),\n",
    "#                        ],\n",
    "#                        remainder='passthrough')\n",
    "\n",
    "popularity = pd.DataFrame(ct.transform(popularity), columns=ct.get_feature_names_out())"
   ]
  },
  {
   "cell_type": "code",
   "execution_count": 98,
   "metadata": {},
   "outputs": [],
   "source": [
    "popularity_features = pd.read_csv(\"../../Model/Popularity_features.csv\")"
   ]
  },
  {
   "cell_type": "code",
   "execution_count": 99,
   "metadata": {},
   "outputs": [
    {
     "data": {
      "text/plain": [
       "set()"
      ]
     },
     "execution_count": 99,
     "metadata": {},
     "output_type": "execute_result"
    }
   ],
   "source": [
    "set(popularity_features.iloc[:,0].values) - set(popularity.columns)"
   ]
  },
  {
   "cell_type": "code",
   "execution_count": 100,
   "metadata": {},
   "outputs": [],
   "source": [
    "for col in set(popularity_features.iloc[:,0].values) - set(popularity.columns):\n",
    "    popularity[col] = 0"
   ]
  },
  {
   "cell_type": "code",
   "execution_count": 101,
   "metadata": {},
   "outputs": [],
   "source": [
    "import joblib\n",
    "lr = joblib.load(open('../../Model/Popularity Prediction Model.sav','rb'))"
   ]
  },
  {
   "cell_type": "code",
   "execution_count": 107,
   "metadata": {},
   "outputs": [],
   "source": [
    "pred_lr = lr.predict(popularity)\n",
    "prediction['popularity'] = pred_lr"
   ]
  }
 ],
 "metadata": {
  "kernelspec": {
   "display_name": "IS3107",
   "language": "python",
   "name": "python3"
  },
  "language_info": {
   "codemirror_mode": {
    "name": "ipython",
    "version": 3
   },
   "file_extension": ".py",
   "mimetype": "text/x-python",
   "name": "python",
   "nbconvert_exporter": "python",
   "pygments_lexer": "ipython3",
   "version": "3.9.16"
  },
  "orig_nbformat": 4
 },
 "nbformat": 4,
 "nbformat_minor": 2
}
