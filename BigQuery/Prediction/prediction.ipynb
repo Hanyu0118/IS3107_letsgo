{
 "cells": [
  {
   "cell_type": "code",
   "execution_count": 108,
   "metadata": {},
   "outputs": [
    {
     "name": "stdout",
     "output_type": "stream",
     "text": [
      "The google.cloud.bigquery extension is already loaded. To reload it, use:\n",
      "  %reload_ext google.cloud.bigquery\n"
     ]
    }
   ],
   "source": [
    "import numpy as np\n",
    "import pandas as pd\n",
    "import matplotlib.pyplot as plt\n",
    "import seaborn as sns\n",
    "import json\n",
    "import spotipy\n",
    "from spotipy.oauth2 import SpotifyClientCredentials\n",
    "import requests\n",
    "from spotipy.oauth2 import SpotifyOAuth\n",
    "from tqdm import tqdm\n",
    "import sys\n",
    "import warnings\n",
    "if not sys.warnoptions:\n",
    "    warnings.simplefilter(\"ignore\")\n",
    "import time\n",
    "from google.cloud import bigquery\n",
    "import os\n",
    "\n",
    "import pandas_gbq\n",
    "%load_ext google.cloud.bigquery\n",
    "\n",
    "# Set your default project here\n",
    "pandas_gbq.context.project = 'snappy-boulder-378707'\n",
    "pandas_gbq.context.dialect = 'standard'\n",
    "os.environ[\"GOOGLE_APPLICATION_CREDENTIALS\"] = \"../letsgo-snappy-boulder-378707-4b7d46801fd1.json\"\n",
    "\n",
    "# Construct a BigQuery client object.\n",
    "client = bigquery.Client()\n",
    "\n",
    "\n",
    "from sklearn.compose import ColumnTransformer\n",
    "from sklearn.preprocessing import MinMaxScaler, RobustScaler, OneHotEncoder"
   ]
  },
  {
   "attachments": {},
   "cell_type": "markdown",
   "metadata": {},
   "source": [
    "# Genre"
   ]
  },
  {
   "cell_type": "code",
   "execution_count": 127,
   "metadata": {},
   "outputs": [],
   "source": [
    "import joblib\n",
    "import pickle\n",
    "gb = pickle.load(open('../../Model/gb_0.4343.sav','rb'))\n",
    "#gb = joblib.load('../../Model/gb_0.4343.sav')"
   ]
  },
  {
   "cell_type": "code",
   "execution_count": 156,
   "metadata": {},
   "outputs": [
    {
     "data": {
      "application/vnd.jupyter.widget-view+json": {
       "model_id": "417a809e4d624b1bac1920cdf0c1b3ad",
       "version_major": 2,
       "version_minor": 0
      },
      "text/plain": [
       "Query is running:   0%|          |"
      ]
     },
     "metadata": {},
     "output_type": "display_data"
    },
    {
     "data": {
      "application/vnd.jupyter.widget-view+json": {
       "model_id": "e48e19d4301e4bce948336ddd6d305c8",
       "version_major": 2,
       "version_minor": 0
      },
      "text/plain": [
       "Downloading:   0%|          |"
      ]
     },
     "metadata": {},
     "output_type": "display_data"
    }
   ],
   "source": [
    "%%bigquery genre\n",
    "SELECT distinct * FROM snappy-boulder-378707.NewReleases.NewAudioFeatures"
   ]
  },
  {
   "cell_type": "code",
   "execution_count": 157,
   "metadata": {},
   "outputs": [],
   "source": [
    "dummy_cols = ['key','mode','time_signature']\n",
    "genre= pd.get_dummies(genre, columns=dummy_cols)\n",
    "genre.drop(['energy', 'loudness'],axis=1, inplace=True)"
   ]
  },
  {
   "cell_type": "code",
   "execution_count": 158,
   "metadata": {},
   "outputs": [],
   "source": [
    "features = pd.read_csv(\"../../Model/Genre_classification_features.csv\")"
   ]
  },
  {
   "cell_type": "code",
   "execution_count": 159,
   "metadata": {},
   "outputs": [],
   "source": [
    "for col in set(features.iloc[:,0].values) - set(genre.iloc[:,1:].columns):\n",
    "    genre[col] = 0\n",
    "sc = MinMaxScaler(feature_range = (0,100))\n",
    "genre_trans = sc.fit_transform(genre.iloc[:,1:])"
   ]
  },
  {
   "cell_type": "code",
   "execution_count": 160,
   "metadata": {},
   "outputs": [],
   "source": [
    "pred_genre = gb.predict(genre_trans)"
   ]
  },
  {
   "cell_type": "code",
   "execution_count": 162,
   "metadata": {},
   "outputs": [],
   "source": [
    "genre['Genre'] = pred_genre"
   ]
  },
  {
   "cell_type": "code",
   "execution_count": 164,
   "metadata": {},
   "outputs": [],
   "source": [
    "genre = genre[['id','Genre']]"
   ]
  },
  {
   "cell_type": "code",
   "execution_count": 165,
   "metadata": {},
   "outputs": [
    {
     "data": {
      "text/html": [
       "<div>\n",
       "<style scoped>\n",
       "    .dataframe tbody tr th:only-of-type {\n",
       "        vertical-align: middle;\n",
       "    }\n",
       "\n",
       "    .dataframe tbody tr th {\n",
       "        vertical-align: top;\n",
       "    }\n",
       "\n",
       "    .dataframe thead th {\n",
       "        text-align: right;\n",
       "    }\n",
       "</style>\n",
       "<table border=\"1\" class=\"dataframe\">\n",
       "  <thead>\n",
       "    <tr style=\"text-align: right;\">\n",
       "      <th></th>\n",
       "      <th>id</th>\n",
       "      <th>Genre</th>\n",
       "    </tr>\n",
       "  </thead>\n",
       "  <tbody>\n",
       "    <tr>\n",
       "      <th>0</th>\n",
       "      <td>7rXQXbK4pQo8DSKlZ9ZSjC</td>\n",
       "      <td>K-Pop</td>\n",
       "    </tr>\n",
       "    <tr>\n",
       "      <th>1</th>\n",
       "      <td>2LRqm962By8aNwJX0WxFNG</td>\n",
       "      <td>Folk &amp; Acoustic</td>\n",
       "    </tr>\n",
       "    <tr>\n",
       "      <th>2</th>\n",
       "      <td>0Oqxt6JixieLHbwMfnJGWO</td>\n",
       "      <td>Jazz</td>\n",
       "    </tr>\n",
       "    <tr>\n",
       "      <th>3</th>\n",
       "      <td>0tYtfBFJLVn2ITE66FbaLT</td>\n",
       "      <td>Indie</td>\n",
       "    </tr>\n",
       "    <tr>\n",
       "      <th>4</th>\n",
       "      <td>5ZSqX1dDJ823Dndw94nogY</td>\n",
       "      <td>Dance Electronic</td>\n",
       "    </tr>\n",
       "    <tr>\n",
       "      <th>...</th>\n",
       "      <td>...</td>\n",
       "      <td>...</td>\n",
       "    </tr>\n",
       "    <tr>\n",
       "      <th>179</th>\n",
       "      <td>1Oi8jp3BvmESVXIPtJ06a5</td>\n",
       "      <td>K-Pop</td>\n",
       "    </tr>\n",
       "    <tr>\n",
       "      <th>180</th>\n",
       "      <td>2lxwvwNTCT6T2k9agnujeO</td>\n",
       "      <td>Mandopop</td>\n",
       "    </tr>\n",
       "    <tr>\n",
       "      <th>181</th>\n",
       "      <td>6f6jhTzxwvAYhzZrABTO8T</td>\n",
       "      <td>Malay Pop</td>\n",
       "    </tr>\n",
       "    <tr>\n",
       "      <th>182</th>\n",
       "      <td>4Fx7GtXOK8k3rxVgKzi6ko</td>\n",
       "      <td>Mandopop</td>\n",
       "    </tr>\n",
       "    <tr>\n",
       "      <th>183</th>\n",
       "      <td>2YbBUSP4vir7GmiTBasAFk</td>\n",
       "      <td>Classical</td>\n",
       "    </tr>\n",
       "  </tbody>\n",
       "</table>\n",
       "<p>184 rows × 2 columns</p>\n",
       "</div>"
      ],
      "text/plain": [
       "                         id             Genre\n",
       "0    7rXQXbK4pQo8DSKlZ9ZSjC             K-Pop\n",
       "1    2LRqm962By8aNwJX0WxFNG   Folk & Acoustic\n",
       "2    0Oqxt6JixieLHbwMfnJGWO              Jazz\n",
       "3    0tYtfBFJLVn2ITE66FbaLT             Indie\n",
       "4    5ZSqX1dDJ823Dndw94nogY  Dance Electronic\n",
       "..                      ...               ...\n",
       "179  1Oi8jp3BvmESVXIPtJ06a5             K-Pop\n",
       "180  2lxwvwNTCT6T2k9agnujeO          Mandopop\n",
       "181  6f6jhTzxwvAYhzZrABTO8T         Malay Pop\n",
       "182  4Fx7GtXOK8k3rxVgKzi6ko          Mandopop\n",
       "183  2YbBUSP4vir7GmiTBasAFk         Classical\n",
       "\n",
       "[184 rows x 2 columns]"
      ]
     },
     "execution_count": 165,
     "metadata": {},
     "output_type": "execute_result"
    }
   ],
   "source": [
    "genre"
   ]
  },
  {
   "attachments": {},
   "cell_type": "markdown",
   "metadata": {},
   "source": [
    "# Popularity"
   ]
  },
  {
   "cell_type": "code",
   "execution_count": 143,
   "metadata": {},
   "outputs": [
    {
     "data": {
      "application/vnd.jupyter.widget-view+json": {
       "model_id": "12cce2bc742447a2a7983b6c588a8186",
       "version_major": 2,
       "version_minor": 0
      },
      "text/plain": [
       "Query is running:   0%|          |"
      ]
     },
     "metadata": {},
     "output_type": "display_data"
    },
    {
     "data": {
      "application/vnd.jupyter.widget-view+json": {
       "model_id": "c965dbefea1749efb7909ff193950836",
       "version_major": 2,
       "version_minor": 0
      },
      "text/plain": [
       "Downloading:   0%|          |"
      ]
     },
     "metadata": {},
     "output_type": "display_data"
    }
   ],
   "source": [
    "%%bigquery popularity\n",
    "SELECT distinct s1.id,\n",
    "s1.explicit,\n",
    "s1.available_markets,\n",
    "artist_id,\n",
    "danceability,\n",
    "energy,\n",
    "key,\n",
    "loudness,\n",
    "mode,\n",
    "speechiness,\n",
    "acousticness,\n",
    "instrumentalness,\n",
    "liveness,\n",
    "valence,\n",
    "tempo,\n",
    "duration_ms,\n",
    "time_signature,\n",
    "release_date FROM `snappy-boulder-378707.NewReleases.NewTracks`  as s1\n",
    "inner join `snappy-boulder-378707.NewReleases.NewAudioFeatures`as s2\n",
    "on s1.id = s2.id\n",
    "inner join `snappy-boulder-378707.NewReleases.NewAlbums` as s3\n",
    "on s1.album_id = s3.id"
   ]
  },
  {
   "cell_type": "code",
   "execution_count": 139,
   "metadata": {},
   "outputs": [
    {
     "data": {
      "application/vnd.jupyter.widget-view+json": {
       "model_id": "8e428e61232f4fa3b73e0826069d2b6b",
       "version_major": 2,
       "version_minor": 0
      },
      "text/plain": [
       "Query is running:   0%|          |"
      ]
     },
     "metadata": {},
     "output_type": "display_data"
    },
    {
     "data": {
      "application/vnd.jupyter.widget-view+json": {
       "model_id": "66d614b428a44ca79b67cf8a2fb9c6df",
       "version_major": 2,
       "version_minor": 0
      },
      "text/plain": [
       "Downloading:   0%|          |"
      ]
     },
     "metadata": {},
     "output_type": "display_data"
    }
   ],
   "source": [
    "%%bigquery artist\n",
    "SELECT distinct id, followers, popularity FROM `snappy-boulder-378707.TrackClearInfo.ArtistInfo`"
   ]
  },
  {
   "cell_type": "code",
   "execution_count": 144,
   "metadata": {},
   "outputs": [
    {
     "data": {
      "text/html": [
       "<div>\n",
       "<style scoped>\n",
       "    .dataframe tbody tr th:only-of-type {\n",
       "        vertical-align: middle;\n",
       "    }\n",
       "\n",
       "    .dataframe tbody tr th {\n",
       "        vertical-align: top;\n",
       "    }\n",
       "\n",
       "    .dataframe thead th {\n",
       "        text-align: right;\n",
       "    }\n",
       "</style>\n",
       "<table border=\"1\" class=\"dataframe\">\n",
       "  <thead>\n",
       "    <tr style=\"text-align: right;\">\n",
       "      <th></th>\n",
       "      <th>id</th>\n",
       "      <th>explicit</th>\n",
       "      <th>available_markets</th>\n",
       "      <th>artist_id</th>\n",
       "      <th>danceability</th>\n",
       "      <th>energy</th>\n",
       "      <th>key</th>\n",
       "      <th>loudness</th>\n",
       "      <th>mode</th>\n",
       "      <th>speechiness</th>\n",
       "      <th>acousticness</th>\n",
       "      <th>instrumentalness</th>\n",
       "      <th>liveness</th>\n",
       "      <th>valence</th>\n",
       "      <th>tempo</th>\n",
       "      <th>duration_ms</th>\n",
       "      <th>time_signature</th>\n",
       "      <th>release_date</th>\n",
       "    </tr>\n",
       "  </thead>\n",
       "  <tbody>\n",
       "    <tr>\n",
       "      <th>0</th>\n",
       "      <td>4QLqCFAGqvHnjOWCtHTsQL</td>\n",
       "      <td>0</td>\n",
       "      <td>105</td>\n",
       "      <td>[;';7;q;r;E;X;i;L;L;n;W;k;k;Y;H;h;a;d;Z;1;O;i;...</td>\n",
       "      <td>0.576</td>\n",
       "      <td>0.446</td>\n",
       "      <td>6</td>\n",
       "      <td>-6.509</td>\n",
       "      <td>0</td>\n",
       "      <td>0.0427</td>\n",
       "      <td>0.00598</td>\n",
       "      <td>0.000551</td>\n",
       "      <td>0.0899</td>\n",
       "      <td>0.662</td>\n",
       "      <td>91.995</td>\n",
       "      <td>117850</td>\n",
       "      <td>4</td>\n",
       "      <td>2023-04-07</td>\n",
       "    </tr>\n",
       "    <tr>\n",
       "      <th>1</th>\n",
       "      <td>7f1mKhZ8s6di51f76Qf03E</td>\n",
       "      <td>0</td>\n",
       "      <td>105</td>\n",
       "      <td>[;';7;q;r;E;X;i;L;L;n;W;k;k;Y;H;h;a;d;Z;1;O;i;...</td>\n",
       "      <td>0.461</td>\n",
       "      <td>0.550</td>\n",
       "      <td>6</td>\n",
       "      <td>-5.439</td>\n",
       "      <td>0</td>\n",
       "      <td>0.0325</td>\n",
       "      <td>0.13700</td>\n",
       "      <td>0.000002</td>\n",
       "      <td>0.1090</td>\n",
       "      <td>0.526</td>\n",
       "      <td>82.991</td>\n",
       "      <td>143687</td>\n",
       "      <td>4</td>\n",
       "      <td>2023-04-07</td>\n",
       "    </tr>\n",
       "    <tr>\n",
       "      <th>2</th>\n",
       "      <td>2pqi703QQcp2zsuS3NgCii</td>\n",
       "      <td>0</td>\n",
       "      <td>105</td>\n",
       "      <td>[;';7;q;r;E;X;i;L;L;n;W;k;k;Y;H;h;a;d;Z;1;O;i;...</td>\n",
       "      <td>0.586</td>\n",
       "      <td>0.548</td>\n",
       "      <td>0</td>\n",
       "      <td>-7.453</td>\n",
       "      <td>1</td>\n",
       "      <td>0.0249</td>\n",
       "      <td>0.11400</td>\n",
       "      <td>0.000023</td>\n",
       "      <td>0.2220</td>\n",
       "      <td>0.485</td>\n",
       "      <td>139.997</td>\n",
       "      <td>216852</td>\n",
       "      <td>4</td>\n",
       "      <td>2023-04-07</td>\n",
       "    </tr>\n",
       "    <tr>\n",
       "      <th>3</th>\n",
       "      <td>4wHo9RDSY0elxbeiMpYNLN</td>\n",
       "      <td>0</td>\n",
       "      <td>105</td>\n",
       "      <td>[;';7;q;r;E;X;i;L;L;n;W;k;k;Y;H;h;a;d;Z;1;O;i;...</td>\n",
       "      <td>0.560</td>\n",
       "      <td>0.798</td>\n",
       "      <td>7</td>\n",
       "      <td>-5.197</td>\n",
       "      <td>1</td>\n",
       "      <td>0.0357</td>\n",
       "      <td>0.00794</td>\n",
       "      <td>0.793000</td>\n",
       "      <td>0.0907</td>\n",
       "      <td>0.271</td>\n",
       "      <td>112.016</td>\n",
       "      <td>274348</td>\n",
       "      <td>4</td>\n",
       "      <td>2023-04-07</td>\n",
       "    </tr>\n",
       "    <tr>\n",
       "      <th>4</th>\n",
       "      <td>1oMceEpywwehJQWKGueTlc</td>\n",
       "      <td>0</td>\n",
       "      <td>105</td>\n",
       "      <td>[;';7;q;r;E;X;i;L;L;n;W;k;k;Y;H;h;a;d;Z;1;O;i;...</td>\n",
       "      <td>0.565</td>\n",
       "      <td>0.694</td>\n",
       "      <td>7</td>\n",
       "      <td>-5.402</td>\n",
       "      <td>1</td>\n",
       "      <td>0.0294</td>\n",
       "      <td>0.00443</td>\n",
       "      <td>0.000004</td>\n",
       "      <td>0.2880</td>\n",
       "      <td>0.402</td>\n",
       "      <td>135.991</td>\n",
       "      <td>226661</td>\n",
       "      <td>4</td>\n",
       "      <td>2023-04-07</td>\n",
       "    </tr>\n",
       "    <tr>\n",
       "      <th>...</th>\n",
       "      <td>...</td>\n",
       "      <td>...</td>\n",
       "      <td>...</td>\n",
       "      <td>...</td>\n",
       "      <td>...</td>\n",
       "      <td>...</td>\n",
       "      <td>...</td>\n",
       "      <td>...</td>\n",
       "      <td>...</td>\n",
       "      <td>...</td>\n",
       "      <td>...</td>\n",
       "      <td>...</td>\n",
       "      <td>...</td>\n",
       "      <td>...</td>\n",
       "      <td>...</td>\n",
       "      <td>...</td>\n",
       "      <td>...</td>\n",
       "      <td>...</td>\n",
       "    </tr>\n",
       "    <tr>\n",
       "      <th>252</th>\n",
       "      <td>1FD5Ls4IazGePpuS5PphMn</td>\n",
       "      <td>0</td>\n",
       "      <td>184</td>\n",
       "      <td>762310PdDnwsDxAQxzQkfX</td>\n",
       "      <td>0.405</td>\n",
       "      <td>0.762</td>\n",
       "      <td>9</td>\n",
       "      <td>-5.826</td>\n",
       "      <td>0</td>\n",
       "      <td>0.0536</td>\n",
       "      <td>0.03230</td>\n",
       "      <td>0.023700</td>\n",
       "      <td>0.0912</td>\n",
       "      <td>0.385</td>\n",
       "      <td>179.875</td>\n",
       "      <td>228474</td>\n",
       "      <td>3</td>\n",
       "      <td>2023-03-24</td>\n",
       "    </tr>\n",
       "    <tr>\n",
       "      <th>253</th>\n",
       "      <td>2ARxntdEqBj9MeKFuckr8R</td>\n",
       "      <td>0</td>\n",
       "      <td>184</td>\n",
       "      <td>762310PdDnwsDxAQxzQkfX</td>\n",
       "      <td>0.629</td>\n",
       "      <td>0.774</td>\n",
       "      <td>10</td>\n",
       "      <td>-4.667</td>\n",
       "      <td>0</td>\n",
       "      <td>0.0279</td>\n",
       "      <td>0.00528</td>\n",
       "      <td>0.244000</td>\n",
       "      <td>0.0857</td>\n",
       "      <td>0.406</td>\n",
       "      <td>120.016</td>\n",
       "      <td>237297</td>\n",
       "      <td>4</td>\n",
       "      <td>2023-03-24</td>\n",
       "    </tr>\n",
       "    <tr>\n",
       "      <th>254</th>\n",
       "      <td>32IMgcVhysYW12NRvMLp8c</td>\n",
       "      <td>0</td>\n",
       "      <td>182</td>\n",
       "      <td>24V5UY0nChKpnb1TBPJhCw;68WwJXWrpo1yVOOIZjLSeT</td>\n",
       "      <td>0.674</td>\n",
       "      <td>0.742</td>\n",
       "      <td>0</td>\n",
       "      <td>-6.374</td>\n",
       "      <td>1</td>\n",
       "      <td>0.0384</td>\n",
       "      <td>0.01170</td>\n",
       "      <td>0.000003</td>\n",
       "      <td>0.2810</td>\n",
       "      <td>0.604</td>\n",
       "      <td>135.007</td>\n",
       "      <td>186000</td>\n",
       "      <td>4</td>\n",
       "      <td>2023-03-22</td>\n",
       "    </tr>\n",
       "    <tr>\n",
       "      <th>255</th>\n",
       "      <td>1ENQZlb9iVUnCoN2QtI77e</td>\n",
       "      <td>0</td>\n",
       "      <td>183</td>\n",
       "      <td>45eNHdiiabvmbp4erw26rg;164Uj4eKjl6zTBKfJLFKKK</td>\n",
       "      <td>0.565</td>\n",
       "      <td>0.697</td>\n",
       "      <td>9</td>\n",
       "      <td>-4.901</td>\n",
       "      <td>1</td>\n",
       "      <td>0.0316</td>\n",
       "      <td>0.32100</td>\n",
       "      <td>0.000000</td>\n",
       "      <td>0.0926</td>\n",
       "      <td>0.343</td>\n",
       "      <td>99.934</td>\n",
       "      <td>177600</td>\n",
       "      <td>4</td>\n",
       "      <td>2023-03-24</td>\n",
       "    </tr>\n",
       "    <tr>\n",
       "      <th>256</th>\n",
       "      <td>23n22VUOFReLqzuaXjYa0r</td>\n",
       "      <td>0</td>\n",
       "      <td>183</td>\n",
       "      <td>63XBtGSEZINSyXylZxEUbv;5Vuvs6Py2JRU7WiFDVsI7J</td>\n",
       "      <td>0.806</td>\n",
       "      <td>0.404</td>\n",
       "      <td>2</td>\n",
       "      <td>-5.818</td>\n",
       "      <td>0</td>\n",
       "      <td>0.0468</td>\n",
       "      <td>0.15200</td>\n",
       "      <td>0.000005</td>\n",
       "      <td>0.1660</td>\n",
       "      <td>0.517</td>\n",
       "      <td>136.036</td>\n",
       "      <td>186157</td>\n",
       "      <td>4</td>\n",
       "      <td>2023-03-24</td>\n",
       "    </tr>\n",
       "  </tbody>\n",
       "</table>\n",
       "<p>257 rows × 18 columns</p>\n",
       "</div>"
      ],
      "text/plain": [
       "                         id  explicit  available_markets  \\\n",
       "0    4QLqCFAGqvHnjOWCtHTsQL         0                105   \n",
       "1    7f1mKhZ8s6di51f76Qf03E         0                105   \n",
       "2    2pqi703QQcp2zsuS3NgCii         0                105   \n",
       "3    4wHo9RDSY0elxbeiMpYNLN         0                105   \n",
       "4    1oMceEpywwehJQWKGueTlc         0                105   \n",
       "..                      ...       ...                ...   \n",
       "252  1FD5Ls4IazGePpuS5PphMn         0                184   \n",
       "253  2ARxntdEqBj9MeKFuckr8R         0                184   \n",
       "254  32IMgcVhysYW12NRvMLp8c         0                182   \n",
       "255  1ENQZlb9iVUnCoN2QtI77e         0                183   \n",
       "256  23n22VUOFReLqzuaXjYa0r         0                183   \n",
       "\n",
       "                                             artist_id  danceability  energy  \\\n",
       "0    [;';7;q;r;E;X;i;L;L;n;W;k;k;Y;H;h;a;d;Z;1;O;i;...         0.576   0.446   \n",
       "1    [;';7;q;r;E;X;i;L;L;n;W;k;k;Y;H;h;a;d;Z;1;O;i;...         0.461   0.550   \n",
       "2    [;';7;q;r;E;X;i;L;L;n;W;k;k;Y;H;h;a;d;Z;1;O;i;...         0.586   0.548   \n",
       "3    [;';7;q;r;E;X;i;L;L;n;W;k;k;Y;H;h;a;d;Z;1;O;i;...         0.560   0.798   \n",
       "4    [;';7;q;r;E;X;i;L;L;n;W;k;k;Y;H;h;a;d;Z;1;O;i;...         0.565   0.694   \n",
       "..                                                 ...           ...     ...   \n",
       "252                             762310PdDnwsDxAQxzQkfX         0.405   0.762   \n",
       "253                             762310PdDnwsDxAQxzQkfX         0.629   0.774   \n",
       "254      24V5UY0nChKpnb1TBPJhCw;68WwJXWrpo1yVOOIZjLSeT         0.674   0.742   \n",
       "255      45eNHdiiabvmbp4erw26rg;164Uj4eKjl6zTBKfJLFKKK         0.565   0.697   \n",
       "256      63XBtGSEZINSyXylZxEUbv;5Vuvs6Py2JRU7WiFDVsI7J         0.806   0.404   \n",
       "\n",
       "     key  loudness  mode  speechiness  acousticness  instrumentalness  \\\n",
       "0      6    -6.509     0       0.0427       0.00598          0.000551   \n",
       "1      6    -5.439     0       0.0325       0.13700          0.000002   \n",
       "2      0    -7.453     1       0.0249       0.11400          0.000023   \n",
       "3      7    -5.197     1       0.0357       0.00794          0.793000   \n",
       "4      7    -5.402     1       0.0294       0.00443          0.000004   \n",
       "..   ...       ...   ...          ...           ...               ...   \n",
       "252    9    -5.826     0       0.0536       0.03230          0.023700   \n",
       "253   10    -4.667     0       0.0279       0.00528          0.244000   \n",
       "254    0    -6.374     1       0.0384       0.01170          0.000003   \n",
       "255    9    -4.901     1       0.0316       0.32100          0.000000   \n",
       "256    2    -5.818     0       0.0468       0.15200          0.000005   \n",
       "\n",
       "     liveness  valence    tempo  duration_ms  time_signature release_date  \n",
       "0      0.0899    0.662   91.995       117850               4   2023-04-07  \n",
       "1      0.1090    0.526   82.991       143687               4   2023-04-07  \n",
       "2      0.2220    0.485  139.997       216852               4   2023-04-07  \n",
       "3      0.0907    0.271  112.016       274348               4   2023-04-07  \n",
       "4      0.2880    0.402  135.991       226661               4   2023-04-07  \n",
       "..        ...      ...      ...          ...             ...          ...  \n",
       "252    0.0912    0.385  179.875       228474               3   2023-03-24  \n",
       "253    0.0857    0.406  120.016       237297               4   2023-03-24  \n",
       "254    0.2810    0.604  135.007       186000               4   2023-03-22  \n",
       "255    0.0926    0.343   99.934       177600               4   2023-03-24  \n",
       "256    0.1660    0.517  136.036       186157               4   2023-03-24  \n",
       "\n",
       "[257 rows x 18 columns]"
      ]
     },
     "execution_count": 144,
     "metadata": {},
     "output_type": "execute_result"
    }
   ],
   "source": [
    "popularity"
   ]
  },
  {
   "cell_type": "code",
   "execution_count": 3,
   "metadata": {},
   "outputs": [
    {
     "data": {
      "application/vnd.jupyter.widget-view+json": {
       "model_id": "3bab6e74c136477dbe61be71498a1728",
       "version_major": 2,
       "version_minor": 0
      },
      "text/plain": [
       "Query is running:   0%|          |"
      ]
     },
     "metadata": {},
     "output_type": "display_data"
    },
    {
     "data": {
      "application/vnd.jupyter.widget-view+json": {
       "model_id": "61bc281d468c4358bb399cc44ad8a32e",
       "version_major": 2,
       "version_minor": 0
      },
      "text/plain": [
       "Downloading:   0%|          |"
      ]
     },
     "metadata": {},
     "output_type": "display_data"
    }
   ],
   "source": [
    "%%bigquery tracks\n",
    "SELECT id, explicit, available_markets,album_id,artist_id FROM snappy-boulder-378707.NewReleases.NewTracks"
   ]
  },
  {
   "cell_type": "code",
   "execution_count": null,
   "metadata": {},
   "outputs": [],
   "source": [
    "ct = ColumnTransformer([('minmax', MinMaxScaler(), ['release_date','loudness', 'tempo', 'duration_ms','available_markets','followers','popularity_artist']),\n",
    "                        ('categorical', OneHotEncoder(), ['key','mode','time_signature','explicit']),\n",
    "                       ],\n",
    "                       remainder='passthrough')\n",
    "\n",
    "ct.fit(X_train)\n",
    "\n",
    "X_train_preprocessed = pd.DataFrame(ct.transform(X_train).tolist())"
   ]
  }
 ],
 "metadata": {
  "kernelspec": {
   "display_name": "IS3107",
   "language": "python",
   "name": "python3"
  },
  "language_info": {
   "codemirror_mode": {
    "name": "ipython",
    "version": 3
   },
   "file_extension": ".py",
   "mimetype": "text/x-python",
   "name": "python",
   "nbconvert_exporter": "python",
   "pygments_lexer": "ipython3",
   "version": "3.9.16"
  },
  "orig_nbformat": 4
 },
 "nbformat": 4,
 "nbformat_minor": 2
}
