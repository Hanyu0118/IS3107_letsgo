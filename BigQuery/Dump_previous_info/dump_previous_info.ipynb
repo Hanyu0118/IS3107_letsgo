{
 "cells": [
  {
   "cell_type": "code",
   "execution_count": 1,
   "metadata": {},
   "outputs": [],
   "source": [
    "import numpy as np\n",
    "import pandas as pd\n",
    "import matplotlib.pyplot as plt\n",
    "import seaborn as sns\n",
    "import json\n",
    "import spotipy\n",
    "from spotipy.oauth2 import SpotifyClientCredentials\n",
    "import requests\n",
    "from spotipy.oauth2 import SpotifyOAuth\n",
    "from tqdm import tqdm\n",
    "import sys\n",
    "import warnings\n",
    "if not sys.warnoptions:\n",
    "    warnings.simplefilter(\"ignore\")\n",
    "import time\n",
    "from google.cloud import bigquery\n",
    "import os\n",
    "\n",
    "import pandas_gbq\n",
    "%load_ext google.cloud.bigquery\n",
    "\n",
    "# Set your default project here\n",
    "pandas_gbq.context.project = 'snappy-boulder-378707'\n",
    "pandas_gbq.context.dialect = 'standard'\n",
    "os.environ[\"GOOGLE_APPLICATION_CREDENTIALS\"] = \"../letsgo-snappy-boulder-378707-4b7d46801fd1.json\"\n",
    "\n",
    "# Construct a BigQuery client object.\n",
    "client = bigquery.Client()"
   ]
  },
  {
   "attachments": {},
   "cell_type": "markdown",
   "metadata": {},
   "source": [
    "# Insert Album info"
   ]
  },
  {
   "cell_type": "code",
   "execution_count": null,
   "metadata": {},
   "outputs": [],
   "source": [
    "%%bigquery\n",
    "INSERT INTO snappy-boulder-378707.TrackClearInfo.AlbumInfo SELECT id,name,total_tracks,release_date,extract_date, available_markets FROM snappy-boulder-378707.NewReleases.NewAlbums"
   ]
  },
  {
   "attachments": {},
   "cell_type": "markdown",
   "metadata": {},
   "source": [
    "# Insert track info"
   ]
  },
  {
   "cell_type": "code",
   "execution_count": null,
   "metadata": {},
   "outputs": [],
   "source": [
    "%%bigquery\n",
    "INSERT INTO snappy-boulder-378707.TrackClearInfo.TrackClearInfo \n",
    "SELECT id, name, album_id, artist_id, popularity, explicit, available_markets,extract_date\n",
    "FROM snappy-boulder-378707.NewReleases.NewTracks"
   ]
  },
  {
   "attachments": {},
   "cell_type": "markdown",
   "metadata": {},
   "source": [
    "# Insert audio features"
   ]
  },
  {
   "cell_type": "code",
   "execution_count": null,
   "metadata": {},
   "outputs": [],
   "source": [
    "%%bigquery\n",
    "INSERT INTO snappy-boulder-378707.AudioFeatures.AudioFeatures \n",
    "SELECT danceability, energy,key,loudness,mode,speechiness,\n",
    "acousticness,instrumentalness,liveness,valence,\t\n",
    "tempo,id, duration_ms,time_signature FROM snappy-boulder-378707.NewReleases.NewAudioFeatures"
   ]
  },
  {
   "attachments": {},
   "cell_type": "markdown",
   "metadata": {},
   "source": [
    "# Statistics about popularity group by genre"
   ]
  },
  {
   "cell_type": "code",
   "execution_count": null,
   "metadata": {},
   "outputs": [],
   "source": [
    "%%bigquery popularity\n",
    "SELECT id, popularity, extract_date FROM snappy-boulder-378707.TrackClearInfo.TrackClearInfo\n"
   ]
  },
  {
   "cell_type": "code",
   "execution_count": null,
   "metadata": {},
   "outputs": [],
   "source": [
    "%%bigquery genre\n",
    "SELECT * FROM snappy-boulder-378707.TrackGenre.Trackgenre"
   ]
  },
  {
   "cell_type": "code",
   "execution_count": null,
   "metadata": {},
   "outputs": [],
   "source": [
    "genre = genre.melt(id_vars=['track_id'], var_name='genre', value_name='value')\n",
    "genre = genre[genre.value == 1]\n",
    "genre.drop(['value'], axis=1, inplace=True)"
   ]
  },
  {
   "cell_type": "code",
   "execution_count": null,
   "metadata": {},
   "outputs": [],
   "source": [
    "genre_popularity = pd.merge(popularity, genre, left_on = \"id\", right_on = \"track_id\", how=\"left\")"
   ]
  },
  {
   "cell_type": "code",
   "execution_count": null,
   "metadata": {},
   "outputs": [],
   "source": [
    "genre_popularity"
   ]
  },
  {
   "cell_type": "code",
   "execution_count": null,
   "metadata": {},
   "outputs": [],
   "source": [
    "stats = genre_popularity.groupby(['genre','extract_date']).aggregate({'popularity':'sum','id':'count'}).reset_index()"
   ]
  },
  {
   "cell_type": "code",
   "execution_count": null,
   "metadata": {},
   "outputs": [],
   "source": [
    "stats.columns = ['genre','extract_date','popularity','total_tracks']"
   ]
  },
  {
   "attachments": {},
   "cell_type": "markdown",
   "metadata": {},
   "source": [
    "## creat temp table"
   ]
  },
  {
   "cell_type": "code",
   "execution_count": null,
   "metadata": {},
   "outputs": [],
   "source": [
    "schema = [\n",
    "    bigquery.SchemaField(\"genre\",\"STRING\"),\n",
    "    bigquery.SchemaField(\"extract_date\",\"DATE\"),\n",
    "    bigquery.SchemaField(\"popularity\",\"INTEGER\"),\n",
    "    bigquery.SchemaField(\"total_tracks\",\"INTEGER\")\n",
    "]\n",
    "\n",
    "\n",
    "# TODO(developer): Set table_id to the ID of the table to create.\n",
    "table_id = \"snappy-boulder-378707.GenrePopularity.GenrePopularityMonth\"\n",
    "table = bigquery.Table(table_id, schema=schema)\n",
    "table = client.create_table(table, timeout=30)  # Make an API request."
   ]
  },
  {
   "cell_type": "code",
   "execution_count": 15,
   "metadata": {},
   "outputs": [
    {
     "name": "stdout",
     "output_type": "stream",
     "text": [
      "Loaded 18 rows and 4 columns to snappy-boulder-378707.GenrePopularity.GenrePopularityMonth\n"
     ]
    }
   ],
   "source": [
    "job_config = bigquery.LoadJobConfig(\n",
    "    schema = schema,\n",
    "    source_format=bigquery.SourceFormat.CSV,\n",
    "    skip_leading_rows=1,\n",
    "    autodetect=True,\n",
    ")\n",
    "\n",
    "job = client.load_table_from_dataframe(stats, table_id, job_config=job_config)\n",
    "\n",
    "job.result()  # Waits for the job to complete.\n",
    "\n",
    "table = client.get_table(table_id)  # Make an API request.\n",
    "print(\n",
    "    \"Loaded {} rows and {} columns to {}\".format(\n",
    "        table.num_rows, len(table.schema), table_id\n",
    "    )\n",
    ")"
   ]
  },
  {
   "cell_type": "code",
   "execution_count": 18,
   "metadata": {},
   "outputs": [
    {
     "data": {
      "application/vnd.jupyter.widget-view+json": {
       "model_id": "cdd2271d7ea349f98edb32d86c88b3ae",
       "version_major": 2,
       "version_minor": 0
      },
      "text/plain": [
       "Query is running:   0%|          |"
      ]
     },
     "metadata": {},
     "output_type": "display_data"
    },
    {
     "data": {
      "text/html": [
       "<div>\n",
       "<style scoped>\n",
       "    .dataframe tbody tr th:only-of-type {\n",
       "        vertical-align: middle;\n",
       "    }\n",
       "\n",
       "    .dataframe tbody tr th {\n",
       "        vertical-align: top;\n",
       "    }\n",
       "\n",
       "    .dataframe thead th {\n",
       "        text-align: right;\n",
       "    }\n",
       "</style>\n",
       "<table border=\"1\" class=\"dataframe\">\n",
       "  <thead>\n",
       "    <tr style=\"text-align: right;\">\n",
       "      <th></th>\n",
       "    </tr>\n",
       "  </thead>\n",
       "  <tbody>\n",
       "  </tbody>\n",
       "</table>\n",
       "</div>"
      ],
      "text/plain": [
       "Empty DataFrame\n",
       "Columns: []\n",
       "Index: []"
      ]
     },
     "execution_count": 18,
     "metadata": {},
     "output_type": "execute_result"
    }
   ],
   "source": [
    "%%bigquery\n",
    "INSERT INTO snappy-boulder-378707.GenrePopularity.GenrePopularity\n",
    "SELECT * FROM snappy-boulder-378707.GenrePopularity.GenrePopularityMonth"
   ]
  },
  {
   "cell_type": "code",
   "execution_count": 19,
   "metadata": {},
   "outputs": [
    {
     "data": {
      "application/vnd.jupyter.widget-view+json": {
       "model_id": "fabfde59d76a4dff9e4cbcfe9ba5d733",
       "version_major": 2,
       "version_minor": 0
      },
      "text/plain": [
       "Query is running:   0%|          |"
      ]
     },
     "metadata": {},
     "output_type": "display_data"
    },
    {
     "data": {
      "text/html": [
       "<div>\n",
       "<style scoped>\n",
       "    .dataframe tbody tr th:only-of-type {\n",
       "        vertical-align: middle;\n",
       "    }\n",
       "\n",
       "    .dataframe tbody tr th {\n",
       "        vertical-align: top;\n",
       "    }\n",
       "\n",
       "    .dataframe thead th {\n",
       "        text-align: right;\n",
       "    }\n",
       "</style>\n",
       "<table border=\"1\" class=\"dataframe\">\n",
       "  <thead>\n",
       "    <tr style=\"text-align: right;\">\n",
       "      <th></th>\n",
       "    </tr>\n",
       "  </thead>\n",
       "  <tbody>\n",
       "  </tbody>\n",
       "</table>\n",
       "</div>"
      ],
      "text/plain": [
       "Empty DataFrame\n",
       "Columns: []\n",
       "Index: []"
      ]
     },
     "execution_count": 19,
     "metadata": {},
     "output_type": "execute_result"
    }
   ],
   "source": [
    "%%bigquery\n",
    "DROP TABLE snappy-boulder-378707.GenrePopularity.GenrePopularityMonth"
   ]
  }
 ],
 "metadata": {
  "kernelspec": {
   "display_name": "IS3107",
   "language": "python",
   "name": "python3"
  },
  "language_info": {
   "codemirror_mode": {
    "name": "ipython",
    "version": 3
   },
   "file_extension": ".py",
   "mimetype": "text/x-python",
   "name": "python",
   "nbconvert_exporter": "python",
   "pygments_lexer": "ipython3",
   "version": "3.9.16"
  },
  "orig_nbformat": 4
 },
 "nbformat": 4,
 "nbformat_minor": 2
}
