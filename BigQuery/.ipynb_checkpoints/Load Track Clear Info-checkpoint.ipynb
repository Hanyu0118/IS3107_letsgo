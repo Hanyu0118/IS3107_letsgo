{
 "cells": [
  {
   "cell_type": "code",
   "execution_count": null,
   "id": "261d0636",
   "metadata": {},
   "outputs": [],
   "source": [
    "# pip install --upgrade google-cloud-BigQuery"
   ]
  },
  {
   "cell_type": "code",
   "execution_count": 1,
   "id": "f4f77135",
   "metadata": {},
   "outputs": [],
   "source": [
    "from google.cloud import bigquery\n",
    "import os"
   ]
  },
  {
   "cell_type": "code",
   "execution_count": 3,
   "id": "b05e41a9",
   "metadata": {},
   "outputs": [],
   "source": [
    "os.environ[\"GOOGLE_APPLICATION_CREDENTIALS\"] = \"letsgo-snappy-boulder-378707-4b7d46801fd1.json\"\n",
    "\n",
    "# Construct a BigQuery client object.\n",
    "client = bigquery.Client()"
   ]
  },
  {
   "cell_type": "code",
   "execution_count": 5,
   "id": "eb7f83c2",
   "metadata": {},
   "outputs": [
    {
     "name": "stdout",
     "output_type": "stream",
     "text": [
      "Created dataset snappy-boulder-378707.TrackClearInfo\n"
     ]
    }
   ],
   "source": [
    "dataset_id = \"snappy-boulder-378707.TrackClearInfo\"\n",
    "dataset = bigquery.Dataset(dataset_id)\n",
    "dataset.location = \"US\"\n",
    "dataset = client.create_dataset(dataset, timeout=30)\n",
    "print(\"Created dataset {}.{}\".format(client.project, dataset.dataset_id))"
   ]
  },
  {
   "cell_type": "code",
   "execution_count": 10,
   "id": "e968a21e",
   "metadata": {},
   "outputs": [
    {
     "name": "stdout",
     "output_type": "stream",
     "text": [
      "Created table snappy-boulder-378707.TrackClearInfo.TrackClearInfo2017\n",
      "Created table snappy-boulder-378707.TrackClearInfo.TrackClearInfo2018\n",
      "Created table snappy-boulder-378707.TrackClearInfo.TrackClearInfo2019\n",
      "Created table snappy-boulder-378707.TrackClearInfo.TrackClearInfo2020\n",
      "Created table snappy-boulder-378707.TrackClearInfo.TrackClearInfo2021\n"
     ]
    }
   ],
   "source": [
    "years = [2017, 2018, 2019, 2020, 2021]\n",
    "schema = [\n",
    "    bigquery.SchemaField(\"unnamed\",\"INTEGER\"),\n",
    "    bigquery.SchemaField(\"id\",\"STRING\"),\n",
    "    bigquery.SchemaField(\"name\",\"STRING\"),\n",
    "    bigquery.SchemaField(\"popularity\",\"INTEGER\"),\n",
    "    bigquery.SchemaField(\"explicit\",\"INTEGER\"),\n",
    "    bigquery.SchemaField(\"available_markets\",\"INTEGER\"),\n",
    "]\n",
    "\n",
    "for year in years:\n",
    "    # TODO(developer): Set table_id to the ID of the table to create.\n",
    "    table_id = \"snappy-boulder-378707.TrackClearInfo.TrackClearInfo{}\".format(year)\n",
    "    table = bigquery.Table(table_id, schema=schema)\n",
    "    table = client.create_table(table, timeout=30)  # Make an API request.\n",
    "    print(\"Created table {}.{}.{}\".format(table.project, table.dataset_id, table.table_id))"
   ]
  },
  {
   "cell_type": "code",
   "execution_count": 11,
   "id": "02e3b8ef",
   "metadata": {},
   "outputs": [
    {
     "name": "stdout",
     "output_type": "stream",
     "text": [
      "Loaded 40111 rows and 6 columns to snappy-boulder-378707.TrackClearInfo.TrackClearInfo2017\n",
      "Loaded 36596 rows and 6 columns to snappy-boulder-378707.TrackClearInfo.TrackClearInfo2018\n",
      "Loaded 27658 rows and 6 columns to snappy-boulder-378707.TrackClearInfo.TrackClearInfo2019\n",
      "Loaded 32418 rows and 6 columns to snappy-boulder-378707.TrackClearInfo.TrackClearInfo2020\n",
      "Loaded 28024 rows and 6 columns to snappy-boulder-378707.TrackClearInfo.TrackClearInfo2021\n"
     ]
    }
   ],
   "source": [
    "job_config = bigquery.LoadJobConfig(\n",
    "    schema = schema,\n",
    "    source_format=bigquery.SourceFormat.CSV,\n",
    "    skip_leading_rows=1,\n",
    "    autodetect=True,\n",
    ")\n",
    "\n",
    "for year in years:\n",
    "    file_path = '../data/tracks clear info {}.csv'.format(year)\n",
    "    table_id = \"snappy-boulder-378707.TrackClearInfo.TrackClearInfo{}\".format(year)\n",
    "\n",
    "    with open(file_path, \"rb\") as source_file:\n",
    "        job = client.load_table_from_file(source_file, table_id, job_config=job_config)\n",
    "\n",
    "    job.result()  # Waits for the job to complete.\n",
    "\n",
    "    table = client.get_table(table_id)  # Make an API request.\n",
    "    print(\n",
    "        \"Loaded {} rows and {} columns to {}\".format(\n",
    "            table.num_rows, len(table.schema), table_id\n",
    "        )\n",
    "    )"
   ]
  }
 ],
 "metadata": {
  "kernelspec": {
   "display_name": "Python 3 (ipykernel)",
   "language": "python",
   "name": "python3"
  },
  "language_info": {
   "codemirror_mode": {
    "name": "ipython",
    "version": 3
   },
   "file_extension": ".py",
   "mimetype": "text/x-python",
   "name": "python",
   "nbconvert_exporter": "python",
   "pygments_lexer": "ipython3",
   "version": "3.9.16"
  }
 },
 "nbformat": 4,
 "nbformat_minor": 5
}
