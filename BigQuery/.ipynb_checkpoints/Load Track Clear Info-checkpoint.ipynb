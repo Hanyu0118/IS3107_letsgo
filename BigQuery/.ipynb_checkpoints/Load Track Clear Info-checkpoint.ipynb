{
 "cells": [
  {
   "cell_type": "code",
   "execution_count": null,
   "id": "261d0636",
   "metadata": {},
   "outputs": [],
   "source": [
    "# pip install --upgrade google-cloud-BigQuery"
   ]
  },
  {
   "cell_type": "code",
   "execution_count": 2,
   "id": "f4f77135",
   "metadata": {},
   "outputs": [],
   "source": [
    "from google.cloud import bigquery\n",
    "import os"
   ]
  },
  {
   "cell_type": "code",
   "execution_count": 7,
   "id": "b05e41a9",
   "metadata": {},
   "outputs": [],
   "source": [
    "os.environ[\"GOOGLE_APPLICATION_CREDENTIALS\"] = \"letsgo-snappy-boulder-378707-4b7d46801fd1.json\""
   ]
  },
  {
   "cell_type": "code",
   "execution_count": 11,
   "id": "02e3b8ef",
   "metadata": {},
   "outputs": [
    {
     "ename": "ValueError",
     "evalue": "When default_project is not set, dataset_id must be a fully-qualified dataset ID in standard SQL format, e.g., \"project.dataset_id\" got tracks clear info",
     "output_type": "error",
     "traceback": [
      "\u001b[1;31m---------------------------------------------------------------------------\u001b[0m",
      "\u001b[1;31mValueError\u001b[0m                                Traceback (most recent call last)",
      "Cell \u001b[1;32mIn[11], line 4\u001b[0m\n\u001b[0;32m      1\u001b[0m \u001b[38;5;66;03m# Construct a BigQuery client object.\u001b[39;00m\n\u001b[0;32m      2\u001b[0m client \u001b[38;5;241m=\u001b[39m bigquery\u001b[38;5;241m.\u001b[39mClient()\n\u001b[1;32m----> 4\u001b[0m dataset \u001b[38;5;241m=\u001b[39m \u001b[43mbigquery\u001b[49m\u001b[38;5;241;43m.\u001b[39;49m\u001b[43mDataset\u001b[49m\u001b[43m(\u001b[49m\u001b[38;5;124;43m\"\u001b[39;49m\u001b[38;5;124;43mtracks clear info\u001b[39;49m\u001b[38;5;124;43m\"\u001b[39;49m\u001b[43m)\u001b[49m\n\u001b[0;32m      5\u001b[0m table \u001b[38;5;241m=\u001b[39m bigquery\u001b[38;5;241m.\u001b[39mTable(\u001b[38;5;124m\"\u001b[39m\u001b[38;5;124mtracks clear info 2017\u001b[39m\u001b[38;5;124m\"\u001b[39m, schema\u001b[38;5;241m=\u001b[39mschema)\n\u001b[0;32m      7\u001b[0m dataset \u001b[38;5;241m=\u001b[39m client\u001b[38;5;241m.\u001b[39mcreate_dataset(dataset)\n",
      "File \u001b[1;32m~\\anaconda3\\envs\\IS3107\\lib\\site-packages\\google\\cloud\\bigquery\\dataset.py:534\u001b[0m, in \u001b[0;36mDataset.__init__\u001b[1;34m(self, dataset_ref)\u001b[0m\n\u001b[0;32m    532\u001b[0m \u001b[38;5;28;01mdef\u001b[39;00m \u001b[38;5;21m__init__\u001b[39m(\u001b[38;5;28mself\u001b[39m, dataset_ref) \u001b[38;5;241m-\u001b[39m\u001b[38;5;241m>\u001b[39m \u001b[38;5;28;01mNone\u001b[39;00m:\n\u001b[0;32m    533\u001b[0m     \u001b[38;5;28;01mif\u001b[39;00m \u001b[38;5;28misinstance\u001b[39m(dataset_ref, \u001b[38;5;28mstr\u001b[39m):\n\u001b[1;32m--> 534\u001b[0m         dataset_ref \u001b[38;5;241m=\u001b[39m \u001b[43mDatasetReference\u001b[49m\u001b[38;5;241;43m.\u001b[39;49m\u001b[43mfrom_string\u001b[49m\u001b[43m(\u001b[49m\u001b[43mdataset_ref\u001b[49m\u001b[43m)\u001b[49m\n\u001b[0;32m    535\u001b[0m     \u001b[38;5;28mself\u001b[39m\u001b[38;5;241m.\u001b[39m_properties \u001b[38;5;241m=\u001b[39m {\u001b[38;5;124m\"\u001b[39m\u001b[38;5;124mdatasetReference\u001b[39m\u001b[38;5;124m\"\u001b[39m: dataset_ref\u001b[38;5;241m.\u001b[39mto_api_repr(), \u001b[38;5;124m\"\u001b[39m\u001b[38;5;124mlabels\u001b[39m\u001b[38;5;124m\"\u001b[39m: {}}\n",
      "File \u001b[1;32m~\\anaconda3\\envs\\IS3107\\lib\\site-packages\\google\\cloud\\bigquery\\dataset.py:173\u001b[0m, in \u001b[0;36mDatasetReference.from_string\u001b[1;34m(cls, dataset_id, default_project)\u001b[0m\n\u001b[0;32m    170\u001b[0m parts \u001b[38;5;241m=\u001b[39m _helpers\u001b[38;5;241m.\u001b[39m_split_id(dataset_id)\n\u001b[0;32m    172\u001b[0m \u001b[38;5;28;01mif\u001b[39;00m \u001b[38;5;28mlen\u001b[39m(parts) \u001b[38;5;241m==\u001b[39m \u001b[38;5;241m1\u001b[39m \u001b[38;5;129;01mand\u001b[39;00m \u001b[38;5;129;01mnot\u001b[39;00m default_project:\n\u001b[1;32m--> 173\u001b[0m     \u001b[38;5;28;01mraise\u001b[39;00m \u001b[38;5;167;01mValueError\u001b[39;00m(\n\u001b[0;32m    174\u001b[0m         \u001b[38;5;124m\"\u001b[39m\u001b[38;5;124mWhen default_project is not set, dataset_id must be a \u001b[39m\u001b[38;5;124m\"\u001b[39m\n\u001b[0;32m    175\u001b[0m         \u001b[38;5;124m\"\u001b[39m\u001b[38;5;124mfully-qualified dataset ID in standard SQL format, \u001b[39m\u001b[38;5;124m\"\u001b[39m\n\u001b[0;32m    176\u001b[0m         \u001b[38;5;124m'\u001b[39m\u001b[38;5;124me.g., \u001b[39m\u001b[38;5;124m\"\u001b[39m\u001b[38;5;124mproject.dataset_id\u001b[39m\u001b[38;5;124m\"\u001b[39m\u001b[38;5;124m got \u001b[39m\u001b[38;5;132;01m{}\u001b[39;00m\u001b[38;5;124m'\u001b[39m\u001b[38;5;241m.\u001b[39mformat(dataset_id)\n\u001b[0;32m    177\u001b[0m     )\n\u001b[0;32m    178\u001b[0m \u001b[38;5;28;01melif\u001b[39;00m \u001b[38;5;28mlen\u001b[39m(parts) \u001b[38;5;241m==\u001b[39m \u001b[38;5;241m2\u001b[39m:\n\u001b[0;32m    179\u001b[0m     output_project_id, output_dataset_id \u001b[38;5;241m=\u001b[39m parts\n",
      "\u001b[1;31mValueError\u001b[0m: When default_project is not set, dataset_id must be a fully-qualified dataset ID in standard SQL format, e.g., \"project.dataset_id\" got tracks clear info"
     ]
    }
   ],
   "source": [
    "# Construct a BigQuery client object.\n",
    "client = bigquery.Client()\n",
    "\n",
    "dataset = bigquery.Dataset(\"tracks clear info\")\n",
    "table = bigquery.Table(\"tracks clear info 2017\", schema=schema)\n",
    "\n",
    "dataset = client.create_dataset(dataset)\n",
    "table = client.create_table(table)  # Make an API request.\n",
    "print(\n",
    "    \"Created table {}.{}.{}\".format(table.project, table.dataset_id, table.table_id)\n",
    ")\n",
    "\n",
    "\n",
    "# TODO(developer): Set table_id to the ID of the table to create.\n",
    "table_id = 'snappy-boulder-378707.tracks_clear_info.tracks_clear_info_2017'\n",
    "\n",
    "job_config = bigquery.LoadJobConfig(\n",
    "    schema = [\n",
    "        bigquery.SchemaField(\"unnamed\",\"INTEGER\"),\n",
    "        bigquery.SchemaField(\"id\",\"STRING\"),\n",
    "        bigquery.SchemaField(\"name\",\"STRING\"),\n",
    "        bigquery.SchemaField(\"popularity\",\"INTEGER\"),\n",
    "        bigquery.SchemaField(\"explicit\",\"INTEGER\"),\n",
    "        bigquery.SchemaField(\"available_markets\",\"INTEGER\"),\n",
    "    ],\n",
    "    source_format=bigquery.SourceFormat.CSV,\n",
    "    skip_leading_rows=1,\n",
    "    autodetect=True,\n",
    ")\n",
    "\n",
    "file_path = '../data/tracks clear info 2017.csv'\n",
    "\n",
    "\n",
    "with open(file_path, \"rb\") as source_file:\n",
    "    job = client.load_table_from_file(source_file, table_id, job_config=job_config)\n",
    "\n",
    "job.result()  # Waits for the job to complete.\n",
    "\n",
    "table = client.get_table(table_id)  # Make an API request.\n",
    "print(\n",
    "    \"Loaded {} rows and {} columns to {}\".format(\n",
    "        table.num_rows, len(table.schema), table_id\n",
    "    )\n",
    ")"
   ]
  }
 ],
 "metadata": {
  "kernelspec": {
   "display_name": "Python 3 (ipykernel)",
   "language": "python",
   "name": "python3"
  },
  "language_info": {
   "codemirror_mode": {
    "name": "ipython",
    "version": 3
   },
   "file_extension": ".py",
   "mimetype": "text/x-python",
   "name": "python",
   "nbconvert_exporter": "python",
   "pygments_lexer": "ipython3",
   "version": "3.9.16"
  }
 },
 "nbformat": 4,
 "nbformat_minor": 5
}
