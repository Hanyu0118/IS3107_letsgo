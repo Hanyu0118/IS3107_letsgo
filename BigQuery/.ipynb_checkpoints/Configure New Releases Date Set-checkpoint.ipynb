{
 "cells": [
  {
   "cell_type": "code",
   "execution_count": 22,
   "id": "c165c2b0",
   "metadata": {},
   "outputs": [],
   "source": [
    "from google.cloud import bigquery\n",
    "import os"
   ]
  },
  {
   "cell_type": "code",
   "execution_count": 23,
   "id": "429ab54c",
   "metadata": {},
   "outputs": [],
   "source": [
    "os.environ[\"GOOGLE_APPLICATION_CREDENTIALS\"] = \"letsgo-snappy-boulder-378707-4b7d46801fd1.json\"\n",
    "\n",
    "# Construct a BigQuery client object.\n",
    "client = bigquery.Client()"
   ]
  },
  {
   "cell_type": "code",
   "execution_count": 24,
   "id": "0cb2fba6",
   "metadata": {},
   "outputs": [
    {
     "name": "stdout",
     "output_type": "stream",
     "text": [
      "Created dataset snappy-boulder-378707.NewReleases\n"
     ]
    }
   ],
   "source": [
    "# Create NewReleases Data Set\n",
    "dataset_id = \"snappy-boulder-378707.NewReleases\"\n",
    "dataset = bigquery.Dataset(dataset_id)\n",
    "dataset.location = \"US\"\n",
    "dataset = client.create_dataset(dataset, timeout=30)\n",
    "print(\"Created dataset {}.{}\".format(client.project, dataset.dataset_id))"
   ]
  },
  {
   "cell_type": "code",
   "execution_count": 25,
   "id": "e159c24b",
   "metadata": {},
   "outputs": [
    {
     "name": "stdout",
     "output_type": "stream",
     "text": [
      "Created table snappy-boulder-378707.NewReleases.NewAlbums\n"
     ]
    }
   ],
   "source": [
    "# Create NewAlbums Data Set\n",
    "schema = [\n",
    "    bigquery.SchemaField(\"id\",\"STRING\"),\n",
    "    bigquery.SchemaField(\"name\",\"STRING\"),\n",
    "    bigquery.SchemaField(\"total_tracks\",\"INTEGER\"),\n",
    "    bigquery.SchemaField(\"available_markets\",\"INTEGER\"),\n",
    "    bigquery.SchemaField(\"release_date\",\"DATE\"),\n",
    "    bigquery.SchemaField(\"extract_date\",\"DATE\"),\n",
    "]\n",
    "\n",
    "# TODO(developer): Set table_id to the ID of the table to create.\n",
    "table_id = \"snappy-boulder-378707.NewReleases.NewAlbums\"\n",
    "table = bigquery.Table(table_id, schema=schema)\n",
    "table = client.create_table(table, timeout=30)  # Make an API request.\n",
    "print(\"Created table {}.{}.{}\".format(table.project, table.dataset_id, table.table_id))"
   ]
  },
  {
   "cell_type": "code",
   "execution_count": 26,
   "id": "8dff7436",
   "metadata": {},
   "outputs": [
    {
     "name": "stdout",
     "output_type": "stream",
     "text": [
      "Created table snappy-boulder-378707.NewReleases.NewTracks\n"
     ]
    }
   ],
   "source": [
    "# Create NewTracks Data Set\n",
    "schema = [\n",
    "    bigquery.SchemaField(\"id\",\"STRING\"),\n",
    "    bigquery.SchemaField(\"name\",\"STRING\"),\n",
    "    bigquery.SchemaField(\"explicit\",\"INTEGER\"),\n",
    "    bigquery.SchemaField(\"available_markets\",\"INTEGER\"),\n",
    "    bigquery.SchemaField(\"popularity\",\"INTEGER\"),\n",
    "    bigquery.SchemaField(\"album_id\",\"STRING\"),\n",
    "    bigquery.SchemaField(\"artist_id\",\"STRING\"),\n",
    "    bigquery.SchemaField(\"extract_date\",\"DATE\"),\n",
    "]\n",
    "\n",
    "# TODO(developer): Set table_id to the ID of the table to create.\n",
    "table_id = \"snappy-boulder-378707.NewReleases.NewTracks\"\n",
    "table = bigquery.Table(table_id, schema=schema)\n",
    "table = client.create_table(table, timeout=30)  # Make an API request.\n",
    "print(\"Created table {}.{}.{}\".format(table.project, table.dataset_id, table.table_id))"
   ]
  },
  {
   "cell_type": "code",
   "execution_count": 27,
   "id": "b85414cb",
   "metadata": {},
   "outputs": [
    {
     "name": "stdout",
     "output_type": "stream",
     "text": [
      "Created table snappy-boulder-378707.NewReleases.NewAudioFeatures\n"
     ]
    }
   ],
   "source": [
    "# Create NewAudioFeatures Data Set\n",
    "schema = [\n",
    "    bigquery.SchemaField(\"id\",\"STRING\"),\n",
    "    bigquery.SchemaField(\"danceability\",\"FLOAT\"),\n",
    "    bigquery.SchemaField(\"energy\",\"FLOAT\"),\n",
    "    bigquery.SchemaField(\"key\",\"INTEGER\"),\n",
    "    bigquery.SchemaField(\"loudness\",\"FLOAT\"),\n",
    "    bigquery.SchemaField(\"mode\",\"INTEGER\"),\n",
    "    bigquery.SchemaField(\"speechiness\",\"FLOAT\"),\n",
    "    bigquery.SchemaField(\"acousticness\",\"FLOAT\"),\n",
    "    bigquery.SchemaField(\"instrumentalness\",\"FLOAT\"),\n",
    "    bigquery.SchemaField(\"liveness\",\"FLOAT\"),\n",
    "    bigquery.SchemaField(\"valence\",\"FLOAT\"),\n",
    "    bigquery.SchemaField(\"tempo\",\"FLOAT\"),\n",
    "    bigquery.SchemaField(\"duration_ms\",\"INTEGER\"),\n",
    "    bigquery.SchemaField(\"time_signature\",\"INTEGER\"),\n",
    "]\n",
    "\n",
    "# TODO(developer): Set table_id to the ID of the table to create.\n",
    "table_id = \"snappy-boulder-378707.NewReleases.NewAudioFeatures\"\n",
    "table = bigquery.Table(table_id, schema=schema)\n",
    "table = client.create_table(table, timeout=30)  # Make an API request.\n",
    "print(\"Created table {}.{}.{}\".format(table.project, table.dataset_id, table.table_id))"
   ]
  }
 ],
 "metadata": {
  "kernelspec": {
   "display_name": "Python 3 (ipykernel)",
   "language": "python",
   "name": "python3"
  },
  "language_info": {
   "codemirror_mode": {
    "name": "ipython",
    "version": 3
   },
   "file_extension": ".py",
   "mimetype": "text/x-python",
   "name": "python",
   "nbconvert_exporter": "python",
   "pygments_lexer": "ipython3",
   "version": "3.9.16"
  }
 },
 "nbformat": 4,
 "nbformat_minor": 5
}
