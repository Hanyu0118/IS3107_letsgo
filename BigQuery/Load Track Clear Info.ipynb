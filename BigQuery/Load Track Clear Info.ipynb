{
 "cells": [
  {
   "cell_type": "code",
   "execution_count": 15,
   "id": "261d0636",
   "metadata": {},
   "outputs": [
    {
     "name": "stderr",
     "output_type": "stream",
     "text": [
      "Enabling notebook extension jupyter-js-widgets/extension...\n",
      "      - Validating: ok\n"
     ]
    }
   ],
   "source": [
    "# !pip install --upgrade google-cloud-BigQuery\n",
    "# !pip install --user --upgrade google-api-python-client\n",
    "# !pip install --upgrade pandas-gbq\n",
    "\n",
    "# For ImportError: IProgress not found. Please update jupyter and ipywidgets.\n",
    "\n",
    "# !pip install --upgrade jupyter\n",
    "# !pip install --upgrade ipywidgets\n",
    "# !jupyter nbextension enable --py widgetsnbextension"
   ]
  },
  {
   "cell_type": "code",
   "execution_count": 1,
   "id": "f4f77135",
   "metadata": {},
   "outputs": [],
   "source": [
    "from google.cloud import bigquery\n",
    "import os"
   ]
  },
  {
   "cell_type": "code",
   "execution_count": 2,
   "id": "b05e41a9",
   "metadata": {},
   "outputs": [],
   "source": [
    "os.environ[\"GOOGLE_APPLICATION_CREDENTIALS\"] = \"letsgo-snappy-boulder-378707-4b7d46801fd1.json\"\n",
    "\n",
    "# Construct a BigQuery client object.\n",
    "client = bigquery.Client()"
   ]
  },
  {
   "cell_type": "markdown",
   "id": "e6a5b280",
   "metadata": {},
   "source": [
    "### Load Track Clear Info 2017-2021"
   ]
  },
  {
   "cell_type": "code",
   "execution_count": 5,
   "id": "eb7f83c2",
   "metadata": {},
   "outputs": [
    {
     "name": "stdout",
     "output_type": "stream",
     "text": [
      "Created dataset snappy-boulder-378707.TrackClearInfo\n"
     ]
    }
   ],
   "source": [
    "dataset_id = \"snappy-boulder-378707.TrackClearInfo\"\n",
    "dataset = bigquery.Dataset(dataset_id)\n",
    "dataset.location = \"US\"\n",
    "dataset = client.create_dataset(dataset, timeout=30)\n",
    "print(\"Created dataset {}.{}\".format(client.project, dataset.dataset_id))"
   ]
  },
  {
   "cell_type": "code",
   "execution_count": 10,
   "id": "e968a21e",
   "metadata": {},
   "outputs": [
    {
     "name": "stdout",
     "output_type": "stream",
     "text": [
      "Created table snappy-boulder-378707.TrackClearInfo.TrackClearInfo2017\n",
      "Created table snappy-boulder-378707.TrackClearInfo.TrackClearInfo2018\n",
      "Created table snappy-boulder-378707.TrackClearInfo.TrackClearInfo2019\n",
      "Created table snappy-boulder-378707.TrackClearInfo.TrackClearInfo2020\n",
      "Created table snappy-boulder-378707.TrackClearInfo.TrackClearInfo2021\n"
     ]
    }
   ],
   "source": [
    "years = [2017, 2018, 2019, 2020, 2021]\n",
    "schema = [\n",
    "    bigquery.SchemaField(\"unnamed\",\"INTEGER\"),\n",
    "    bigquery.SchemaField(\"id\",\"STRING\"),\n",
    "    bigquery.SchemaField(\"name\",\"STRING\"),\n",
    "    bigquery.SchemaField(\"popularity\",\"INTEGER\"),\n",
    "    bigquery.SchemaField(\"explicit\",\"INTEGER\"),\n",
    "    bigquery.SchemaField(\"available_markets\",\"INTEGER\"),\n",
    "]\n",
    "\n",
    "for year in years:\n",
    "    # TODO(developer): Set table_id to the ID of the table to create.\n",
    "    table_id = \"snappy-boulder-378707.TrackClearInfo.TrackClearInfo{}\".format(year)\n",
    "    table = bigquery.Table(table_id, schema=schema)\n",
    "    table = client.create_table(table, timeout=30)  # Make an API request.\n",
    "    print(\"Created table {}.{}.{}\".format(table.project, table.dataset_id, table.table_id))"
   ]
  },
  {
   "cell_type": "code",
   "execution_count": 11,
   "id": "02e3b8ef",
   "metadata": {},
   "outputs": [
    {
     "name": "stdout",
     "output_type": "stream",
     "text": [
      "Loaded 40111 rows and 6 columns to snappy-boulder-378707.TrackClearInfo.TrackClearInfo2017\n",
      "Loaded 36596 rows and 6 columns to snappy-boulder-378707.TrackClearInfo.TrackClearInfo2018\n",
      "Loaded 27658 rows and 6 columns to snappy-boulder-378707.TrackClearInfo.TrackClearInfo2019\n",
      "Loaded 32418 rows and 6 columns to snappy-boulder-378707.TrackClearInfo.TrackClearInfo2020\n",
      "Loaded 28024 rows and 6 columns to snappy-boulder-378707.TrackClearInfo.TrackClearInfo2021\n"
     ]
    }
   ],
   "source": [
    "job_config = bigquery.LoadJobConfig(\n",
    "    schema = schema,\n",
    "    source_format=bigquery.SourceFormat.CSV,\n",
    "    skip_leading_rows=1,\n",
    "    autodetect=True,\n",
    ")\n",
    "\n",
    "for year in years:\n",
    "    file_path = '../data/tracks clear info {}.csv'.format(year)\n",
    "    table_id = \"snappy-boulder-378707.TrackClearInfo.TrackClearInfo{}\".format(year)\n",
    "\n",
    "    with open(file_path, \"rb\") as source_file:\n",
    "        job = client.load_table_from_file(source_file, table_id, job_config=job_config)\n",
    "\n",
    "    job.result()  # Waits for the job to complete.\n",
    "\n",
    "    table = client.get_table(table_id)  # Make an API request.\n",
    "    print(\n",
    "        \"Loaded {} rows and {} columns to {}\".format(\n",
    "            table.num_rows, len(table.schema), table_id\n",
    "        )\n",
    "    )"
   ]
  },
  {
   "cell_type": "markdown",
   "id": "b7a32620",
   "metadata": {},
   "source": [
    "### Join to TrackClearInfoTrain"
   ]
  },
  {
   "cell_type": "code",
   "execution_count": 13,
   "id": "59357fac",
   "metadata": {},
   "outputs": [
    {
     "name": "stdout",
     "output_type": "stream",
     "text": [
      "Created table snappy-boulder-378707.TrackClearInfo.TrackClearInfoTrain\n"
     ]
    }
   ],
   "source": [
    "schema = [\n",
    "    bigquery.SchemaField(\"id\",\"STRING\"),\n",
    "    bigquery.SchemaField(\"name\",\"STRING\"),\n",
    "    bigquery.SchemaField(\"popularity\",\"INTEGER\"),\n",
    "    bigquery.SchemaField(\"explicit\",\"INTEGER\"),\n",
    "    bigquery.SchemaField(\"available_markets\",\"INTEGER\"),\n",
    "]\n",
    "\n",
    "# TODO(developer): Set table_id to the ID of the table to create.\n",
    "table_id = \"snappy-boulder-378707.TrackClearInfo.TrackClearInfoTrain\"\n",
    "table = bigquery.Table(table_id, schema=schema)\n",
    "table = client.create_table(table, timeout=30)  # Make an API request.\n",
    "print(\"Created table {}.{}.{}\".format(table.project, table.dataset_id, table.table_id))"
   ]
  },
  {
   "cell_type": "code",
   "execution_count": 3,
   "id": "04761791",
   "metadata": {},
   "outputs": [],
   "source": [
    "import pandas as pd\n",
    "import pandas_gbq\n",
    "%load_ext google.cloud.bigquery\n",
    "\n",
    "# Set your default project here\n",
    "pandas_gbq.context.project = 'snappy-boulder-378707'\n",
    "pandas_gbq.context.dialect = 'standard'"
   ]
  },
  {
   "cell_type": "code",
   "execution_count": 14,
   "id": "c872ae71",
   "metadata": {},
   "outputs": [
    {
     "data": {
      "application/vnd.jupyter.widget-view+json": {
       "model_id": "3656ee1397d043118e79f3e967913490",
       "version_major": 2,
       "version_minor": 0
      },
      "text/plain": [
       "Query is running:   0%|          |"
      ]
     },
     "metadata": {},
     "output_type": "display_data"
    },
    {
     "data": {
      "text/html": [
       "<div>\n",
       "<style scoped>\n",
       "    .dataframe tbody tr th:only-of-type {\n",
       "        vertical-align: middle;\n",
       "    }\n",
       "\n",
       "    .dataframe tbody tr th {\n",
       "        vertical-align: top;\n",
       "    }\n",
       "\n",
       "    .dataframe thead th {\n",
       "        text-align: right;\n",
       "    }\n",
       "</style>\n",
       "<table border=\"1\" class=\"dataframe\">\n",
       "  <thead>\n",
       "    <tr style=\"text-align: right;\">\n",
       "      <th></th>\n",
       "    </tr>\n",
       "  </thead>\n",
       "  <tbody>\n",
       "  </tbody>\n",
       "</table>\n",
       "</div>"
      ],
      "text/plain": [
       "Empty DataFrame\n",
       "Columns: []\n",
       "Index: []"
      ]
     },
     "execution_count": 14,
     "metadata": {},
     "output_type": "execute_result"
    }
   ],
   "source": [
    "%%bigquery\n",
    "INSERT INTO snappy-boulder-378707.TrackClearInfo.TrackClearInfoTrain\n",
    "SELECT * \n",
    "FROM\n",
    "(\n",
    "    SELECT id, name, popularity, explicit, available_markets\n",
    "    FROM snappy-boulder-378707.TrackClearInfo.TrackClearInfo2017\n",
    "    UNION ALL\n",
    "    SELECT id, name, popularity, explicit, available_markets\n",
    "    FROM snappy-boulder-378707.TrackClearInfo.TrackClearInfo2018\n",
    "    UNION ALL\n",
    "    SELECT id, name, popularity, explicit, available_markets\n",
    "    FROM snappy-boulder-378707.TrackClearInfo.TrackClearInfo2019\n",
    "    UNION ALL\n",
    "    SELECT id, name, popularity, explicit, available_markets\n",
    "    FROM snappy-boulder-378707.TrackClearInfo.TrackClearInfo2020\n",
    "    UNION ALL\n",
    "    SELECT id, name, popularity, explicit, available_markets\n",
    "    FROM snappy-boulder-378707.TrackClearInfo.TrackClearInfo2021\n",
    ") a"
   ]
  },
  {
   "cell_type": "code",
   "execution_count": 16,
   "id": "698f7a6a",
   "metadata": {},
   "outputs": [
    {
     "data": {
      "application/vnd.jupyter.widget-view+json": {
       "model_id": "5980d89ee2d4417a818fb37b65d4a2c4",
       "version_major": 2,
       "version_minor": 0
      },
      "text/plain": [
       "Query is running:   0%|          |"
      ]
     },
     "metadata": {},
     "output_type": "display_data"
    },
    {
     "data": {
      "text/html": [
       "<div>\n",
       "<style scoped>\n",
       "    .dataframe tbody tr th:only-of-type {\n",
       "        vertical-align: middle;\n",
       "    }\n",
       "\n",
       "    .dataframe tbody tr th {\n",
       "        vertical-align: top;\n",
       "    }\n",
       "\n",
       "    .dataframe thead th {\n",
       "        text-align: right;\n",
       "    }\n",
       "</style>\n",
       "<table border=\"1\" class=\"dataframe\">\n",
       "  <thead>\n",
       "    <tr style=\"text-align: right;\">\n",
       "      <th></th>\n",
       "    </tr>\n",
       "  </thead>\n",
       "  <tbody>\n",
       "  </tbody>\n",
       "</table>\n",
       "</div>"
      ],
      "text/plain": [
       "Empty DataFrame\n",
       "Columns: []\n",
       "Index: []"
      ]
     },
     "execution_count": 16,
     "metadata": {},
     "output_type": "execute_result"
    }
   ],
   "source": [
    "%%bigquery\n",
    "DROP TABLE snappy-boulder-378707.TrackClearInfo.TrackClearInfo2017"
   ]
  },
  {
   "cell_type": "code",
   "execution_count": 17,
   "id": "d4b84b57",
   "metadata": {},
   "outputs": [
    {
     "data": {
      "application/vnd.jupyter.widget-view+json": {
       "model_id": "54c88353c71c4b34b3bdb6eb864382fc",
       "version_major": 2,
       "version_minor": 0
      },
      "text/plain": [
       "Query is running:   0%|          |"
      ]
     },
     "metadata": {},
     "output_type": "display_data"
    },
    {
     "data": {
      "text/html": [
       "<div>\n",
       "<style scoped>\n",
       "    .dataframe tbody tr th:only-of-type {\n",
       "        vertical-align: middle;\n",
       "    }\n",
       "\n",
       "    .dataframe tbody tr th {\n",
       "        vertical-align: top;\n",
       "    }\n",
       "\n",
       "    .dataframe thead th {\n",
       "        text-align: right;\n",
       "    }\n",
       "</style>\n",
       "<table border=\"1\" class=\"dataframe\">\n",
       "  <thead>\n",
       "    <tr style=\"text-align: right;\">\n",
       "      <th></th>\n",
       "    </tr>\n",
       "  </thead>\n",
       "  <tbody>\n",
       "  </tbody>\n",
       "</table>\n",
       "</div>"
      ],
      "text/plain": [
       "Empty DataFrame\n",
       "Columns: []\n",
       "Index: []"
      ]
     },
     "execution_count": 17,
     "metadata": {},
     "output_type": "execute_result"
    }
   ],
   "source": [
    "%%bigquery\n",
    "DROP TABLE snappy-boulder-378707.TrackClearInfo.TrackClearInfo2018"
   ]
  },
  {
   "cell_type": "code",
   "execution_count": 18,
   "id": "c51767c4",
   "metadata": {},
   "outputs": [
    {
     "data": {
      "application/vnd.jupyter.widget-view+json": {
       "model_id": "0491858cece34628a6e92e7876a612df",
       "version_major": 2,
       "version_minor": 0
      },
      "text/plain": [
       "Query is running:   0%|          |"
      ]
     },
     "metadata": {},
     "output_type": "display_data"
    },
    {
     "data": {
      "text/html": [
       "<div>\n",
       "<style scoped>\n",
       "    .dataframe tbody tr th:only-of-type {\n",
       "        vertical-align: middle;\n",
       "    }\n",
       "\n",
       "    .dataframe tbody tr th {\n",
       "        vertical-align: top;\n",
       "    }\n",
       "\n",
       "    .dataframe thead th {\n",
       "        text-align: right;\n",
       "    }\n",
       "</style>\n",
       "<table border=\"1\" class=\"dataframe\">\n",
       "  <thead>\n",
       "    <tr style=\"text-align: right;\">\n",
       "      <th></th>\n",
       "    </tr>\n",
       "  </thead>\n",
       "  <tbody>\n",
       "  </tbody>\n",
       "</table>\n",
       "</div>"
      ],
      "text/plain": [
       "Empty DataFrame\n",
       "Columns: []\n",
       "Index: []"
      ]
     },
     "execution_count": 18,
     "metadata": {},
     "output_type": "execute_result"
    }
   ],
   "source": [
    "%%bigquery\n",
    "DROP TABLE snappy-boulder-378707.TrackClearInfo.TrackClearInfo2019"
   ]
  },
  {
   "cell_type": "code",
   "execution_count": 19,
   "id": "38bdcb6c",
   "metadata": {},
   "outputs": [
    {
     "data": {
      "application/vnd.jupyter.widget-view+json": {
       "model_id": "480972afa5ab46bf862bc263b33ddc48",
       "version_major": 2,
       "version_minor": 0
      },
      "text/plain": [
       "Query is running:   0%|          |"
      ]
     },
     "metadata": {},
     "output_type": "display_data"
    },
    {
     "data": {
      "text/html": [
       "<div>\n",
       "<style scoped>\n",
       "    .dataframe tbody tr th:only-of-type {\n",
       "        vertical-align: middle;\n",
       "    }\n",
       "\n",
       "    .dataframe tbody tr th {\n",
       "        vertical-align: top;\n",
       "    }\n",
       "\n",
       "    .dataframe thead th {\n",
       "        text-align: right;\n",
       "    }\n",
       "</style>\n",
       "<table border=\"1\" class=\"dataframe\">\n",
       "  <thead>\n",
       "    <tr style=\"text-align: right;\">\n",
       "      <th></th>\n",
       "    </tr>\n",
       "  </thead>\n",
       "  <tbody>\n",
       "  </tbody>\n",
       "</table>\n",
       "</div>"
      ],
      "text/plain": [
       "Empty DataFrame\n",
       "Columns: []\n",
       "Index: []"
      ]
     },
     "execution_count": 19,
     "metadata": {},
     "output_type": "execute_result"
    }
   ],
   "source": [
    "%%bigquery\n",
    "DROP TABLE snappy-boulder-378707.TrackClearInfo.TrackClearInfo2020"
   ]
  },
  {
   "cell_type": "code",
   "execution_count": 20,
   "id": "de0c17fc",
   "metadata": {},
   "outputs": [
    {
     "data": {
      "application/vnd.jupyter.widget-view+json": {
       "model_id": "291c7cf583e444f6947216f5604dcc97",
       "version_major": 2,
       "version_minor": 0
      },
      "text/plain": [
       "Query is running:   0%|          |"
      ]
     },
     "metadata": {},
     "output_type": "display_data"
    },
    {
     "data": {
      "text/html": [
       "<div>\n",
       "<style scoped>\n",
       "    .dataframe tbody tr th:only-of-type {\n",
       "        vertical-align: middle;\n",
       "    }\n",
       "\n",
       "    .dataframe tbody tr th {\n",
       "        vertical-align: top;\n",
       "    }\n",
       "\n",
       "    .dataframe thead th {\n",
       "        text-align: right;\n",
       "    }\n",
       "</style>\n",
       "<table border=\"1\" class=\"dataframe\">\n",
       "  <thead>\n",
       "    <tr style=\"text-align: right;\">\n",
       "      <th></th>\n",
       "    </tr>\n",
       "  </thead>\n",
       "  <tbody>\n",
       "  </tbody>\n",
       "</table>\n",
       "</div>"
      ],
      "text/plain": [
       "Empty DataFrame\n",
       "Columns: []\n",
       "Index: []"
      ]
     },
     "execution_count": 20,
     "metadata": {},
     "output_type": "execute_result"
    }
   ],
   "source": [
    "%%bigquery\n",
    "DROP TABLE snappy-boulder-378707.TrackClearInfo.TrackClearInfo2021"
   ]
  },
  {
   "cell_type": "code",
   "execution_count": 23,
   "id": "b7b1fdef",
   "metadata": {},
   "outputs": [
    {
     "data": {
      "application/vnd.jupyter.widget-view+json": {
       "model_id": "d1f87b1953f74fe483eba07fb183d1d6",
       "version_major": 2,
       "version_minor": 0
      },
      "text/plain": [
       "Query is running:   0%|          |"
      ]
     },
     "metadata": {},
     "output_type": "display_data"
    },
    {
     "data": {
      "text/html": [
       "<div>\n",
       "<style scoped>\n",
       "    .dataframe tbody tr th:only-of-type {\n",
       "        vertical-align: middle;\n",
       "    }\n",
       "\n",
       "    .dataframe tbody tr th {\n",
       "        vertical-align: top;\n",
       "    }\n",
       "\n",
       "    .dataframe thead th {\n",
       "        text-align: right;\n",
       "    }\n",
       "</style>\n",
       "<table border=\"1\" class=\"dataframe\">\n",
       "  <thead>\n",
       "    <tr style=\"text-align: right;\">\n",
       "      <th></th>\n",
       "    </tr>\n",
       "  </thead>\n",
       "  <tbody>\n",
       "  </tbody>\n",
       "</table>\n",
       "</div>"
      ],
      "text/plain": [
       "Empty DataFrame\n",
       "Columns: []\n",
       "Index: []"
      ]
     },
     "execution_count": 23,
     "metadata": {},
     "output_type": "execute_result"
    }
   ],
   "source": [
    "%%bigquery\n",
    "ALTER TABLE snappy-boulder-378707.TrackClearInfo.TrackClearInfoTrain\n",
    "ADD PRIMARY KEY (id) NOT ENFORCED"
   ]
  },
  {
   "cell_type": "code",
   "execution_count": null,
   "id": "df9bb4a6",
   "metadata": {},
   "outputs": [],
   "source": []
  }
 ],
 "metadata": {
  "kernelspec": {
   "display_name": "Python 3 (ipykernel)",
   "language": "python",
   "name": "python3"
  },
  "language_info": {
   "codemirror_mode": {
    "name": "ipython",
    "version": 3
   },
   "file_extension": ".py",
   "mimetype": "text/x-python",
   "name": "python",
   "nbconvert_exporter": "python",
   "pygments_lexer": "ipython3",
   "version": "3.9.16"
  }
 },
 "nbformat": 4,
 "nbformat_minor": 5
}
