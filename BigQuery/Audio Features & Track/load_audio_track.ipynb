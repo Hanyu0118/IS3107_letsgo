{
 "cells": [
  {
   "cell_type": "code",
   "execution_count": 1,
   "metadata": {},
   "outputs": [],
   "source": [
    "import numpy as np\n",
    "import pandas as pd\n",
    "import matplotlib.pyplot as plt\n",
    "import seaborn as sns\n",
    "import json\n",
    "import spotipy\n",
    "from spotipy.oauth2 import SpotifyClientCredentials\n",
    "import requests\n",
    "from spotipy.oauth2 import SpotifyOAuth\n",
    "from tqdm import tqdm\n",
    "import sys\n",
    "import warnings\n",
    "if not sys.warnoptions:\n",
    "    warnings.simplefilter(\"ignore\")\n",
    "import time\n",
    "from google.cloud import bigquery\n",
    "import os\n",
    "\n",
    "import pandas_gbq\n",
    "%load_ext google.cloud.bigquery\n",
    "\n",
    "# Set your default project here\n",
    "pandas_gbq.context.project = 'snappy-boulder-378707'\n",
    "pandas_gbq.context.dialect = 'standard'\n",
    "os.environ[\"GOOGLE_APPLICATION_CREDENTIALS\"] = \"../BigQuery/letsgo-snappy-boulder-378707-4b7d46801fd1.json\"\n",
    "\n",
    "# Construct a BigQuery client object.\n",
    "client = bigquery.Client()"
   ]
  },
  {
   "cell_type": "markdown",
   "metadata": {},
   "source": [
    "# Clean track info\n",
    "Only Retain the information we need.\n",
    "- id\n",
    "- name\n",
    "- explicit : 1 for explicit lyrics and 0 for not\n",
    "- available_markets : number of available markets\n",
    "- popularity"
   ]
  },
  {
   "cell_type": "code",
   "execution_count": 3,
   "metadata": {},
   "outputs": [],
   "source": [
    "track_info = pd.read_csv(\"../Audio Features & Track/tracks info.csv\")"
   ]
  },
  {
   "cell_type": "code",
   "execution_count": 13,
   "metadata": {},
   "outputs": [],
   "source": [
    "def compute_markets(s):\n",
    "    markets = s.replace('[','').replace(']','').replace(\"'\",'').replace(' ', '').split(',')\n",
    "    if markets[0] == '':\n",
    "        return 0\n",
    "    else:\n",
    "        return len(markets)"
   ]
  },
  {
   "cell_type": "code",
   "execution_count": 14,
   "metadata": {},
   "outputs": [],
   "source": [
    "cat = pd.unique(track_info['explicit'])\n",
    "track_info['num_markets'] = track_info['available_markets'].apply(compute_markets)\n",
    "track_info['explicit_trans'] = None \n",
    "track_info['explicit_trans'][track_info['explicit'] == cat[0]] = 0\n",
    "track_info['explicit_trans'][track_info['explicit'] == cat[1]] = 1\n"
   ]
  },
  {
   "cell_type": "code",
   "execution_count": 15,
   "metadata": {},
   "outputs": [
    {
     "data": {
      "text/html": [
       "<div>\n",
       "<style scoped>\n",
       "    .dataframe tbody tr th:only-of-type {\n",
       "        vertical-align: middle;\n",
       "    }\n",
       "\n",
       "    .dataframe tbody tr th {\n",
       "        vertical-align: top;\n",
       "    }\n",
       "\n",
       "    .dataframe thead th {\n",
       "        text-align: right;\n",
       "    }\n",
       "</style>\n",
       "<table border=\"1\" class=\"dataframe\">\n",
       "  <thead>\n",
       "    <tr style=\"text-align: right;\">\n",
       "      <th></th>\n",
       "      <th>Unnamed: 0</th>\n",
       "      <th>album</th>\n",
       "      <th>artists</th>\n",
       "      <th>available_markets</th>\n",
       "      <th>disc_number</th>\n",
       "      <th>duration_ms</th>\n",
       "      <th>explicit</th>\n",
       "      <th>external_ids</th>\n",
       "      <th>external_urls</th>\n",
       "      <th>href</th>\n",
       "      <th>id</th>\n",
       "      <th>is_local</th>\n",
       "      <th>name</th>\n",
       "      <th>popularity</th>\n",
       "      <th>preview_url</th>\n",
       "      <th>track_number</th>\n",
       "      <th>type</th>\n",
       "      <th>uri</th>\n",
       "      <th>num_markets</th>\n",
       "      <th>explicit_trans</th>\n",
       "    </tr>\n",
       "  </thead>\n",
       "  <tbody>\n",
       "    <tr>\n",
       "      <th>0</th>\n",
       "      <td>0</td>\n",
       "      <td>{'album_group': 'album', 'album_type': 'album'...</td>\n",
       "      <td>[{'external_urls': {'spotify': 'https://open.s...</td>\n",
       "      <td>['AR', 'AU', 'AT', 'BE', 'BO', 'BR', 'BG', 'CA...</td>\n",
       "      <td>1</td>\n",
       "      <td>160106</td>\n",
       "      <td>False</td>\n",
       "      <td>{'isrc': 'QZ7B41700002'}</td>\n",
       "      <td>{'spotify': 'https://open.spotify.com/track/00...</td>\n",
       "      <td>https://api.spotify.com/v1/tracks/001CyR8xqmmp...</td>\n",
       "      <td>001CyR8xqmmpVZFiTZJ5BC</td>\n",
       "      <td>False</td>\n",
       "      <td>She Knows How To Rock Me</td>\n",
       "      <td>30</td>\n",
       "      <td>NaN</td>\n",
       "      <td>2</td>\n",
       "      <td>track</td>\n",
       "      <td>spotify:track:001CyR8xqmmpVZFiTZJ5BC</td>\n",
       "      <td>184</td>\n",
       "      <td>0</td>\n",
       "    </tr>\n",
       "    <tr>\n",
       "      <th>1</th>\n",
       "      <td>1</td>\n",
       "      <td>{'album_group': 'album', 'album_type': 'album'...</td>\n",
       "      <td>[{'external_urls': {'spotify': 'https://open.s...</td>\n",
       "      <td>['AR', 'AU', 'AT', 'BE', 'BO', 'BR', 'BG', 'CA...</td>\n",
       "      <td>3</td>\n",
       "      <td>602266</td>\n",
       "      <td>False</td>\n",
       "      <td>{'isrc': 'DEF057630640'}</td>\n",
       "      <td>{'spotify': 'https://open.spotify.com/track/00...</td>\n",
       "      <td>https://api.spotify.com/v1/tracks/001eyxfoYptA...</td>\n",
       "      <td>001eyxfoYptAWzvF4ewLrR</td>\n",
       "      <td>False</td>\n",
       "      <td>Die Meistersinger von Nürnberg, WWV 96 / Act I...</td>\n",
       "      <td>22</td>\n",
       "      <td>NaN</td>\n",
       "      <td>7</td>\n",
       "      <td>track</td>\n",
       "      <td>spotify:track:001eyxfoYptAWzvF4ewLrR</td>\n",
       "      <td>184</td>\n",
       "      <td>0</td>\n",
       "    </tr>\n",
       "    <tr>\n",
       "      <th>2</th>\n",
       "      <td>2</td>\n",
       "      <td>{'album_group': 'single', 'album_type': 'singl...</td>\n",
       "      <td>[{'external_urls': {'spotify': 'https://open.s...</td>\n",
       "      <td>['AR', 'AU', 'AT', 'BE', 'BO', 'BR', 'BG', 'CA...</td>\n",
       "      <td>1</td>\n",
       "      <td>212826</td>\n",
       "      <td>False</td>\n",
       "      <td>{'isrc': 'GBUM72107273'}</td>\n",
       "      <td>{'spotify': 'https://open.spotify.com/track/00...</td>\n",
       "      <td>https://api.spotify.com/v1/tracks/002LxxV7VTy5...</td>\n",
       "      <td>002LxxV7VTy5JkvkmmGanl</td>\n",
       "      <td>False</td>\n",
       "      <td>This Foolish Heart Could Love You</td>\n",
       "      <td>42</td>\n",
       "      <td>NaN</td>\n",
       "      <td>1</td>\n",
       "      <td>track</td>\n",
       "      <td>spotify:track:002LxxV7VTy5JkvkmmGanl</td>\n",
       "      <td>183</td>\n",
       "      <td>0</td>\n",
       "    </tr>\n",
       "    <tr>\n",
       "      <th>3</th>\n",
       "      <td>3</td>\n",
       "      <td>{'album_group': 'album', 'album_type': 'album'...</td>\n",
       "      <td>[{'external_urls': {'spotify': 'https://open.s...</td>\n",
       "      <td>['AR', 'AU', 'AT', 'BE', 'BO', 'BR', 'BG', 'CA...</td>\n",
       "      <td>1</td>\n",
       "      <td>304933</td>\n",
       "      <td>False</td>\n",
       "      <td>{'isrc': 'GBAYE0300927'}</td>\n",
       "      <td>{'spotify': 'https://open.spotify.com/track/00...</td>\n",
       "      <td>https://api.spotify.com/v1/tracks/002YdWxaenIU...</td>\n",
       "      <td>002YdWxaenIUL4PHiv5EB5</td>\n",
       "      <td>False</td>\n",
       "      <td>Eccentric Man - 2003 Remastered Version</td>\n",
       "      <td>31</td>\n",
       "      <td>https://p.scdn.co/mp3-preview/2c9eac1675b53cb6...</td>\n",
       "      <td>9</td>\n",
       "      <td>track</td>\n",
       "      <td>spotify:track:002YdWxaenIUL4PHiv5EB5</td>\n",
       "      <td>183</td>\n",
       "      <td>0</td>\n",
       "    </tr>\n",
       "    <tr>\n",
       "      <th>4</th>\n",
       "      <td>4</td>\n",
       "      <td>{'album_group': 'single', 'album_type': 'singl...</td>\n",
       "      <td>[{'external_urls': {'spotify': 'https://open.s...</td>\n",
       "      <td>['AR', 'AU', 'AT', 'BE', 'BO', 'BR', 'BG', 'CA...</td>\n",
       "      <td>1</td>\n",
       "      <td>191226</td>\n",
       "      <td>False</td>\n",
       "      <td>{'isrc': 'QZMHL2231434'}</td>\n",
       "      <td>{'spotify': 'https://open.spotify.com/track/00...</td>\n",
       "      <td>https://api.spotify.com/v1/tracks/002nFT2kRsfv...</td>\n",
       "      <td>002nFT2kRsfvS0d17AwWsB</td>\n",
       "      <td>False</td>\n",
       "      <td>A Month Or Two</td>\n",
       "      <td>42</td>\n",
       "      <td>https://p.scdn.co/mp3-preview/02503d79c16a90fc...</td>\n",
       "      <td>1</td>\n",
       "      <td>track</td>\n",
       "      <td>spotify:track:002nFT2kRsfvS0d17AwWsB</td>\n",
       "      <td>185</td>\n",
       "      <td>0</td>\n",
       "    </tr>\n",
       "  </tbody>\n",
       "</table>\n",
       "</div>"
      ],
      "text/plain": [
       "   Unnamed: 0                                              album  \\\n",
       "0           0  {'album_group': 'album', 'album_type': 'album'...   \n",
       "1           1  {'album_group': 'album', 'album_type': 'album'...   \n",
       "2           2  {'album_group': 'single', 'album_type': 'singl...   \n",
       "3           3  {'album_group': 'album', 'album_type': 'album'...   \n",
       "4           4  {'album_group': 'single', 'album_type': 'singl...   \n",
       "\n",
       "                                             artists  \\\n",
       "0  [{'external_urls': {'spotify': 'https://open.s...   \n",
       "1  [{'external_urls': {'spotify': 'https://open.s...   \n",
       "2  [{'external_urls': {'spotify': 'https://open.s...   \n",
       "3  [{'external_urls': {'spotify': 'https://open.s...   \n",
       "4  [{'external_urls': {'spotify': 'https://open.s...   \n",
       "\n",
       "                                   available_markets  disc_number  \\\n",
       "0  ['AR', 'AU', 'AT', 'BE', 'BO', 'BR', 'BG', 'CA...            1   \n",
       "1  ['AR', 'AU', 'AT', 'BE', 'BO', 'BR', 'BG', 'CA...            3   \n",
       "2  ['AR', 'AU', 'AT', 'BE', 'BO', 'BR', 'BG', 'CA...            1   \n",
       "3  ['AR', 'AU', 'AT', 'BE', 'BO', 'BR', 'BG', 'CA...            1   \n",
       "4  ['AR', 'AU', 'AT', 'BE', 'BO', 'BR', 'BG', 'CA...            1   \n",
       "\n",
       "   duration_ms  explicit              external_ids  \\\n",
       "0       160106     False  {'isrc': 'QZ7B41700002'}   \n",
       "1       602266     False  {'isrc': 'DEF057630640'}   \n",
       "2       212826     False  {'isrc': 'GBUM72107273'}   \n",
       "3       304933     False  {'isrc': 'GBAYE0300927'}   \n",
       "4       191226     False  {'isrc': 'QZMHL2231434'}   \n",
       "\n",
       "                                       external_urls  \\\n",
       "0  {'spotify': 'https://open.spotify.com/track/00...   \n",
       "1  {'spotify': 'https://open.spotify.com/track/00...   \n",
       "2  {'spotify': 'https://open.spotify.com/track/00...   \n",
       "3  {'spotify': 'https://open.spotify.com/track/00...   \n",
       "4  {'spotify': 'https://open.spotify.com/track/00...   \n",
       "\n",
       "                                                href                      id  \\\n",
       "0  https://api.spotify.com/v1/tracks/001CyR8xqmmp...  001CyR8xqmmpVZFiTZJ5BC   \n",
       "1  https://api.spotify.com/v1/tracks/001eyxfoYptA...  001eyxfoYptAWzvF4ewLrR   \n",
       "2  https://api.spotify.com/v1/tracks/002LxxV7VTy5...  002LxxV7VTy5JkvkmmGanl   \n",
       "3  https://api.spotify.com/v1/tracks/002YdWxaenIU...  002YdWxaenIUL4PHiv5EB5   \n",
       "4  https://api.spotify.com/v1/tracks/002nFT2kRsfv...  002nFT2kRsfvS0d17AwWsB   \n",
       "\n",
       "   is_local                                               name  popularity  \\\n",
       "0     False                           She Knows How To Rock Me          30   \n",
       "1     False  Die Meistersinger von Nürnberg, WWV 96 / Act I...          22   \n",
       "2     False                  This Foolish Heart Could Love You          42   \n",
       "3     False            Eccentric Man - 2003 Remastered Version          31   \n",
       "4     False                                     A Month Or Two          42   \n",
       "\n",
       "                                         preview_url  track_number   type  \\\n",
       "0                                                NaN             2  track   \n",
       "1                                                NaN             7  track   \n",
       "2                                                NaN             1  track   \n",
       "3  https://p.scdn.co/mp3-preview/2c9eac1675b53cb6...             9  track   \n",
       "4  https://p.scdn.co/mp3-preview/02503d79c16a90fc...             1  track   \n",
       "\n",
       "                                    uri  num_markets explicit_trans  \n",
       "0  spotify:track:001CyR8xqmmpVZFiTZJ5BC          184              0  \n",
       "1  spotify:track:001eyxfoYptAWzvF4ewLrR          184              0  \n",
       "2  spotify:track:002LxxV7VTy5JkvkmmGanl          183              0  \n",
       "3  spotify:track:002YdWxaenIUL4PHiv5EB5          183              0  \n",
       "4  spotify:track:002nFT2kRsfvS0d17AwWsB          185              0  "
      ]
     },
     "execution_count": 15,
     "metadata": {},
     "output_type": "execute_result"
    }
   ],
   "source": [
    "track_info.head()"
   ]
  },
  {
   "cell_type": "code",
   "execution_count": 16,
   "metadata": {},
   "outputs": [],
   "source": [
    "import ast\n",
    "track_info['album_id'] = track_info['album'].apply(lambda x: ast.literal_eval(x)['id'])"
   ]
  },
  {
   "cell_type": "code",
   "execution_count": 17,
   "metadata": {},
   "outputs": [],
   "source": [
    "track_info['artist_id'] = track_info['artists'].apply(lambda x: ';'.join([artist['id'] for artist in ast.literal_eval(x)]))"
   ]
  },
  {
   "cell_type": "code",
   "execution_count": 18,
   "metadata": {},
   "outputs": [],
   "source": [
    "track_info = track_info[['id','name',\"album_id\",\"artist_id\",'popularity','explicit_trans','num_markets']]\n",
    "track_info.rename(columns={'num_markets':'available_markets', 'explicit_trans':'explicit'}, inplace=True)"
   ]
  },
  {
   "cell_type": "code",
   "execution_count": 19,
   "metadata": {},
   "outputs": [],
   "source": [
    "from datetime import date\n",
    "track_info['date'] = date.today()"
   ]
  },
  {
   "cell_type": "code",
   "execution_count": 20,
   "metadata": {},
   "outputs": [],
   "source": [
    "track_info.to_csv(\"track clear info.csv\")"
   ]
  },
  {
   "cell_type": "markdown",
   "metadata": {},
   "source": [
    "# Load track clear info to big query"
   ]
  },
  {
   "cell_type": "code",
   "execution_count": 22,
   "metadata": {},
   "outputs": [
    {
     "name": "stdout",
     "output_type": "stream",
     "text": [
      "Created dataset snappy-boulder-378707.TrackClearInfo\n"
     ]
    }
   ],
   "source": [
    "dataset_id = \"snappy-boulder-378707.TrackClearInfo\"\n",
    "dataset = bigquery.Dataset(dataset_id)\n",
    "dataset.location = \"US\"\n",
    "dataset = client.create_dataset(dataset, timeout=30)\n",
    "print(\"Created dataset {}.{}\".format(client.project, dataset.dataset_id))"
   ]
  },
  {
   "cell_type": "code",
   "execution_count": 23,
   "metadata": {},
   "outputs": [],
   "source": [
    "schema = [\n",
    "    bigquery.SchemaField(\"unnamed\",\"INTEGER\"),\n",
    "    bigquery.SchemaField(\"id\",\"STRING\"),\n",
    "    bigquery.SchemaField(\"name\",\"STRING\"),\n",
    "    bigquery.SchemaField(\"album_id\",\"STRING\"),\n",
    "    bigquery.SchemaField(\"artist_id\",\"STRING\"),\n",
    "    bigquery.SchemaField(\"popularity\",\"INTEGER\"),\n",
    "    bigquery.SchemaField(\"explicit\",\"INTEGER\"),\n",
    "    bigquery.SchemaField(\"available_markets\",\"INTEGER\"),\n",
    "    bigquery.SchemaField(\"extract_date\",\"DATE\")\n",
    "]\n",
    "\n",
    "\n",
    "# TODO(developer): Set table_id to the ID of the table to create.\n",
    "table_id = \"snappy-boulder-378707.TrackClearInfo.TrackClearInfo\"\n",
    "table = bigquery.Table(table_id, schema=schema)\n",
    "table = client.create_table(table, timeout=30)  # Make an API request."
   ]
  },
  {
   "cell_type": "code",
   "execution_count": 24,
   "metadata": {},
   "outputs": [
    {
     "name": "stdout",
     "output_type": "stream",
     "text": [
      "Loaded 74925 rows and 9 columns to snappy-boulder-378707.TrackClearInfo.TrackClearInfo\n"
     ]
    }
   ],
   "source": [
    "job_config = bigquery.LoadJobConfig(\n",
    "    schema = schema,\n",
    "    source_format=bigquery.SourceFormat.CSV,\n",
    "    skip_leading_rows=1,\n",
    "    autodetect=True,\n",
    ")\n",
    "\n",
    "file_path = './track clear info.csv'\n",
    "table_id = \"snappy-boulder-378707.TrackClearInfo.TrackClearInfo\"\n",
    "\n",
    "with open(file_path, \"rb\") as source_file:\n",
    "    job = client.load_table_from_file(source_file, table_id, job_config=job_config)\n",
    "\n",
    "job.result()  # Waits for the job to complete.\n",
    "\n",
    "table = client.get_table(table_id)  # Make an API request.\n",
    "print(\n",
    "    \"Loaded {} rows and {} columns to {}\".format(\n",
    "        table.num_rows, len(table.schema), table_id\n",
    "    )\n",
    ")"
   ]
  },
  {
   "cell_type": "code",
   "execution_count": 25,
   "metadata": {},
   "outputs": [
    {
     "data": {
      "application/vnd.jupyter.widget-view+json": {
       "model_id": "1528b51ecfba42668f51ff9a74d77559",
       "version_major": 2,
       "version_minor": 0
      },
      "text/plain": [
       "Query is running:   0%|          |"
      ]
     },
     "metadata": {},
     "output_type": "display_data"
    },
    {
     "data": {
      "text/html": [
       "<div>\n",
       "<style scoped>\n",
       "    .dataframe tbody tr th:only-of-type {\n",
       "        vertical-align: middle;\n",
       "    }\n",
       "\n",
       "    .dataframe tbody tr th {\n",
       "        vertical-align: top;\n",
       "    }\n",
       "\n",
       "    .dataframe thead th {\n",
       "        text-align: right;\n",
       "    }\n",
       "</style>\n",
       "<table border=\"1\" class=\"dataframe\">\n",
       "  <thead>\n",
       "    <tr style=\"text-align: right;\">\n",
       "      <th></th>\n",
       "    </tr>\n",
       "  </thead>\n",
       "  <tbody>\n",
       "  </tbody>\n",
       "</table>\n",
       "</div>"
      ],
      "text/plain": [
       "Empty DataFrame\n",
       "Columns: []\n",
       "Index: []"
      ]
     },
     "execution_count": 25,
     "metadata": {},
     "output_type": "execute_result"
    }
   ],
   "source": [
    "%%bigquery\n",
    "ALTER TABLE snappy-boulder-378707.TrackClearInfo.TrackClearInfo\n",
    "DROP COLUMN unnamed"
   ]
  },
  {
   "cell_type": "code",
   "execution_count": 26,
   "metadata": {},
   "outputs": [
    {
     "data": {
      "application/vnd.jupyter.widget-view+json": {
       "model_id": "574bdbf95bdb444e94ae3366a004b854",
       "version_major": 2,
       "version_minor": 0
      },
      "text/plain": [
       "Query is running:   0%|          |"
      ]
     },
     "metadata": {},
     "output_type": "display_data"
    },
    {
     "data": {
      "text/html": [
       "<div>\n",
       "<style scoped>\n",
       "    .dataframe tbody tr th:only-of-type {\n",
       "        vertical-align: middle;\n",
       "    }\n",
       "\n",
       "    .dataframe tbody tr th {\n",
       "        vertical-align: top;\n",
       "    }\n",
       "\n",
       "    .dataframe thead th {\n",
       "        text-align: right;\n",
       "    }\n",
       "</style>\n",
       "<table border=\"1\" class=\"dataframe\">\n",
       "  <thead>\n",
       "    <tr style=\"text-align: right;\">\n",
       "      <th></th>\n",
       "    </tr>\n",
       "  </thead>\n",
       "  <tbody>\n",
       "  </tbody>\n",
       "</table>\n",
       "</div>"
      ],
      "text/plain": [
       "Empty DataFrame\n",
       "Columns: []\n",
       "Index: []"
      ]
     },
     "execution_count": 26,
     "metadata": {},
     "output_type": "execute_result"
    }
   ],
   "source": [
    "%%bigquery\n",
    "ALTER TABLE snappy-boulder-378707.TrackClearInfo.TrackClearInfo\n",
    "ADD PRIMARY KEY (id) NOT ENFORCED"
   ]
  },
  {
   "cell_type": "markdown",
   "metadata": {},
   "source": [
    "# Clear Audio features"
   ]
  },
  {
   "cell_type": "code",
   "execution_count": 25,
   "metadata": {},
   "outputs": [
    {
     "name": "stdout",
     "output_type": "stream",
     "text": [
      "Created table snappy-boulder-378707.AudioFeatures.AudioFeatures\n"
     ]
    }
   ],
   "source": [
    "\n",
    "schema = [\n",
    "    bigquery.SchemaField(\"unnamed\",\"INTEGER\"),\n",
    "    bigquery.SchemaField(\"danceability\",\"FLOAT\"),\n",
    "    bigquery.SchemaField(\"energy\",\"FLOAT\"),\n",
    "    bigquery.SchemaField(\"key\",\"INTEGER\"),\n",
    "    bigquery.SchemaField(\"loudness\",\"FLOAT\"),\n",
    "    bigquery.SchemaField(\"mode\",\"INTEGER\"),\n",
    "    bigquery.SchemaField(\"speechiness\",\"FLOAT\"),\n",
    "    bigquery.SchemaField(\"acousticness\",\"FLOAT\"),\n",
    "    bigquery.SchemaField(\"instrumentalness\",\"FLOAT\"),\n",
    "    bigquery.SchemaField(\"liveness\",\"FLOAT\"),\n",
    "    bigquery.SchemaField(\"valence\",\"FLOAT\"),\n",
    "    bigquery.SchemaField(\"tempo\",\"FLOAT\"),\n",
    "    bigquery.SchemaField(\"type\",\"STRING\"),\n",
    "    bigquery.SchemaField(\"id\",\"STRING\"),\n",
    "    bigquery.SchemaField(\"uri\",\"STRING\"),\n",
    "    bigquery.SchemaField(\"track_href\",\"STRING\"),\n",
    "    bigquery.SchemaField(\"analysis_url\",\"STRING\"),\n",
    "    bigquery.SchemaField(\"duration_ms\",\"INTEGER\"),\n",
    "    bigquery.SchemaField(\"time_signature\",\"INTEGER\"),\n",
    "]\n",
    "\n",
    "# TODO(developer): Set table_id to the ID of the table to create.\n",
    "table_id = \"snappy-boulder-378707.AudioFeatures.AudioFeatures\"\n",
    "table = bigquery.Table(table_id, schema=schema)\n",
    "table = client.create_table(table, timeout=30)  # Make an API request.\n",
    "print(\"Created table {}.{}.{}\".format(table.project, table.dataset_id, table.table_id))"
   ]
  },
  {
   "cell_type": "code",
   "execution_count": 26,
   "metadata": {},
   "outputs": [
    {
     "name": "stdout",
     "output_type": "stream",
     "text": [
      "Loaded 74856 rows and 19 columns to snappy-boulder-378707.AudioFeatures.AudioFeatures\n"
     ]
    }
   ],
   "source": [
    "job_config = bigquery.LoadJobConfig(\n",
    "    schema = schema,\n",
    "    source_format=bigquery.SourceFormat.CSV,\n",
    "    skip_leading_rows=1,\n",
    "    autodetect=True,\n",
    ")\n",
    "\n",
    "\n",
    "file_path = './audio features.csv'\n",
    "table_id = \"snappy-boulder-378707.AudioFeatures.AudioFeatures\"\n",
    "\n",
    "with open(file_path, \"rb\") as source_file:\n",
    "    job = client.load_table_from_file(source_file, table_id, job_config=job_config)\n",
    "\n",
    "job.result()  # Waits for the job to complete.\n",
    "\n",
    "table = client.get_table(table_id)  # Make an API request.\n",
    "print(\n",
    "    \"Loaded {} rows and {} columns to {}\".format(\n",
    "        table.num_rows, len(table.schema), table_id\n",
    "    )\n",
    ")"
   ]
  },
  {
   "cell_type": "code",
   "execution_count": 34,
   "metadata": {},
   "outputs": [
    {
     "data": {
      "application/vnd.jupyter.widget-view+json": {
       "model_id": "99b3e97cc8f24d92bb9d6e5117385402",
       "version_major": 2,
       "version_minor": 0
      },
      "text/plain": [
       "Query is running:   0%|          |"
      ]
     },
     "metadata": {},
     "output_type": "display_data"
    },
    {
     "data": {
      "text/html": [
       "<div>\n",
       "<style scoped>\n",
       "    .dataframe tbody tr th:only-of-type {\n",
       "        vertical-align: middle;\n",
       "    }\n",
       "\n",
       "    .dataframe tbody tr th {\n",
       "        vertical-align: top;\n",
       "    }\n",
       "\n",
       "    .dataframe thead th {\n",
       "        text-align: right;\n",
       "    }\n",
       "</style>\n",
       "<table border=\"1\" class=\"dataframe\">\n",
       "  <thead>\n",
       "    <tr style=\"text-align: right;\">\n",
       "      <th></th>\n",
       "    </tr>\n",
       "  </thead>\n",
       "  <tbody>\n",
       "  </tbody>\n",
       "</table>\n",
       "</div>"
      ],
      "text/plain": [
       "Empty DataFrame\n",
       "Columns: []\n",
       "Index: []"
      ]
     },
     "execution_count": 34,
     "metadata": {},
     "output_type": "execute_result"
    }
   ],
   "source": [
    "%%bigquery\n",
    "ALTER TABLE snappy-boulder-378707.AudioFeatures.AudioFeatures\n",
    "DROP COLUMN unnamed, drop column type, drop column uri,drop column track_href,drop column analysis_url;"
   ]
  },
  {
   "cell_type": "code",
   "execution_count": 35,
   "metadata": {},
   "outputs": [
    {
     "data": {
      "application/vnd.jupyter.widget-view+json": {
       "model_id": "03755ac633b9400a89d62c2bd0aef57b",
       "version_major": 2,
       "version_minor": 0
      },
      "text/plain": [
       "Query is running:   0%|          |"
      ]
     },
     "metadata": {},
     "output_type": "display_data"
    },
    {
     "data": {
      "text/html": [
       "<div>\n",
       "<style scoped>\n",
       "    .dataframe tbody tr th:only-of-type {\n",
       "        vertical-align: middle;\n",
       "    }\n",
       "\n",
       "    .dataframe tbody tr th {\n",
       "        vertical-align: top;\n",
       "    }\n",
       "\n",
       "    .dataframe thead th {\n",
       "        text-align: right;\n",
       "    }\n",
       "</style>\n",
       "<table border=\"1\" class=\"dataframe\">\n",
       "  <thead>\n",
       "    <tr style=\"text-align: right;\">\n",
       "      <th></th>\n",
       "    </tr>\n",
       "  </thead>\n",
       "  <tbody>\n",
       "  </tbody>\n",
       "</table>\n",
       "</div>"
      ],
      "text/plain": [
       "Empty DataFrame\n",
       "Columns: []\n",
       "Index: []"
      ]
     },
     "execution_count": 35,
     "metadata": {},
     "output_type": "execute_result"
    }
   ],
   "source": [
    "%%bigquery\n",
    "ALTER TABLE snappy-boulder-378707.AudioFeatures.AudioFeatures\n",
    "ADD PRIMARY KEY (id) NOT ENFORCED"
   ]
  }
 ],
 "metadata": {
  "kernelspec": {
   "display_name": "Python 3 (ipykernel)",
   "language": "python",
   "name": "python3"
  },
  "language_info": {
   "codemirror_mode": {
    "name": "ipython",
    "version": 3
   },
   "file_extension": ".py",
   "mimetype": "text/x-python",
   "name": "python",
   "nbconvert_exporter": "python",
   "pygments_lexer": "ipython3",
   "version": "3.9.16"
  },
  "toc": {
   "base_numbering": 1,
   "nav_menu": {},
   "number_sections": true,
   "sideBar": true,
   "skip_h1_title": false,
   "title_cell": "Table of Contents",
   "title_sidebar": "Contents",
   "toc_cell": false,
   "toc_position": {},
   "toc_section_display": true,
   "toc_window_display": false
  }
 },
 "nbformat": 4,
 "nbformat_minor": 2
}
