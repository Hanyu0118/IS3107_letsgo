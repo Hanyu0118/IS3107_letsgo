{
 "cells": [
  {
   "cell_type": "code",
   "execution_count": 182,
   "id": "176e5f72",
   "metadata": {},
   "outputs": [],
   "source": [
    "import numpy as np\n",
    "import pandas as pd\n",
    "import matplotlib.pyplot as plt\n",
    "import seaborn as sns\n",
    "import json\n",
    "\n",
    "import spotipy\n",
    "from spotipy.oauth2 import SpotifyClientCredentials\n",
    "import requests\n",
    "from spotipy.oauth2 import SpotifyOAuth\n",
    "from tqdm import tqdm"
   ]
  },
  {
   "attachments": {},
   "cell_type": "markdown",
   "id": "915f620d",
   "metadata": {},
   "source": [
    "# Credential"
   ]
  },
  {
   "cell_type": "code",
   "execution_count": 69,
   "id": "aa306f5b",
   "metadata": {
    "scrolled": true
   },
   "outputs": [],
   "source": [
    "credentials = json.load(open('authorization.json'))\n",
    "client_id = credentials['client_id']\n",
    "client_secret = credentials['client_secret']\n",
    "client_credentials_manager = SpotifyClientCredentials(client_id=client_id,client_secret=client_secret)\n",
    "sp = spotipy.Spotify(client_credentials_manager=client_credentials_manager, requests_timeout=6, retries=5)"
   ]
  },
  {
   "attachments": {},
   "cell_type": "markdown",
   "id": "a0744dc9",
   "metadata": {},
   "source": [
    "# Extract general genres names"
   ]
  },
  {
   "cell_type": "code",
   "execution_count": 152,
   "id": "8909c691",
   "metadata": {},
   "outputs": [],
   "source": [
    "genres = []\n",
    "categories = sp.categories(limit=50, offset=0)['categories']['items']\n",
    "for cat in categories:\n",
    "    genres.append((cat['id'],cat['name']))"
   ]
  },
  {
   "attachments": {},
   "cell_type": "markdown",
   "id": "9acd7215",
   "metadata": {},
   "source": [
    "Filter unuseful genres\n",
    "\n",
    "\n",
    "\n",
    "Pop,Dance/Electronic, Hip-Hop,Rock,Indie,R&B,Jazz,Classical,Alternative,Instrumental,Metal,Blues,Folk & Acoustic, K-Pop,Mandopop,Malay Pop,Latin,Cantopop,Musik Indonesia"
   ]
  },
  {
   "cell_type": "code",
   "execution_count": 153,
   "id": "7acdbf1c",
   "metadata": {},
   "outputs": [],
   "source": [
    "valid_genres = [\n",
    " 'Pop',\n",
    " 'Dance/Electronic',\n",
    " 'Hip-Hop',\n",
    " 'K-Pop',\n",
    " 'Mandopop',\n",
    " 'Rock',\n",
    " 'Indie',\n",
    " 'R&B',\n",
    " 'Jazz',\n",
    " 'Classical',\n",
    " 'Alternative',\n",
    " 'Instrumental',\n",
    " 'Malay Pop',\n",
    " 'Latin',\n",
    " 'Cantopop',\n",
    " 'Musik Indonesia',\n",
    " 'Metal',\n",
    " 'Blues',\n",
    " 'Folk & Acoustic']\n",
    "genres = [[id,name] for id, name in genres if name in valid_genres]"
   ]
  },
  {
   "cell_type": "code",
   "execution_count": 155,
   "id": "c5020bef",
   "metadata": {},
   "outputs": [],
   "source": [
    "genres = pd.DataFrame(genres, columns=['Genre_id','Genre_name'])"
   ]
  },
  {
   "attachments": {},
   "cell_type": "markdown",
   "id": "48717a31",
   "metadata": {},
   "source": [
    "# Get every genre playlists"
   ]
  },
  {
   "cell_type": "code",
   "execution_count": 175,
   "id": "a713fbd7",
   "metadata": {},
   "outputs": [],
   "source": [
    "pls = pd.DataFrame(columns = ['Genre_id','Genre_name',\"id\"])\n",
    "for i in range(len(genres)):\n",
    "    genre = genres.loc[i,'Genre_id']\n",
    "    playlists = []\n",
    "    try:\n",
    "        pl = sp.category_playlists(category_id=genre, limit=50, offset=0)[\"playlists\"]\n",
    "        total = int(pl[\"total\"])\n",
    "        playlists =  pl['items']\n",
    "        if total > 50:\n",
    "            for j in range(50,total,50):\n",
    "                playlists =  playlists + sp.category_playlists(category_id=genre, limit=50, offset=j)[\"playlists\"]['items']\n",
    "    except:\n",
    "        print(genre)\n",
    "        client_credentials_manager = SpotifyClientCredentials(client_id=client_id,client_secret=client_secret)\n",
    "        sp = spotipy.Spotify(client_credentials_manager=client_credentials_manager, requests_timeout=6, retries=5)\n",
    "    finally:\n",
    "        pl = sp.category_playlists(category_id=genre, limit=50, offset=0)[\"playlists\"]\n",
    "        total = int(pl[\"total\"])\n",
    "        playlists =  pl['items']\n",
    "        if total > 50:\n",
    "            for j in range(50,total,50):\n",
    "                playlists =  playlists + sp.category_playlists(category_id=genre, limit=50, offset=j)[\"playlists\"]['items']\n",
    "  \n",
    "\n",
    "    playlists = pd.json_normalize(playlists)\n",
    "    playlists['Genre_name'] = genres.loc[i,'Genre_name']\n",
    "    playlists['Genre_id'] = genres.loc[i,'Genre_id']\n",
    "    pls = pd.concat([pls,playlists[['Genre_id','Genre_name',\"id\"]]], axis=0)\n",
    "    "
   ]
  },
  {
   "cell_type": "code",
   "execution_count": 177,
   "id": "f7015bb2",
   "metadata": {},
   "outputs": [],
   "source": [
    "pls.columns = ['Genre_id','Genre_name','playlist_id']\n",
    "pls = pls[pd.notnull(pls.playlist_id)]\n",
    "pls.reset_index(inplace=True)"
   ]
  },
  {
   "attachments": {},
   "cell_type": "markdown",
   "id": "c494845f",
   "metadata": {},
   "source": [
    "# Extract tracks of each playlist"
   ]
  },
  {
   "cell_type": "code",
   "execution_count": 209,
   "id": "90bc41b8",
   "metadata": {},
   "outputs": [
    {
     "name": "stderr",
     "output_type": "stream",
     "text": [
      "100%|██████████| 4/4 [00:07<00:00,  1.99s/it]\n"
     ]
    }
   ],
   "source": [
    "tracks_total = []   \n",
    "for i in tqdm(range(len(pls))):\n",
    "    t = pls.iloc[i]\n",
    "    try:\n",
    "        tracks = sp.playlist_items(t['playlist_id'], limit=50, offset=0)['items']\n",
    "        total = sp.playlist_items(t['playlist_id'], limit=50, offset=0)['total']\n",
    "        for track in tracks:\n",
    "            if track['track'] != None:\n",
    "                tracks_total.append([t['Genre_id'],t['Genre_name'],t['playlist_id'],track['track']['id']])\n",
    "        if total>50:\n",
    "            for j in range(50,total,50):\n",
    "                tracks = sp.playlist_items(t['playlist_id'], limit=50, offset=j)['items']\n",
    "                for track in tracks:\n",
    "                    if track['track'] != None:\n",
    "                        tracks_total.append([t['Genre_id'],t['Genre_name'],t['playlist_id'],track['track']['id']])\n",
    "    except:\n",
    "        print(t)\n",
    "        client_credentials_manager = SpotifyClientCredentials(client_id=client_id,client_secret=client_secret)\n",
    "        sp = spotipy.Spotify(client_credentials_manager=client_credentials_manager, requests_timeout=6, retries=5)\n",
    "    finally:\n",
    "        tracks = sp.playlist_items(t['playlist_id'], limit=50, offset=0)['items']\n",
    "        total = sp.playlist_items(t['playlist_id'], limit=50, offset=0)['total']\n",
    "        for track in tracks:\n",
    "            if track['track'] != None:\n",
    "                tracks_total.append([t['Genre_id'],t['Genre_name'],t['playlist_id'],track['track']['id']])\n",
    "        if total>50:\n",
    "            for j in range(50,total,50):\n",
    "                tracks = sp.playlist_items(t['playlist_id'], limit=50, offset=j)['items']\n",
    "                for track in tracks:\n",
    "                    if track['track'] != None:\n",
    "                        tracks_total.append([t['Genre_id'],t['Genre_name'],t['playlist_id'],track['track']['id']])\n"
   ]
  },
  {
   "cell_type": "code",
   "execution_count": 210,
   "id": "91b61d73",
   "metadata": {},
   "outputs": [],
   "source": [
    "tracks_total = pd.DataFrame(tracks_total, columns=['Genre_id','Genre_name','playlist_id','track_id'])"
   ]
  },
  {
   "cell_type": "code",
   "execution_count": 211,
   "id": "dbe3083d",
   "metadata": {},
   "outputs": [],
   "source": [
    "tracks_total.to_csv(\"tracks_total_\" + \"4\" + \".csv\")"
   ]
  }
 ],
 "metadata": {
  "kernelspec": {
   "display_name": "base",
   "language": "python",
   "name": "python3"
  },
  "language_info": {
   "codemirror_mode": {
    "name": "ipython",
    "version": 3
   },
   "file_extension": ".py",
   "mimetype": "text/x-python",
   "name": "python",
   "nbconvert_exporter": "python",
   "pygments_lexer": "ipython3",
   "version": "3.9.16"
  },
  "vscode": {
   "interpreter": {
    "hash": "8783f9810305945410e072013ca67dc8b4dc217ad7efffd780a78cfa4ff0d606"
   }
  }
 },
 "nbformat": 4,
 "nbformat_minor": 5
}
