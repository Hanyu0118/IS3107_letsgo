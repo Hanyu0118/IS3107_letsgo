{
 "cells": [
  {
   "cell_type": "code",
   "execution_count": 1,
   "id": "8fd179a2",
   "metadata": {
    "ExecuteTime": {
     "end_time": "2023-03-09T11:11:03.976918Z",
     "start_time": "2023-03-09T11:11:03.848999Z"
    }
   },
   "outputs": [],
   "source": [
    "import numpy as np\n",
    "import pandas as pd\n",
    "import matplotlib.pyplot as plt\n",
    "import seaborn as sns\n",
    "import json\n",
    "import spotipy\n",
    "from spotipy.oauth2 import SpotifyClientCredentials\n",
    "import requests\n",
    "from spotipy.oauth2 import SpotifyOAuth\n",
    "from tqdm import tqdm\n",
    "import sys\n",
    "import warnings\n",
    "if not sys.warnoptions:\n",
    "    warnings.simplefilter(\"ignore\")\n",
    "import time"
   ]
  },
  {
   "cell_type": "markdown",
   "id": "c06e5c71",
   "metadata": {},
   "source": [
    "### Chart Data Remove Duplicate & Output Ids"
   ]
  },
  {
   "cell_type": "code",
   "execution_count": 13,
   "id": "a3a16a39",
   "metadata": {},
   "outputs": [
    {
     "data": {
      "text/html": [
       "<div>\n",
       "<style scoped>\n",
       "    .dataframe tbody tr th:only-of-type {\n",
       "        vertical-align: middle;\n",
       "    }\n",
       "\n",
       "    .dataframe tbody tr th {\n",
       "        vertical-align: top;\n",
       "    }\n",
       "\n",
       "    .dataframe thead th {\n",
       "        text-align: right;\n",
       "    }\n",
       "</style>\n",
       "<table border=\"1\" class=\"dataframe\">\n",
       "  <thead>\n",
       "    <tr style=\"text-align: right;\">\n",
       "      <th></th>\n",
       "      <th>title</th>\n",
       "      <th>rank</th>\n",
       "      <th>date</th>\n",
       "      <th>artist</th>\n",
       "      <th>url</th>\n",
       "      <th>region</th>\n",
       "      <th>chart</th>\n",
       "      <th>trend</th>\n",
       "      <th>streams</th>\n",
       "    </tr>\n",
       "  </thead>\n",
       "  <tbody>\n",
       "    <tr>\n",
       "      <th>0</th>\n",
       "      <td>Chantaje (feat. Maluma)</td>\n",
       "      <td>1</td>\n",
       "      <td>2017-01-01</td>\n",
       "      <td>Shakira</td>\n",
       "      <td>https://open.spotify.com/track/6mICuAdrwEjh6Y6...</td>\n",
       "      <td>Argentina</td>\n",
       "      <td>top200</td>\n",
       "      <td>SAME_POSITION</td>\n",
       "      <td>253019.0</td>\n",
       "    </tr>\n",
       "    <tr>\n",
       "      <th>1</th>\n",
       "      <td>Vente Pa' Ca (feat. Maluma)</td>\n",
       "      <td>2</td>\n",
       "      <td>2017-01-01</td>\n",
       "      <td>Ricky Martin</td>\n",
       "      <td>https://open.spotify.com/track/7DM4BPaS7uofFul...</td>\n",
       "      <td>Argentina</td>\n",
       "      <td>top200</td>\n",
       "      <td>MOVE_UP</td>\n",
       "      <td>223988.0</td>\n",
       "    </tr>\n",
       "    <tr>\n",
       "      <th>2</th>\n",
       "      <td>Reggaetón Lento (Bailemos)</td>\n",
       "      <td>3</td>\n",
       "      <td>2017-01-01</td>\n",
       "      <td>CNCO</td>\n",
       "      <td>https://open.spotify.com/track/3AEZUABDXNtecAO...</td>\n",
       "      <td>Argentina</td>\n",
       "      <td>top200</td>\n",
       "      <td>MOVE_DOWN</td>\n",
       "      <td>210943.0</td>\n",
       "    </tr>\n",
       "    <tr>\n",
       "      <th>3</th>\n",
       "      <td>Safari</td>\n",
       "      <td>4</td>\n",
       "      <td>2017-01-01</td>\n",
       "      <td>J Balvin, Pharrell Williams, BIA, Sky</td>\n",
       "      <td>https://open.spotify.com/track/6rQSrBHf7HlZjtc...</td>\n",
       "      <td>Argentina</td>\n",
       "      <td>top200</td>\n",
       "      <td>SAME_POSITION</td>\n",
       "      <td>173865.0</td>\n",
       "    </tr>\n",
       "    <tr>\n",
       "      <th>4</th>\n",
       "      <td>Shaky Shaky</td>\n",
       "      <td>5</td>\n",
       "      <td>2017-01-01</td>\n",
       "      <td>Daddy Yankee</td>\n",
       "      <td>https://open.spotify.com/track/58IL315gMSTD37D...</td>\n",
       "      <td>Argentina</td>\n",
       "      <td>top200</td>\n",
       "      <td>MOVE_UP</td>\n",
       "      <td>153956.0</td>\n",
       "    </tr>\n",
       "    <tr>\n",
       "      <th>...</th>\n",
       "      <td>...</td>\n",
       "      <td>...</td>\n",
       "      <td>...</td>\n",
       "      <td>...</td>\n",
       "      <td>...</td>\n",
       "      <td>...</td>\n",
       "      <td>...</td>\n",
       "      <td>...</td>\n",
       "      <td>...</td>\n",
       "    </tr>\n",
       "    <tr>\n",
       "      <th>26173509</th>\n",
       "      <td>BYE</td>\n",
       "      <td>46</td>\n",
       "      <td>2021-07-31</td>\n",
       "      <td>Jaden</td>\n",
       "      <td>https://open.spotify.com/track/3OUyyDN7EZrL7i0...</td>\n",
       "      <td>Vietnam</td>\n",
       "      <td>viral50</td>\n",
       "      <td>MOVE_UP</td>\n",
       "      <td>NaN</td>\n",
       "    </tr>\n",
       "    <tr>\n",
       "      <th>26173510</th>\n",
       "      <td>Pillars</td>\n",
       "      <td>47</td>\n",
       "      <td>2021-07-31</td>\n",
       "      <td>My Anh</td>\n",
       "      <td>https://open.spotify.com/track/6eky30oFiQbHUAT...</td>\n",
       "      <td>Vietnam</td>\n",
       "      <td>viral50</td>\n",
       "      <td>NEW_ENTRY</td>\n",
       "      <td>NaN</td>\n",
       "    </tr>\n",
       "    <tr>\n",
       "      <th>26173511</th>\n",
       "      <td>Gái Độc Thân</td>\n",
       "      <td>48</td>\n",
       "      <td>2021-07-31</td>\n",
       "      <td>Tlinh</td>\n",
       "      <td>https://open.spotify.com/track/2klsSb2iTfgDh95...</td>\n",
       "      <td>Vietnam</td>\n",
       "      <td>viral50</td>\n",
       "      <td>MOVE_DOWN</td>\n",
       "      <td>NaN</td>\n",
       "    </tr>\n",
       "    <tr>\n",
       "      <th>26173512</th>\n",
       "      <td>Renegade (feat. Taylor Swift)</td>\n",
       "      <td>49</td>\n",
       "      <td>2021-07-31</td>\n",
       "      <td>Big Red Machine</td>\n",
       "      <td>https://open.spotify.com/track/1aU1wpYBSpP0M6I...</td>\n",
       "      <td>Vietnam</td>\n",
       "      <td>viral50</td>\n",
       "      <td>MOVE_DOWN</td>\n",
       "      <td>NaN</td>\n",
       "    </tr>\n",
       "    <tr>\n",
       "      <th>26173513</th>\n",
       "      <td>Letter to Jarad</td>\n",
       "      <td>50</td>\n",
       "      <td>2021-07-31</td>\n",
       "      <td>LRN Slime, Shiloh Dynasty</td>\n",
       "      <td>https://open.spotify.com/track/508QhA2SncMbh5C...</td>\n",
       "      <td>Vietnam</td>\n",
       "      <td>viral50</td>\n",
       "      <td>MOVE_DOWN</td>\n",
       "      <td>NaN</td>\n",
       "    </tr>\n",
       "  </tbody>\n",
       "</table>\n",
       "<p>26173514 rows × 9 columns</p>\n",
       "</div>"
      ],
      "text/plain": [
       "                                  title  rank        date  \\\n",
       "0               Chantaje (feat. Maluma)     1  2017-01-01   \n",
       "1           Vente Pa' Ca (feat. Maluma)     2  2017-01-01   \n",
       "2            Reggaetón Lento (Bailemos)     3  2017-01-01   \n",
       "3                                Safari     4  2017-01-01   \n",
       "4                           Shaky Shaky     5  2017-01-01   \n",
       "...                                 ...   ...         ...   \n",
       "26173509                            BYE    46  2021-07-31   \n",
       "26173510                        Pillars    47  2021-07-31   \n",
       "26173511                   Gái Độc Thân    48  2021-07-31   \n",
       "26173512  Renegade (feat. Taylor Swift)    49  2021-07-31   \n",
       "26173513                Letter to Jarad    50  2021-07-31   \n",
       "\n",
       "                                         artist  \\\n",
       "0                                       Shakira   \n",
       "1                                  Ricky Martin   \n",
       "2                                          CNCO   \n",
       "3         J Balvin, Pharrell Williams, BIA, Sky   \n",
       "4                                  Daddy Yankee   \n",
       "...                                         ...   \n",
       "26173509                                  Jaden   \n",
       "26173510                                 My Anh   \n",
       "26173511                                  Tlinh   \n",
       "26173512                        Big Red Machine   \n",
       "26173513              LRN Slime, Shiloh Dynasty   \n",
       "\n",
       "                                                        url     region  \\\n",
       "0         https://open.spotify.com/track/6mICuAdrwEjh6Y6...  Argentina   \n",
       "1         https://open.spotify.com/track/7DM4BPaS7uofFul...  Argentina   \n",
       "2         https://open.spotify.com/track/3AEZUABDXNtecAO...  Argentina   \n",
       "3         https://open.spotify.com/track/6rQSrBHf7HlZjtc...  Argentina   \n",
       "4         https://open.spotify.com/track/58IL315gMSTD37D...  Argentina   \n",
       "...                                                     ...        ...   \n",
       "26173509  https://open.spotify.com/track/3OUyyDN7EZrL7i0...    Vietnam   \n",
       "26173510  https://open.spotify.com/track/6eky30oFiQbHUAT...    Vietnam   \n",
       "26173511  https://open.spotify.com/track/2klsSb2iTfgDh95...    Vietnam   \n",
       "26173512  https://open.spotify.com/track/1aU1wpYBSpP0M6I...    Vietnam   \n",
       "26173513  https://open.spotify.com/track/508QhA2SncMbh5C...    Vietnam   \n",
       "\n",
       "            chart          trend   streams  \n",
       "0          top200  SAME_POSITION  253019.0  \n",
       "1          top200        MOVE_UP  223988.0  \n",
       "2          top200      MOVE_DOWN  210943.0  \n",
       "3          top200  SAME_POSITION  173865.0  \n",
       "4          top200        MOVE_UP  153956.0  \n",
       "...           ...            ...       ...  \n",
       "26173509  viral50        MOVE_UP       NaN  \n",
       "26173510  viral50      NEW_ENTRY       NaN  \n",
       "26173511  viral50      MOVE_DOWN       NaN  \n",
       "26173512  viral50      MOVE_DOWN       NaN  \n",
       "26173513  viral50      MOVE_DOWN       NaN  \n",
       "\n",
       "[26173514 rows x 9 columns]"
      ]
     },
     "execution_count": 13,
     "metadata": {},
     "output_type": "execute_result"
    }
   ],
   "source": [
    "data = pd.read_csv(\"charts.csv\")\n",
    "data"
   ]
  },
  {
   "cell_type": "code",
   "execution_count": 35,
   "id": "09cb2d9b",
   "metadata": {},
   "outputs": [
    {
     "data": {
      "text/html": [
       "<div>\n",
       "<style scoped>\n",
       "    .dataframe tbody tr th:only-of-type {\n",
       "        vertical-align: middle;\n",
       "    }\n",
       "\n",
       "    .dataframe tbody tr th {\n",
       "        vertical-align: top;\n",
       "    }\n",
       "\n",
       "    .dataframe thead th {\n",
       "        text-align: right;\n",
       "    }\n",
       "</style>\n",
       "<table border=\"1\" class=\"dataframe\">\n",
       "  <thead>\n",
       "    <tr style=\"text-align: right;\">\n",
       "      <th></th>\n",
       "      <th>title</th>\n",
       "      <th>rank</th>\n",
       "      <th>date</th>\n",
       "      <th>artist</th>\n",
       "      <th>url</th>\n",
       "      <th>region</th>\n",
       "      <th>chart</th>\n",
       "      <th>trend</th>\n",
       "      <th>streams</th>\n",
       "    </tr>\n",
       "  </thead>\n",
       "  <tbody>\n",
       "    <tr>\n",
       "      <th>0</th>\n",
       "      <td>Chantaje (feat. Maluma)</td>\n",
       "      <td>1</td>\n",
       "      <td>2017-01-01</td>\n",
       "      <td>Shakira</td>\n",
       "      <td>https://open.spotify.com/track/6mICuAdrwEjh6Y6...</td>\n",
       "      <td>Argentina</td>\n",
       "      <td>top200</td>\n",
       "      <td>SAME_POSITION</td>\n",
       "      <td>253019.0</td>\n",
       "    </tr>\n",
       "    <tr>\n",
       "      <th>1</th>\n",
       "      <td>Vente Pa' Ca (feat. Maluma)</td>\n",
       "      <td>2</td>\n",
       "      <td>2017-01-01</td>\n",
       "      <td>Ricky Martin</td>\n",
       "      <td>https://open.spotify.com/track/7DM4BPaS7uofFul...</td>\n",
       "      <td>Argentina</td>\n",
       "      <td>top200</td>\n",
       "      <td>MOVE_UP</td>\n",
       "      <td>223988.0</td>\n",
       "    </tr>\n",
       "    <tr>\n",
       "      <th>2</th>\n",
       "      <td>Reggaetón Lento (Bailemos)</td>\n",
       "      <td>3</td>\n",
       "      <td>2017-01-01</td>\n",
       "      <td>CNCO</td>\n",
       "      <td>https://open.spotify.com/track/3AEZUABDXNtecAO...</td>\n",
       "      <td>Argentina</td>\n",
       "      <td>top200</td>\n",
       "      <td>MOVE_DOWN</td>\n",
       "      <td>210943.0</td>\n",
       "    </tr>\n",
       "    <tr>\n",
       "      <th>3</th>\n",
       "      <td>Safari</td>\n",
       "      <td>4</td>\n",
       "      <td>2017-01-01</td>\n",
       "      <td>J Balvin, Pharrell Williams, BIA, Sky</td>\n",
       "      <td>https://open.spotify.com/track/6rQSrBHf7HlZjtc...</td>\n",
       "      <td>Argentina</td>\n",
       "      <td>top200</td>\n",
       "      <td>SAME_POSITION</td>\n",
       "      <td>173865.0</td>\n",
       "    </tr>\n",
       "    <tr>\n",
       "      <th>4</th>\n",
       "      <td>Shaky Shaky</td>\n",
       "      <td>5</td>\n",
       "      <td>2017-01-01</td>\n",
       "      <td>Daddy Yankee</td>\n",
       "      <td>https://open.spotify.com/track/58IL315gMSTD37D...</td>\n",
       "      <td>Argentina</td>\n",
       "      <td>top200</td>\n",
       "      <td>MOVE_UP</td>\n",
       "      <td>153956.0</td>\n",
       "    </tr>\n",
       "    <tr>\n",
       "      <th>...</th>\n",
       "      <td>...</td>\n",
       "      <td>...</td>\n",
       "      <td>...</td>\n",
       "      <td>...</td>\n",
       "      <td>...</td>\n",
       "      <td>...</td>\n",
       "      <td>...</td>\n",
       "      <td>...</td>\n",
       "      <td>...</td>\n",
       "    </tr>\n",
       "    <tr>\n",
       "      <th>164802</th>\n",
       "      <td>めちゃくちゃ</td>\n",
       "      <td>50</td>\n",
       "      <td>2021-07-27</td>\n",
       "      <td>vvpskvd.</td>\n",
       "      <td>https://open.spotify.com/track/0u0ipbfDa5uKTdG...</td>\n",
       "      <td>Ukraine</td>\n",
       "      <td>viral50</td>\n",
       "      <td>NEW_ENTRY</td>\n",
       "      <td>NaN</td>\n",
       "    </tr>\n",
       "    <tr>\n",
       "      <th>164803</th>\n",
       "      <td>Gris Atardecer</td>\n",
       "      <td>20</td>\n",
       "      <td>2021-07-28</td>\n",
       "      <td>Los Visitantes</td>\n",
       "      <td>https://open.spotify.com/track/5vsdlfsRw5SEayU...</td>\n",
       "      <td>Argentina</td>\n",
       "      <td>viral50</td>\n",
       "      <td>NEW_ENTRY</td>\n",
       "      <td>NaN</td>\n",
       "    </tr>\n",
       "    <tr>\n",
       "      <th>164804</th>\n",
       "      <td>Imparfait inconnu</td>\n",
       "      <td>28</td>\n",
       "      <td>2021-07-28</td>\n",
       "      <td>Adé</td>\n",
       "      <td>https://open.spotify.com/track/3W7x967esdawMwz...</td>\n",
       "      <td>France</td>\n",
       "      <td>viral50</td>\n",
       "      <td>NEW_ENTRY</td>\n",
       "      <td>NaN</td>\n",
       "    </tr>\n",
       "    <tr>\n",
       "      <th>164805</th>\n",
       "      <td>Still Holy (feat. Ryan Ofei &amp; Naomi Raine)</td>\n",
       "      <td>47</td>\n",
       "      <td>2021-07-28</td>\n",
       "      <td>Tribl, Maverick City Music</td>\n",
       "      <td>https://open.spotify.com/track/4Cw36mfQ1z4JnjF...</td>\n",
       "      <td>South Africa</td>\n",
       "      <td>viral50</td>\n",
       "      <td>NEW_ENTRY</td>\n",
       "      <td>NaN</td>\n",
       "    </tr>\n",
       "    <tr>\n",
       "      <th>164806</th>\n",
       "      <td>怎叹</td>\n",
       "      <td>48</td>\n",
       "      <td>2021-07-29</td>\n",
       "      <td>郑鱼</td>\n",
       "      <td>https://open.spotify.com/track/02jBlxoKmrSXrHE...</td>\n",
       "      <td>Singapore</td>\n",
       "      <td>viral50</td>\n",
       "      <td>NEW_ENTRY</td>\n",
       "      <td>NaN</td>\n",
       "    </tr>\n",
       "  </tbody>\n",
       "</table>\n",
       "<p>164807 rows × 9 columns</p>\n",
       "</div>"
      ],
      "text/plain": [
       "                                             title  rank        date  \\\n",
       "0                          Chantaje (feat. Maluma)     1  2017-01-01   \n",
       "1                      Vente Pa' Ca (feat. Maluma)     2  2017-01-01   \n",
       "2                       Reggaetón Lento (Bailemos)     3  2017-01-01   \n",
       "3                                           Safari     4  2017-01-01   \n",
       "4                                      Shaky Shaky     5  2017-01-01   \n",
       "...                                            ...   ...         ...   \n",
       "164802                                      めちゃくちゃ    50  2021-07-27   \n",
       "164803                              Gris Atardecer    20  2021-07-28   \n",
       "164804                           Imparfait inconnu    28  2021-07-28   \n",
       "164805  Still Holy (feat. Ryan Ofei & Naomi Raine)    47  2021-07-28   \n",
       "164806                                          怎叹    48  2021-07-29   \n",
       "\n",
       "                                       artist  \\\n",
       "0                                     Shakira   \n",
       "1                                Ricky Martin   \n",
       "2                                        CNCO   \n",
       "3       J Balvin, Pharrell Williams, BIA, Sky   \n",
       "4                                Daddy Yankee   \n",
       "...                                       ...   \n",
       "164802                               vvpskvd.   \n",
       "164803                         Los Visitantes   \n",
       "164804                                    Adé   \n",
       "164805             Tribl, Maverick City Music   \n",
       "164806                                     郑鱼   \n",
       "\n",
       "                                                      url        region  \\\n",
       "0       https://open.spotify.com/track/6mICuAdrwEjh6Y6...     Argentina   \n",
       "1       https://open.spotify.com/track/7DM4BPaS7uofFul...     Argentina   \n",
       "2       https://open.spotify.com/track/3AEZUABDXNtecAO...     Argentina   \n",
       "3       https://open.spotify.com/track/6rQSrBHf7HlZjtc...     Argentina   \n",
       "4       https://open.spotify.com/track/58IL315gMSTD37D...     Argentina   \n",
       "...                                                   ...           ...   \n",
       "164802  https://open.spotify.com/track/0u0ipbfDa5uKTdG...       Ukraine   \n",
       "164803  https://open.spotify.com/track/5vsdlfsRw5SEayU...     Argentina   \n",
       "164804  https://open.spotify.com/track/3W7x967esdawMwz...        France   \n",
       "164805  https://open.spotify.com/track/4Cw36mfQ1z4JnjF...  South Africa   \n",
       "164806  https://open.spotify.com/track/02jBlxoKmrSXrHE...     Singapore   \n",
       "\n",
       "          chart          trend   streams  \n",
       "0        top200  SAME_POSITION  253019.0  \n",
       "1        top200        MOVE_UP  223988.0  \n",
       "2        top200      MOVE_DOWN  210943.0  \n",
       "3        top200  SAME_POSITION  173865.0  \n",
       "4        top200        MOVE_UP  153956.0  \n",
       "...         ...            ...       ...  \n",
       "164802  viral50      NEW_ENTRY       NaN  \n",
       "164803  viral50      NEW_ENTRY       NaN  \n",
       "164804  viral50      NEW_ENTRY       NaN  \n",
       "164805  viral50      NEW_ENTRY       NaN  \n",
       "164806  viral50      NEW_ENTRY       NaN  \n",
       "\n",
       "[164807 rows x 9 columns]"
      ]
     },
     "execution_count": 35,
     "metadata": {},
     "output_type": "execute_result"
    }
   ],
   "source": [
    "songs = data.drop_duplicates(subset=['title'])\n",
    "songs.reset_index(inplace=True, drop=True)\n",
    "songs"
   ]
  },
  {
   "cell_type": "code",
   "execution_count": 36,
   "id": "f631b42d",
   "metadata": {},
   "outputs": [
    {
     "data": {
      "text/plain": [
       "['title',\n",
       " 'rank',\n",
       " 'date',\n",
       " 'artist',\n",
       " 'url',\n",
       " 'region',\n",
       " 'chart',\n",
       " 'trend',\n",
       " 'streams']"
      ]
     },
     "execution_count": 36,
     "metadata": {},
     "output_type": "execute_result"
    }
   ],
   "source": [
    "list(songs.columns)"
   ]
  },
  {
   "cell_type": "code",
   "execution_count": 38,
   "id": "aaadccd7",
   "metadata": {},
   "outputs": [
    {
     "name": "stderr",
     "output_type": "stream",
     "text": [
      "C:\\Users\\12560\\AppData\\Local\\Temp\\ipykernel_5496\\2122764647.py:1: SettingWithCopyWarning: \n",
      "A value is trying to be set on a copy of a slice from a DataFrame.\n",
      "Try using .loc[row_indexer,col_indexer] = value instead\n",
      "\n",
      "See the caveats in the documentation: https://pandas.pydata.org/pandas-docs/stable/user_guide/indexing.html#returning-a-view-versus-a-copy\n",
      "  songs['date_formatted'] = pd.to_datetime(songs['date'], format=\"%Y-%m-%d\")\n",
      "C:\\Users\\12560\\AppData\\Local\\Temp\\ipykernel_5496\\2122764647.py:2: SettingWithCopyWarning: \n",
      "A value is trying to be set on a copy of a slice from a DataFrame.\n",
      "Try using .loc[row_indexer,col_indexer] = value instead\n",
      "\n",
      "See the caveats in the documentation: https://pandas.pydata.org/pandas-docs/stable/user_guide/indexing.html#returning-a-view-versus-a-copy\n",
      "  songs['year'] = songs['date_formatted'].dt.year\n"
     ]
    },
    {
     "data": {
      "text/html": [
       "<div>\n",
       "<style scoped>\n",
       "    .dataframe tbody tr th:only-of-type {\n",
       "        vertical-align: middle;\n",
       "    }\n",
       "\n",
       "    .dataframe tbody tr th {\n",
       "        vertical-align: top;\n",
       "    }\n",
       "\n",
       "    .dataframe thead th {\n",
       "        text-align: right;\n",
       "    }\n",
       "</style>\n",
       "<table border=\"1\" class=\"dataframe\">\n",
       "  <thead>\n",
       "    <tr style=\"text-align: right;\">\n",
       "      <th></th>\n",
       "      <th>title</th>\n",
       "      <th>rank</th>\n",
       "      <th>date</th>\n",
       "      <th>artist</th>\n",
       "      <th>url</th>\n",
       "      <th>region</th>\n",
       "      <th>chart</th>\n",
       "      <th>trend</th>\n",
       "      <th>streams</th>\n",
       "      <th>date_formatted</th>\n",
       "      <th>year</th>\n",
       "    </tr>\n",
       "  </thead>\n",
       "  <tbody>\n",
       "    <tr>\n",
       "      <th>0</th>\n",
       "      <td>Chantaje (feat. Maluma)</td>\n",
       "      <td>1</td>\n",
       "      <td>2017-01-01</td>\n",
       "      <td>Shakira</td>\n",
       "      <td>https://open.spotify.com/track/6mICuAdrwEjh6Y6...</td>\n",
       "      <td>Argentina</td>\n",
       "      <td>top200</td>\n",
       "      <td>SAME_POSITION</td>\n",
       "      <td>253019.0</td>\n",
       "      <td>2017-01-01</td>\n",
       "      <td>2017</td>\n",
       "    </tr>\n",
       "    <tr>\n",
       "      <th>1</th>\n",
       "      <td>Vente Pa' Ca (feat. Maluma)</td>\n",
       "      <td>2</td>\n",
       "      <td>2017-01-01</td>\n",
       "      <td>Ricky Martin</td>\n",
       "      <td>https://open.spotify.com/track/7DM4BPaS7uofFul...</td>\n",
       "      <td>Argentina</td>\n",
       "      <td>top200</td>\n",
       "      <td>MOVE_UP</td>\n",
       "      <td>223988.0</td>\n",
       "      <td>2017-01-01</td>\n",
       "      <td>2017</td>\n",
       "    </tr>\n",
       "    <tr>\n",
       "      <th>2</th>\n",
       "      <td>Reggaetón Lento (Bailemos)</td>\n",
       "      <td>3</td>\n",
       "      <td>2017-01-01</td>\n",
       "      <td>CNCO</td>\n",
       "      <td>https://open.spotify.com/track/3AEZUABDXNtecAO...</td>\n",
       "      <td>Argentina</td>\n",
       "      <td>top200</td>\n",
       "      <td>MOVE_DOWN</td>\n",
       "      <td>210943.0</td>\n",
       "      <td>2017-01-01</td>\n",
       "      <td>2017</td>\n",
       "    </tr>\n",
       "    <tr>\n",
       "      <th>3</th>\n",
       "      <td>Safari</td>\n",
       "      <td>4</td>\n",
       "      <td>2017-01-01</td>\n",
       "      <td>J Balvin, Pharrell Williams, BIA, Sky</td>\n",
       "      <td>https://open.spotify.com/track/6rQSrBHf7HlZjtc...</td>\n",
       "      <td>Argentina</td>\n",
       "      <td>top200</td>\n",
       "      <td>SAME_POSITION</td>\n",
       "      <td>173865.0</td>\n",
       "      <td>2017-01-01</td>\n",
       "      <td>2017</td>\n",
       "    </tr>\n",
       "    <tr>\n",
       "      <th>4</th>\n",
       "      <td>Shaky Shaky</td>\n",
       "      <td>5</td>\n",
       "      <td>2017-01-01</td>\n",
       "      <td>Daddy Yankee</td>\n",
       "      <td>https://open.spotify.com/track/58IL315gMSTD37D...</td>\n",
       "      <td>Argentina</td>\n",
       "      <td>top200</td>\n",
       "      <td>MOVE_UP</td>\n",
       "      <td>153956.0</td>\n",
       "      <td>2017-01-01</td>\n",
       "      <td>2017</td>\n",
       "    </tr>\n",
       "    <tr>\n",
       "      <th>...</th>\n",
       "      <td>...</td>\n",
       "      <td>...</td>\n",
       "      <td>...</td>\n",
       "      <td>...</td>\n",
       "      <td>...</td>\n",
       "      <td>...</td>\n",
       "      <td>...</td>\n",
       "      <td>...</td>\n",
       "      <td>...</td>\n",
       "      <td>...</td>\n",
       "      <td>...</td>\n",
       "    </tr>\n",
       "    <tr>\n",
       "      <th>164802</th>\n",
       "      <td>めちゃくちゃ</td>\n",
       "      <td>50</td>\n",
       "      <td>2021-07-27</td>\n",
       "      <td>vvpskvd.</td>\n",
       "      <td>https://open.spotify.com/track/0u0ipbfDa5uKTdG...</td>\n",
       "      <td>Ukraine</td>\n",
       "      <td>viral50</td>\n",
       "      <td>NEW_ENTRY</td>\n",
       "      <td>NaN</td>\n",
       "      <td>2021-07-27</td>\n",
       "      <td>2021</td>\n",
       "    </tr>\n",
       "    <tr>\n",
       "      <th>164803</th>\n",
       "      <td>Gris Atardecer</td>\n",
       "      <td>20</td>\n",
       "      <td>2021-07-28</td>\n",
       "      <td>Los Visitantes</td>\n",
       "      <td>https://open.spotify.com/track/5vsdlfsRw5SEayU...</td>\n",
       "      <td>Argentina</td>\n",
       "      <td>viral50</td>\n",
       "      <td>NEW_ENTRY</td>\n",
       "      <td>NaN</td>\n",
       "      <td>2021-07-28</td>\n",
       "      <td>2021</td>\n",
       "    </tr>\n",
       "    <tr>\n",
       "      <th>164804</th>\n",
       "      <td>Imparfait inconnu</td>\n",
       "      <td>28</td>\n",
       "      <td>2021-07-28</td>\n",
       "      <td>Adé</td>\n",
       "      <td>https://open.spotify.com/track/3W7x967esdawMwz...</td>\n",
       "      <td>France</td>\n",
       "      <td>viral50</td>\n",
       "      <td>NEW_ENTRY</td>\n",
       "      <td>NaN</td>\n",
       "      <td>2021-07-28</td>\n",
       "      <td>2021</td>\n",
       "    </tr>\n",
       "    <tr>\n",
       "      <th>164805</th>\n",
       "      <td>Still Holy (feat. Ryan Ofei &amp; Naomi Raine)</td>\n",
       "      <td>47</td>\n",
       "      <td>2021-07-28</td>\n",
       "      <td>Tribl, Maverick City Music</td>\n",
       "      <td>https://open.spotify.com/track/4Cw36mfQ1z4JnjF...</td>\n",
       "      <td>South Africa</td>\n",
       "      <td>viral50</td>\n",
       "      <td>NEW_ENTRY</td>\n",
       "      <td>NaN</td>\n",
       "      <td>2021-07-28</td>\n",
       "      <td>2021</td>\n",
       "    </tr>\n",
       "    <tr>\n",
       "      <th>164806</th>\n",
       "      <td>怎叹</td>\n",
       "      <td>48</td>\n",
       "      <td>2021-07-29</td>\n",
       "      <td>郑鱼</td>\n",
       "      <td>https://open.spotify.com/track/02jBlxoKmrSXrHE...</td>\n",
       "      <td>Singapore</td>\n",
       "      <td>viral50</td>\n",
       "      <td>NEW_ENTRY</td>\n",
       "      <td>NaN</td>\n",
       "      <td>2021-07-29</td>\n",
       "      <td>2021</td>\n",
       "    </tr>\n",
       "  </tbody>\n",
       "</table>\n",
       "<p>164807 rows × 11 columns</p>\n",
       "</div>"
      ],
      "text/plain": [
       "                                             title  rank        date  \\\n",
       "0                          Chantaje (feat. Maluma)     1  2017-01-01   \n",
       "1                      Vente Pa' Ca (feat. Maluma)     2  2017-01-01   \n",
       "2                       Reggaetón Lento (Bailemos)     3  2017-01-01   \n",
       "3                                           Safari     4  2017-01-01   \n",
       "4                                      Shaky Shaky     5  2017-01-01   \n",
       "...                                            ...   ...         ...   \n",
       "164802                                      めちゃくちゃ    50  2021-07-27   \n",
       "164803                              Gris Atardecer    20  2021-07-28   \n",
       "164804                           Imparfait inconnu    28  2021-07-28   \n",
       "164805  Still Holy (feat. Ryan Ofei & Naomi Raine)    47  2021-07-28   \n",
       "164806                                          怎叹    48  2021-07-29   \n",
       "\n",
       "                                       artist  \\\n",
       "0                                     Shakira   \n",
       "1                                Ricky Martin   \n",
       "2                                        CNCO   \n",
       "3       J Balvin, Pharrell Williams, BIA, Sky   \n",
       "4                                Daddy Yankee   \n",
       "...                                       ...   \n",
       "164802                               vvpskvd.   \n",
       "164803                         Los Visitantes   \n",
       "164804                                    Adé   \n",
       "164805             Tribl, Maverick City Music   \n",
       "164806                                     郑鱼   \n",
       "\n",
       "                                                      url        region  \\\n",
       "0       https://open.spotify.com/track/6mICuAdrwEjh6Y6...     Argentina   \n",
       "1       https://open.spotify.com/track/7DM4BPaS7uofFul...     Argentina   \n",
       "2       https://open.spotify.com/track/3AEZUABDXNtecAO...     Argentina   \n",
       "3       https://open.spotify.com/track/6rQSrBHf7HlZjtc...     Argentina   \n",
       "4       https://open.spotify.com/track/58IL315gMSTD37D...     Argentina   \n",
       "...                                                   ...           ...   \n",
       "164802  https://open.spotify.com/track/0u0ipbfDa5uKTdG...       Ukraine   \n",
       "164803  https://open.spotify.com/track/5vsdlfsRw5SEayU...     Argentina   \n",
       "164804  https://open.spotify.com/track/3W7x967esdawMwz...        France   \n",
       "164805  https://open.spotify.com/track/4Cw36mfQ1z4JnjF...  South Africa   \n",
       "164806  https://open.spotify.com/track/02jBlxoKmrSXrHE...     Singapore   \n",
       "\n",
       "          chart          trend   streams date_formatted  year  \n",
       "0        top200  SAME_POSITION  253019.0     2017-01-01  2017  \n",
       "1        top200        MOVE_UP  223988.0     2017-01-01  2017  \n",
       "2        top200      MOVE_DOWN  210943.0     2017-01-01  2017  \n",
       "3        top200  SAME_POSITION  173865.0     2017-01-01  2017  \n",
       "4        top200        MOVE_UP  153956.0     2017-01-01  2017  \n",
       "...         ...            ...       ...            ...   ...  \n",
       "164802  viral50      NEW_ENTRY       NaN     2021-07-27  2021  \n",
       "164803  viral50      NEW_ENTRY       NaN     2021-07-28  2021  \n",
       "164804  viral50      NEW_ENTRY       NaN     2021-07-28  2021  \n",
       "164805  viral50      NEW_ENTRY       NaN     2021-07-28  2021  \n",
       "164806  viral50      NEW_ENTRY       NaN     2021-07-29  2021  \n",
       "\n",
       "[164807 rows x 11 columns]"
      ]
     },
     "execution_count": 38,
     "metadata": {},
     "output_type": "execute_result"
    }
   ],
   "source": [
    "songs['date_formatted'] = pd.to_datetime(songs['date'], format=\"%Y-%m-%d\")\n",
    "songs['year'] = songs['date_formatted'].dt.year\n",
    "songs"
   ]
  },
  {
   "cell_type": "code",
   "execution_count": 60,
   "id": "e525e6f5",
   "metadata": {},
   "outputs": [],
   "source": [
    "for year in pd.unique(songs['year']):\n",
    "    url = songs[songs['year'] == year][['title','date_formatted','url']]\n",
    "    url.reset_index(inplace=True, drop=True)\n",
    "    url.to_csv('Songs URL {}.csv'.format(year), index=False)"
   ]
  },
  {
   "cell_type": "markdown",
   "id": "160c9f35",
   "metadata": {},
   "source": [
    "### Credential"
   ]
  },
  {
   "cell_type": "code",
   "execution_count": 4,
   "id": "0f698268",
   "metadata": {
    "ExecuteTime": {
     "end_time": "2023-03-09T10:40:26.983188Z",
     "start_time": "2023-03-09T10:40:26.979308Z"
    }
   },
   "outputs": [],
   "source": [
    "credentials = json.load(open('authorization.json'))\n",
    "client_id = credentials['client_id']\n",
    "client_secret = credentials['client_secret']\n",
    "\n",
    "# playlist_index = 0\n",
    "\n",
    "# playlists = json.load(open('playlist_like_dislike.json'))\n",
    "# playlist_uri = playlists[playlist_index]['uri']\n",
    "# like = playlists[playlist_index]['like']"
   ]
  },
  {
   "cell_type": "code",
   "execution_count": 5,
   "id": "c75b98e4",
   "metadata": {
    "ExecuteTime": {
     "end_time": "2023-03-09T10:40:28.611431Z",
     "start_time": "2023-03-09T10:40:28.603130Z"
    }
   },
   "outputs": [
    {
     "data": {
      "text/plain": [
       "<spotipy.client.Spotify at 0x7f7c3a299cd0>"
      ]
     },
     "execution_count": 5,
     "metadata": {},
     "output_type": "execute_result"
    }
   ],
   "source": [
    "client_credentials_manager = SpotifyClientCredentials(client_id=client_id,client_secret=client_secret)\n",
    "sp = spotipy.Spotify(client_credentials_manager=client_credentials_manager)\n",
    "sp"
   ]
  },
  {
   "cell_type": "markdown",
   "id": "c7001ab0",
   "metadata": {},
   "source": [
    "### Read URLs"
   ]
  },
  {
   "cell_type": "code",
   "execution_count": 6,
   "id": "c7506f80",
   "metadata": {
    "ExecuteTime": {
     "end_time": "2023-03-09T11:49:57.615647Z",
     "start_time": "2023-03-09T11:49:56.223112Z"
    }
   },
   "outputs": [],
   "source": [
    "years = [2017, 2018, 2019, 2020, 2021]\n",
    "url_years = {}\n",
    "for year in years:\n",
    "    ##Need to dynamically change path here\n",
    "    df = pd.read_csv(\"./Data/Datasets_202303/Songs URL {}.csv\".format(year))\n",
    "    df = pd.DataFrame(df)\n",
    "    df['id'] = df.apply(lambda x: x['url'].split(\"/\")[-1],axis=1)\n",
    "    url_years[year] = df"
   ]
  },
  {
   "cell_type": "markdown",
   "id": "8eb231a2",
   "metadata": {},
   "source": [
    "### 1. Tracks Information\n",
    "To avoid failure due to connection problems, etc. pull the data one year after one year"
   ]
  },
  {
   "cell_type": "markdown",
   "id": "e5b92f98",
   "metadata": {},
   "source": [
    "#### 2017"
   ]
  },
  {
   "cell_type": "code",
   "execution_count": 8,
   "id": "c9b652d7",
   "metadata": {
    "ExecuteTime": {
     "end_time": "2023-03-09T09:18:40.027723Z",
     "start_time": "2023-03-09T09:18:40.023056Z"
    }
   },
   "outputs": [
    {
     "data": {
      "text/plain": [
       "40111"
      ]
     },
     "execution_count": 8,
     "metadata": {},
     "output_type": "execute_result"
    }
   ],
   "source": [
    "year = 2017\n",
    "url = url_years[year]\n",
    "len(url)"
   ]
  },
  {
   "cell_type": "code",
   "execution_count": 49,
   "id": "34ba049b",
   "metadata": {},
   "outputs": [],
   "source": [
    "tracks = []\n",
    "for i in range(0, len(url), 50):\n",
    "    try:\n",
    "        if (i+50) < len(url): \n",
    "            info = sp.tracks(list(url.iloc[i:(i+50)]['id']))['tracks']\n",
    "        else:\n",
    "            info = sp.tracks(list(url.iloc[i:]['id']))['tracks']\n",
    "    except:\n",
    "            client_credentials_manager = SpotifyClientCredentials(client_id=client_id,client_secret=client_secret)\n",
    "            sp = spotipy.Spotify(client_credentials_manager=client_credentials_manager, requests_timeout=5, retries=5)\n",
    "    finally:\n",
    "        if (i+50) < len(url): \n",
    "            info = sp.tracks(list(url.iloc[i:(i+50)]['id']))['tracks']\n",
    "        else:\n",
    "            info = sp.tracks(list(url.iloc[i:]['id']))['tracks']\n",
    "        tracks += info"
   ]
  },
  {
   "cell_type": "code",
   "execution_count": 50,
   "id": "62f52f7f",
   "metadata": {},
   "outputs": [
    {
     "name": "stdout",
     "output_type": "stream",
     "text": [
      "2017 done\n"
     ]
    }
   ],
   "source": [
    "tracks_df = pd.DataFrame(tracks)\n",
    "tracks_df.to_csv('tracks info {}.csv'.format(year))\n",
    "print('{} done'.format(year))"
   ]
  },
  {
   "cell_type": "markdown",
   "id": "75998383",
   "metadata": {},
   "source": [
    "#### 2018"
   ]
  },
  {
   "cell_type": "code",
   "execution_count": 5,
   "id": "00afc033",
   "metadata": {},
   "outputs": [
    {
     "data": {
      "text/plain": [
       "36596"
      ]
     },
     "execution_count": 5,
     "metadata": {},
     "output_type": "execute_result"
    }
   ],
   "source": [
    "year = 2018\n",
    "url = url_years[year]\n",
    "len(url)"
   ]
  },
  {
   "cell_type": "code",
   "execution_count": 6,
   "id": "de1f4e57",
   "metadata": {},
   "outputs": [],
   "source": [
    "tracks = []\n",
    "for i in range(0, 20000, 50):\n",
    "    try:\n",
    "        if (i+50) < 20000: \n",
    "            info = sp.tracks(list(url.iloc[i:(i+50)]['id']))['tracks']\n",
    "        else:\n",
    "            info = sp.tracks(list(url.iloc[i:]['id']))['tracks']\n",
    "    except:\n",
    "            client_credentials_manager = SpotifyClientCredentials(client_id=client_id,client_secret=client_secret)\n",
    "            sp = spotipy.Spotify(client_credentials_manager=client_credentials_manager, requests_timeout=5, retries=5)\n",
    "    finally:\n",
    "        if (i+50) < len(url): \n",
    "            info = sp.tracks(list(url.iloc[i:(i+50)]['id']))['tracks']\n",
    "        else:\n",
    "            info = sp.tracks(list(url.iloc[i:]['id']))['tracks']\n",
    "        tracks += info"
   ]
  },
  {
   "cell_type": "code",
   "execution_count": 8,
   "id": "c23a44bb",
   "metadata": {},
   "outputs": [],
   "source": [
    "for i in range(20000, len(url), 50):\n",
    "    try:\n",
    "        if (i+50) < len(url): \n",
    "            info = sp.tracks(list(url.iloc[i:(i+50)]['id']))['tracks']\n",
    "        else:\n",
    "            info = sp.tracks(list(url.iloc[i:]['id']))['tracks']\n",
    "    except:\n",
    "            client_credentials_manager = SpotifyClientCredentials(client_id=client_id,client_secret=client_secret)\n",
    "            sp = spotipy.Spotify(client_credentials_manager=client_credentials_manager, requests_timeout=5, retries=5)\n",
    "    finally:\n",
    "        if (i+50) < len(url): \n",
    "            info = sp.tracks(list(url.iloc[i:(i+50)]['id']))['tracks']\n",
    "        else:\n",
    "            info = sp.tracks(list(url.iloc[i:]['id']))['tracks']\n",
    "        tracks += info"
   ]
  },
  {
   "cell_type": "code",
   "execution_count": 9,
   "id": "b41e1511",
   "metadata": {},
   "outputs": [
    {
     "name": "stdout",
     "output_type": "stream",
     "text": [
      "2018 done\n"
     ]
    }
   ],
   "source": [
    "tracks_df = pd.DataFrame(tracks)\n",
    "tracks_df.to_csv('tracks info {}.csv'.format(year))\n",
    "print('{} done'.format(year))"
   ]
  },
  {
   "cell_type": "markdown",
   "id": "4aaf2b73",
   "metadata": {},
   "source": [
    "#### 2019"
   ]
  },
  {
   "cell_type": "code",
   "execution_count": 5,
   "id": "907e04dd",
   "metadata": {},
   "outputs": [
    {
     "data": {
      "text/plain": [
       "27658"
      ]
     },
     "execution_count": 5,
     "metadata": {},
     "output_type": "execute_result"
    }
   ],
   "source": [
    "year = 2019\n",
    "url = url_years[year]\n",
    "len(url)"
   ]
  },
  {
   "cell_type": "code",
   "execution_count": 8,
   "id": "2936ce8a",
   "metadata": {},
   "outputs": [],
   "source": [
    "tracks = []\n",
    "for i in range(0, len(url), 50):\n",
    "    try:\n",
    "        if (i+50) < len(url): \n",
    "            info = sp.tracks(list(url.iloc[i:(i+50)]['id']))['tracks']\n",
    "        else:\n",
    "            info = sp.tracks(list(url.iloc[i:]['id']))['tracks']\n",
    "    except:\n",
    "            client_credentials_manager = SpotifyClientCredentials(client_id=client_id,client_secret=client_secret)\n",
    "            sp = spotipy.Spotify(client_credentials_manager=client_credentials_manager, requests_timeout=5, retries=5)\n",
    "    finally:\n",
    "        if (i+50) < len(url): \n",
    "            info = sp.tracks(list(url.iloc[i:(i+50)]['id']))['tracks']\n",
    "        else:\n",
    "            info = sp.tracks(list(url.iloc[i:]['id']))['tracks']\n",
    "        tracks += info"
   ]
  },
  {
   "cell_type": "code",
   "execution_count": 9,
   "id": "82bc2a79",
   "metadata": {},
   "outputs": [
    {
     "name": "stdout",
     "output_type": "stream",
     "text": [
      "2019 done\n"
     ]
    }
   ],
   "source": [
    "tracks_df = pd.DataFrame(tracks)\n",
    "tracks_df.to_csv('tracks info {}.csv'.format(year))\n",
    "print('{} done'.format(year))"
   ]
  },
  {
   "cell_type": "markdown",
   "id": "53a55472",
   "metadata": {},
   "source": [
    "#### 2020"
   ]
  },
  {
   "cell_type": "code",
   "execution_count": 52,
   "id": "8b1705ae",
   "metadata": {},
   "outputs": [],
   "source": [
    "url_2020 = url_years[2020]\n",
    "tracks_info = []\n",
    "for i in range(0, 10000, 50):\n",
    "    if (i+50) < len(url_2020): \n",
    "        tracks_info += sp.tracks(list(url_2020.iloc[i:(i+50)]['id']))['tracks']\n",
    "    else:\n",
    "        tracks_info += sp.tracks(list(url_2020.iloc[i:]['id']))['tracks']"
   ]
  },
  {
   "cell_type": "code",
   "execution_count": 53,
   "id": "fd4e27a1",
   "metadata": {},
   "outputs": [],
   "source": [
    "pd.DataFrame(tracks_info).to_csv(\"sample_info.csv\")"
   ]
  },
  {
   "cell_type": "code",
   "execution_count": 56,
   "id": "9084f326",
   "metadata": {},
   "outputs": [],
   "source": [
    "tracks = []\n",
    "for i in range(0, len(url_2020), 50):\n",
    "    try:\n",
    "        if (i+50) < len(url_2020): \n",
    "            info = sp.tracks(list(url_2020.iloc[i:(i+50)]['id']))['tracks']\n",
    "        else:\n",
    "            info = sp.tracks(list(url_2020.iloc[i:]['id']))['tracks']\n",
    "    except:\n",
    "            client_credentials_manager = SpotifyClientCredentials(client_id=client_id,client_secret=client_secret)\n",
    "            sp = spotipy.Spotify(client_credentials_manager=client_credentials_manager, requests_timeout=5, retries=5)\n",
    "    finally:\n",
    "        if (i+50) < len(url_2020): \n",
    "            info = sp.tracks(list(url_2020.iloc[i:(i+50)]['id']))['tracks']\n",
    "        else:\n",
    "            info = sp.tracks(list(url_2020.iloc[i:]['id']))['tracks']\n",
    "        tracks += info"
   ]
  },
  {
   "cell_type": "code",
   "execution_count": 62,
   "id": "6e400df7",
   "metadata": {},
   "outputs": [],
   "source": [
    "tracks_df = pd.DataFrame(tracks)\n",
    "tracks_df.to_csv('tracks info 2020.csv')"
   ]
  },
  {
   "cell_type": "markdown",
   "id": "e7c646e7",
   "metadata": {},
   "source": [
    "#### 2021"
   ]
  },
  {
   "cell_type": "code",
   "execution_count": 9,
   "id": "cbf55048",
   "metadata": {
    "ExecuteTime": {
     "end_time": "2023-03-09T09:18:59.113428Z",
     "start_time": "2023-03-09T09:18:59.106418Z"
    }
   },
   "outputs": [
    {
     "data": {
      "text/plain": [
       "28024"
      ]
     },
     "execution_count": 9,
     "metadata": {},
     "output_type": "execute_result"
    }
   ],
   "source": [
    "year = 2021\n",
    "url = url_years[year]\n",
    "len(url)"
   ]
  },
  {
   "cell_type": "code",
   "execution_count": 52,
   "id": "5d6f81eb",
   "metadata": {},
   "outputs": [],
   "source": [
    "tracks = []\n",
    "for i in range(0, len(url), 50):\n",
    "    try:\n",
    "        if (i+50) < len(url): \n",
    "            info = sp.tracks(list(url.iloc[i:(i+50)]['id']))['tracks']\n",
    "        else:\n",
    "            info = sp.tracks(list(url.iloc[i:]['id']))['tracks']\n",
    "    except:\n",
    "            client_credentials_manager = SpotifyClientCredentials(client_id=client_id,client_secret=client_secret)\n",
    "            sp = spotipy.Spotify(client_credentials_manager=client_credentials_manager, requests_timeout=5, retries=5)\n",
    "    finally:\n",
    "        if (i+50) < len(url): \n",
    "            info = sp.tracks(list(url.iloc[i:(i+50)]['id']))['tracks']\n",
    "        else:\n",
    "            info = sp.tracks(list(url.iloc[i:]['id']))['tracks']\n",
    "        tracks += info"
   ]
  },
  {
   "cell_type": "code",
   "execution_count": 53,
   "id": "4af8674b",
   "metadata": {},
   "outputs": [
    {
     "name": "stdout",
     "output_type": "stream",
     "text": [
      "2021 done\n"
     ]
    }
   ],
   "source": [
    "tracks_df = pd.DataFrame(tracks)\n",
    "tracks_df.to_csv('tracks info {}.csv'.format(year))\n",
    "print('{} done'.format(year))"
   ]
  },
  {
   "cell_type": "markdown",
   "id": "ab93601d",
   "metadata": {},
   "source": [
    "### 2. Audio Features"
   ]
  },
  {
   "cell_type": "code",
   "execution_count": 47,
   "id": "289a45b3",
   "metadata": {},
   "outputs": [
    {
     "name": "stdout",
     "output_type": "stream",
     "text": [
      "2017 done\n",
      "2018 done\n",
      "2019 done\n",
      "2020 done\n",
      "2021 done\n"
     ]
    }
   ],
   "source": [
    "for year in years:\n",
    "    url = url_years[year]\n",
    "    audio_feat=[]\n",
    "    for i in range(0, len(url), 100):\n",
    "        if (i+100) < len(url): \n",
    "            audio_feat += list(sp.audio_features(list(url.iloc[i:(i+100)]['id'])))\n",
    "        else:\n",
    "            audio_feat += list(sp.audio_features(list(url.iloc[i:]['id'])))\n",
    "    # Deal with None objects\n",
    "    audio_feat = list(filter(lambda x: x is not None, audio_feat))\n",
    "    audio_feat_df = pd.DataFrame(audio_feat)\n",
    "    audio_feat_df.to_csv('audio feat {}.csv'.format(year))\n",
    "    print(\"{} done\".format(year))"
   ]
  },
  {
   "cell_type": "markdown",
   "id": "0a7c2b90",
   "metadata": {},
   "source": [
    "### 3. Audio Analysis (1 by 1)"
   ]
  },
  {
   "cell_type": "markdown",
   "id": "9b2cc5b3",
   "metadata": {},
   "source": [
    "#### Retrieve data"
   ]
  },
  {
   "cell_type": "code",
   "execution_count": 20,
   "id": "d0abafdf",
   "metadata": {
    "ExecuteTime": {
     "start_time": "2023-03-09T11:51:35.263Z"
    }
   },
   "outputs": [
    {
     "name": "stdout",
     "output_type": "stream",
     "text": [
      "2019 audio analysis\n"
     ]
    },
    {
     "name": "stderr",
     "output_type": "stream",
     "text": [
      " 55%|█████▍    | 15100/27658 [19:40:19<22:35:36,  6.48s/it]   HTTP Error for GET to https://api.spotify.com/v1/audio-analysis/2iloHpNNVB5FJDBtEBEIB2 with Params: {} returned 404 due to analysis not found\n",
      " 71%|███████▏  | 19772/27658 [39:05:16<35:18:14, 16.12s/it]  Max Retries reached\n",
      " 73%|███████▎  | 20182/27658 [41:41:57<48:13:44, 23.22s/it]  Max Retries reached\n",
      " 80%|███████▉  | 22066/27658 [55:15:39<33:52:54, 21.81s/it] HTTP Error for GET to https://api.spotify.com/v1/audio-analysis/5VKJr18j5O5Bl4KeYrBH0K with Params: {} returned 404 due to analysis not found\n",
      " 81%|████████▏ | 22473/27658 [58:35:55<37:25:31, 25.98s/it]Max Retries reached\n",
      " 82%|████████▏ | 22550/27658 [59:09:35<36:11:41, 25.51s/it]Max Retries reached\n",
      " 90%|████████▉ | 24782/27658 [79:45:45<33:04:27, 41.40s/it]  "
     ]
    }
   ],
   "source": [
    "# for yr, url in url_years.items():\n",
    "#     metas = pd.DataFrame(columns=['id','analyzer_version', 'platform', 'detailed_status', 'status_code', 'timestamp', 'analysis_time', 'input_process'])\n",
    "#     tracks = pd.DataFrame(columns=['id','num_samples', 'duration', 'sample_md5', 'offset_seconds', 'window_seconds', 'analysis_sample_rate', 'analysis_channels', 'end_of_fade_in', 'start_of_fade_out', 'loudness', 'tempo', 'tempo_confidence', 'time_signature', 'time_signature_confidence', 'key', 'key_confidence', 'mode', 'mode_confidence', 'codestring', 'code_version', 'echoprintstring', 'echoprint_version', 'synchstring', 'synch_version', 'rhythmstring', 'rhythm_version'])\n",
    "#     bars = pd.DataFrame(columns=['id','start', 'duration', 'confidence'])\n",
    "#     beats = pd.DataFrame(columns=['id','start', 'duration', 'confidence'])\n",
    "#     sections = pd.DataFrame(columns=['id','start', 'duration', 'confidence', 'loudness', 'tempo', 'tempo_confidence', 'key', 'key_confidence', 'mode', 'mode_confidence', 'time_signature', 'time_signature_confidence'])\n",
    "#     segments = pd.DataFrame(columns=['id','start', 'duration', 'confidence', 'loudness_start', 'loudness_max_time', 'loudness_max', 'loudness_end', 'pitches', 'timbre'])\n",
    "#     tatums = pd.DataFrame(columns=['id','start', 'duration', 'confidence'])\n",
    "#     print(f'{yr} audio analysis')\n",
    "#     for i in tqdm(range(len(url))):\n",
    "#         if i%1000 ==0:\n",
    "#             time.sleep(5)\n",
    "#             client_credentials_manager = SpotifyClientCredentials(client_id=client_id,client_secret=client_secret)\n",
    "#             sp = spotipy.Spotify(client_credentials_manager=client_credentials_manager, requests_timeout=5, retries=5)\n",
    "    \n",
    "#         song_id = url.iloc[i]['id']\n",
    "#         try:\n",
    "#             analysis = sp.audio_analysis(song_id)\n",
    "        \n",
    "#             meta = pd.DataFrame([analysis['meta']])\n",
    "#             meta['id'] = song_id\n",
    "#             metas = pd.concat([metas, meta])\n",
    "            \n",
    "#             track = pd.DataFrame([analysis['track']])\n",
    "#             track['id'] = song_id\n",
    "#             tracks = pd.concat([tracks, track])\n",
    "            \n",
    "#             bar = pd.DataFrame(analysis['bars'])\n",
    "#             bar['id'] = song_id\n",
    "#             bars = pd.concat([bars, bar])\n",
    "            \n",
    "#             beat = pd.DataFrame(analysis['beats'])\n",
    "#             beat['id'] = song_id\n",
    "#             beats = pd.concat([beats, beat])\n",
    "\n",
    "#             section = pd.DataFrame(analysis['sections'])\n",
    "#             section['id'] = song_id\n",
    "#             sections = pd.concat([sections, section])\n",
    "                \n",
    "#             segment = pd.DataFrame(analysis['segments'])\n",
    "#             segment['id'] = song_id\n",
    "#             segments = pd.concat([segments, segment])\n",
    "\n",
    "#             tatum = pd.DataFrame(analysis['tatums'])\n",
    "#             tatum['id'] = song_id\n",
    "#             tatums = pd.concat([tatums, tatum])        \n",
    "#         except:\n",
    "#             time.sleep(5)\n",
    "#             client_credentials_manager = SpotifyClientCredentials(client_id=client_id,client_secret=client_secret)\n",
    "#             sp = spotipy.Spotify(client_credentials_manager=client_credentials_manager, requests_timeout=5, retries=5)\n",
    "#             continue\n",
    "    \n",
    "#     metas.to_csv(f'./Data/Datasets_202303/Metas {yr}.csv', index=False)\n",
    "    \n",
    "#     tracks.to_csv(f'./Data/Datasets_202303/Tracks {yr}.csv', index=False)\n",
    "    \n",
    "#     bars.to_csv(f'./Data/Datasets_202303/Bars {yr}.csv', index=False)\n",
    "    \n",
    "#     beats.to_csv(f'./Data/Datasets_202303/Beats {yr}.csv', index=False)\n",
    "    \n",
    "#     sections.to_csv(f'./Data/Datasets_202303/Sections {yr}.csv', index=False)\n",
    "    \n",
    "#     segments.to_csv(f'./Data/Datasets_202303/Segments {yr}.csv', index=False)\n",
    "    \n",
    "#     tatums.to_csv(f'./Data/Datasets_202303/Tatums {yr}.csv', index=False)"
   ]
  },
  {
   "cell_type": "markdown",
   "id": "10d85148",
   "metadata": {},
   "source": [
    "Found that the data in audio analysis not that useful for our model."
   ]
  },
  {
   "cell_type": "markdown",
   "id": "443e3e49",
   "metadata": {},
   "source": [
    "# Genres of artist from playlist"
   ]
  },
  {
   "cell_type": "code",
   "execution_count": 2,
   "id": "100dec91",
   "metadata": {},
   "outputs": [],
   "source": [
    "import spotipy\n",
    "from spotipy.oauth2 import SpotifyClientCredentials\n",
    "import json\n",
    "import pandas as pd\n",
    "CLIENT_ID = \"1df428c209e1446393cb65f76ad8b561\"\n",
    "CLIENT_SECRET = \"9aa98cbea9044e5da7773b54d15c8a45\"\n",
    "from spotipy.oauth2 import SpotifyClientCredentials\n",
    "client_credentials_manager = SpotifyClientCredentials(client_id=CLIENT_ID, client_secret=CLIENT_SECRET)\n",
    "sp = spotipy.Spotify(client_credentials_manager=client_credentials_manager)"
   ]
  },
  {
   "cell_type": "code",
   "execution_count": 3,
   "id": "aa620ac5",
   "metadata": {},
   "outputs": [],
   "source": [
    "playlist_link = \"https://open.spotify.com/playlist/37i9dQZEVXbNG2KDcFcKOF?si=1333723a6eff4b7f\"\n",
    "playlist_URI = playlist_link.split(\"/\")[-1].split(\"?\")[0]\n",
    "track_uris = [x[\"track\"][\"uri\"] for x in sp.playlist_tracks(playlist_URI)[\"items\"]]"
   ]
  },
  {
   "cell_type": "code",
   "execution_count": 4,
   "id": "b4842b74",
   "metadata": {},
   "outputs": [],
   "source": [
    "artist_genres = []"
   ]
  },
  {
   "cell_type": "code",
   "execution_count": 7,
   "id": "27a23b0d",
   "metadata": {},
   "outputs": [],
   "source": [
    "for track in sp.playlist_tracks(playlist_URI)[\"items\"]:\n",
    "    #URI\n",
    "    track_uri = track[\"track\"][\"uri\"]\n",
    "    \n",
    "    #Track name\n",
    "    track_name = track[\"track\"][\"name\"]\n",
    "    \n",
    "    #Main Artist\n",
    "    artist_uri = track[\"track\"][\"artists\"][0][\"uri\"]\n",
    "    artist_id = track[\"track\"][\"artists\"][0][\"id\"]\n",
    "    artist_info = sp.artist(artist_uri)\n",
    "    \n",
    "    #Name, popularity, genre\n",
    "    artist_name = track[\"track\"][\"artists\"][0][\"name\"]\n",
    "    artist_pop = artist_info[\"popularity\"]\n",
    "    artist_genres.append(artist_info[\"genres\"])\n",
    "    \n",
    "    #Album\n",
    "    album = track[\"track\"][\"album\"][\"name\"]\n",
    "#     album_uri = album[\"uri\"]\n",
    "#     album_info = sp.album(album_uri)\n",
    "#     album_genres.append(album_info[\"genres\"])\n",
    "    \n",
    "    #Popularity of the track\n",
    "    track_pop = track[\"track\"][\"popularity\"]"
   ]
  },
  {
   "cell_type": "code",
   "execution_count": 10,
   "id": "11c7987f",
   "metadata": {},
   "outputs": [
    {
     "name": "stdout",
     "output_type": "stream",
     "text": [
      "id:0uGWkZRPp1Urk77XBrPBsZ\n",
      "uri:spotify:artist:0uGWkZRPp1Urk77XBrPBsZ\n"
     ]
    }
   ],
   "source": [
    "# print(\"id:\"+artist_id)\n",
    "# print(\"uri:\"+artist_uri)"
   ]
  },
  {
   "cell_type": "code",
   "execution_count": 6,
   "id": "5be4ac00",
   "metadata": {},
   "outputs": [
    {
     "data": {
      "text/plain": [
       "[['reggaeton', 'reggaeton colombiano', 'urbano latino'],\n",
       " ['canadian contemporary r&b', 'canadian pop', 'pop'],\n",
       " ['pop'],\n",
       " ['pop', 'r&b'],\n",
       " [],\n",
       " ['argentine hip hop',\n",
       "  'pop venezolano',\n",
       "  'trap argentino',\n",
       "  'trap latino',\n",
       "  'urbano latino'],\n",
       " ['pop'],\n",
       " ['rap'],\n",
       " ['latin hip hop', 'reggaeton', 'urbano latino'],\n",
       " ['nigerian pop'],\n",
       " ['pop', 'uk pop'],\n",
       " ['alternative hip hop'],\n",
       " ['colombian pop',\n",
       "  'latin pop',\n",
       "  'reggaeton',\n",
       "  'reggaeton colombiano',\n",
       "  'urbano latino'],\n",
       " ['contemporary country'],\n",
       " ['big room', 'dance pop', 'edm', 'pop', 'pop dance'],\n",
       " ['canadian contemporary r&b', 'canadian pop', 'pop'],\n",
       " ['puerto rican pop', 'reggaeton', 'trap latino', 'urbano latino'],\n",
       " ['dance pop', 'pop', 'uk contemporary r&b'],\n",
       " ['bedroom pop'],\n",
       " ['pop'],\n",
       " ['k-pop', 'k-pop girl group'],\n",
       " ['gen z singer-songwriter', 'pop'],\n",
       " ['canadian contemporary r&b', 'canadian pop', 'pop'],\n",
       " ['reggaeton', 'reggaeton colombiano', 'urbano latino'],\n",
       " ['k-pop', 'k-rap'],\n",
       " ['chill pop', 'pop'],\n",
       " ['modern indie pop'],\n",
       " ['latin hip hop', 'reggaeton', 'urbano latino'],\n",
       " ['argentine hip hop',\n",
       "  'pop venezolano',\n",
       "  'trap argentino',\n",
       "  'trap latino',\n",
       "  'urbano latino'],\n",
       " ['corrido',\n",
       "  'corridos tumbados',\n",
       "  'musica mexicana',\n",
       "  'nueva musica mexicana',\n",
       "  'sad sierreno',\n",
       "  'sierreno'],\n",
       " ['new jersey underground rap', 'rap', 'trap queen', 'viral rap'],\n",
       " ['piano rock', 'pop'],\n",
       " ['garage rock', 'modern rock', 'permanent wave', 'rock', 'sheffield indie'],\n",
       " ['sad sierreno'],\n",
       " ['colombian pop', 'pop reggaeton', 'reggaeton colombiano', 'urbano latino'],\n",
       " ['dance pop', 'pop', 'r&b'],\n",
       " ['pop', 'r&b'],\n",
       " ['boston folk', 'indie pop', 'pop'],\n",
       " ['modern rock', 'rock'],\n",
       " ['melodic rap', 'philly rap', 'rap', 'trap'],\n",
       " ['corrido',\n",
       "  'corridos tumbados',\n",
       "  'nueva musica mexicana',\n",
       "  'sad sierreno',\n",
       "  'sierreno'],\n",
       " ['detroit hip hop', 'hip hop', 'rap'],\n",
       " ['k-pop', 'k-pop girl group'],\n",
       " ['reggaeton', 'trap latino', 'urbano latino'],\n",
       " ['dance pop', 'r&b'],\n",
       " ['canadian hip hop', 'canadian pop', 'hip hop', 'rap', 'toronto rap'],\n",
       " ['canadian contemporary r&b', 'canadian pop', 'pop'],\n",
       " ['trap argentino', 'trap triste'],\n",
       " ['colombian pop', 'pop reggaeton', 'reggaeton colombiano', 'urbano latino'],\n",
       " ['sertanejo pop']]"
      ]
     },
     "execution_count": 6,
     "metadata": {},
     "output_type": "execute_result"
    }
   ],
   "source": [
    "artist_genres"
   ]
  },
  {
   "cell_type": "markdown",
   "id": "e83e549b",
   "metadata": {},
   "source": [
    "## trial get artist using id"
   ]
  },
  {
   "cell_type": "code",
   "execution_count": 16,
   "id": "110bc351",
   "metadata": {},
   "outputs": [],
   "source": [
    "for track in sp.playlist_tracks(playlist_URI)[\"items\"]:\n",
    "    #Main Artist\n",
    "    artist_uri = track[\"track\"][\"artists\"][0][\"uri\"]\n",
    "    artist_id = track[\"track\"][\"artists\"][0][\"id\"]\n",
    "    \n",
    "    change = \"spotify:artist:\"+artist_id\n",
    "    artist_info = sp.artist(change)"
   ]
  },
  {
   "cell_type": "code",
   "execution_count": 15,
   "id": "cad678ce",
   "metadata": {},
   "outputs": [
    {
     "name": "stdout",
     "output_type": "stream",
     "text": [
      "spotify:artist:0uGWkZRPp1Urk77XBrPBsZ\n",
      "spotify:artist:0uGWkZRPp1Urk77XBrPBsZ\n"
     ]
    }
   ],
   "source": [
    "print(artist_uri)\n",
    "print(change)"
   ]
  },
  {
   "cell_type": "code",
   "execution_count": 44,
   "id": "0cd14da2",
   "metadata": {},
   "outputs": [],
   "source": [
    "id_data = pd.read_csv(\"ids 2017.csv\")"
   ]
  },
  {
   "cell_type": "code",
   "execution_count": 45,
   "id": "ec5333c4",
   "metadata": {},
   "outputs": [
    {
     "data": {
      "text/plain": [
       "0        ['0EmeFodog0BfCgMzAIvKQp', '1r4hJ1h58CWwUQe3Mx...\n",
       "1        ['7slfeZO9LsJbWgpkIoXBUJ', '1r4hJ1h58CWwUQe3Mx...\n",
       "2                               ['0eecdvMrqBftK0M1VKhaF4']\n",
       "3        ['1vyhD5VmyZ7KMfW5gqLgo5', '2RdwBSPQiwcmiDo9ki...\n",
       "4                               ['4VMYDCV2IEDYJArk749S6m']\n",
       "                               ...                        \n",
       "40106                           ['7n2Ycct7Beij7Dj7meI4X0']\n",
       "40107                           ['5MGxwE9JG5IA6uqswrgNL6']\n",
       "40108                           ['6HqmbF07PwECQJYSLamU2Y']\n",
       "40109                           ['7r0XhTtL6mkH36KJtlkGlb']\n",
       "40110    ['0FQHLgDeg1QZGzkyRxAPRd', '5bcN6FYdeelxBX6uo0...\n",
       "Name: artists_id, Length: 40111, dtype: object"
      ]
     },
     "execution_count": 45,
     "metadata": {},
     "output_type": "execute_result"
    }
   ],
   "source": [
    "id_data['artists_id']"
   ]
  },
  {
   "cell_type": "code",
   "execution_count": 46,
   "id": "a99e0eaa",
   "metadata": {},
   "outputs": [],
   "source": [
    "# split =  id_data['artists_id'][0].apply(lambda x: [name.strip() for name in x.split(',')])"
   ]
  },
  {
   "cell_type": "code",
   "execution_count": 47,
   "id": "28b3756c",
   "metadata": {},
   "outputs": [
    {
     "data": {
      "text/plain": [
       "'['"
      ]
     },
     "execution_count": 47,
     "metadata": {},
     "output_type": "execute_result"
    }
   ],
   "source": [
    "split"
   ]
  },
  {
   "cell_type": "code",
   "execution_count": 35,
   "id": "c8353440",
   "metadata": {},
   "outputs": [],
   "source": [
    "#change id to uri\n",
    "id_data['artists_id'] = id_data['artists_id'].apply(lambda x: ['spotify:artist:' + id for id in x])"
   ]
  },
  {
   "cell_type": "code",
   "execution_count": null,
   "id": "b70a2e2c",
   "metadata": {},
   "outputs": [],
   "source": []
  },
  {
   "cell_type": "code",
   "execution_count": null,
   "id": "26781686",
   "metadata": {},
   "outputs": [],
   "source": []
  }
 ],
 "metadata": {
  "kernelspec": {
   "display_name": "Python 3 (ipykernel)",
   "language": "python",
   "name": "python3"
  },
  "language_info": {
   "codemirror_mode": {
    "name": "ipython",
    "version": 3
   },
   "file_extension": ".py",
   "mimetype": "text/x-python",
   "name": "python",
   "nbconvert_exporter": "python",
   "pygments_lexer": "ipython3",
   "version": "3.9.13"
  },
  "toc": {
   "base_numbering": 1,
   "nav_menu": {},
   "number_sections": true,
   "sideBar": true,
   "skip_h1_title": false,
   "title_cell": "Table of Contents",
   "title_sidebar": "Contents",
   "toc_cell": false,
   "toc_position": {},
   "toc_section_display": true,
   "toc_window_display": false
  },
  "varInspector": {
   "cols": {
    "lenName": 16,
    "lenType": 16,
    "lenVar": 40
   },
   "kernels_config": {
    "python": {
     "delete_cmd_postfix": "",
     "delete_cmd_prefix": "del ",
     "library": "var_list.py",
     "varRefreshCmd": "print(var_dic_list())"
    },
    "r": {
     "delete_cmd_postfix": ") ",
     "delete_cmd_prefix": "rm(",
     "library": "var_list.r",
     "varRefreshCmd": "cat(var_dic_list()) "
    }
   },
   "types_to_exclude": [
    "module",
    "function",
    "builtin_function_or_method",
    "instance",
    "_Feature"
   ],
   "window_display": false
  }
 },
 "nbformat": 4,
 "nbformat_minor": 5
}
